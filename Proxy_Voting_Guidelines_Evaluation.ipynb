{
  "cells": [
    {
      "cell_type": "markdown",
      "metadata": {
        "id": "CraP9iLBgUJ0"
      },
      "source": [
        "# Proxy Voting Guidelines Evaluation"
      ]
    },
    {
      "cell_type": "code",
      "execution_count": 5,
      "metadata": {
        "colab": {
          "base_uri": "https://localhost:8080/"
        },
        "id": "H8o0rtXLjCgJ",
        "outputId": "56ca0deb-cbd5-4162-b073-2c7e902e654a"
      },
      "outputs": [
        {
          "name": "stdout",
          "output_type": "stream",
          "text": [
            "Collecting pdfminer.six\n",
            "  Downloading pdfminer.six-20240706-py3-none-any.whl.metadata (4.1 kB)\n",
            "Requirement already satisfied: charset-normalizer>=2.0.0 in /usr/local/lib/python3.11/dist-packages (from pdfminer.six) (3.4.1)\n",
            "Requirement already satisfied: cryptography>=36.0.0 in /usr/local/lib/python3.11/dist-packages (from pdfminer.six) (43.0.3)\n",
            "Requirement already satisfied: cffi>=1.12 in /usr/local/lib/python3.11/dist-packages (from cryptography>=36.0.0->pdfminer.six) (1.17.1)\n",
            "Requirement already satisfied: pycparser in /usr/local/lib/python3.11/dist-packages (from cffi>=1.12->cryptography>=36.0.0->pdfminer.six) (2.22)\n",
            "Downloading pdfminer.six-20240706-py3-none-any.whl (5.6 MB)\n",
            "\u001b[?25l   \u001b[90m━━━━━━━━━━━━━━━━━━━━━━━━━━━━━━━━━━━━━━━━\u001b[0m \u001b[32m0.0/5.6 MB\u001b[0m \u001b[31m?\u001b[0m eta \u001b[36m-:--:--\u001b[0m\r\u001b[2K   \u001b[91m╸\u001b[0m\u001b[90m━━━━━━━━━━━━━━━━━━━━━━━━━━━━━━━━━━━━━━━\u001b[0m \u001b[32m0.1/5.6 MB\u001b[0m \u001b[31m3.0 MB/s\u001b[0m eta \u001b[36m0:00:02\u001b[0m\r\u001b[2K   \u001b[91m━━━━\u001b[0m\u001b[91m╸\u001b[0m\u001b[90m━━━━━━━━━━━━━━━━━━━━━━━━━━━━━━━━━━━\u001b[0m \u001b[32m0.7/5.6 MB\u001b[0m \u001b[31m10.3 MB/s\u001b[0m eta \u001b[36m0:00:01\u001b[0m\r\u001b[2K   \u001b[91m━━━━━━━━━━━━━━━━━━━━━━━━━━\u001b[0m\u001b[91m╸\u001b[0m\u001b[90m━━━━━━━━━━━━━\u001b[0m \u001b[32m3.7/5.6 MB\u001b[0m \u001b[31m35.7 MB/s\u001b[0m eta \u001b[36m0:00:01\u001b[0m\r\u001b[2K   \u001b[91m━━━━━━━━━━━━━━━━━━━━━━━━━━━━━━━━━━━━━━━\u001b[0m\u001b[91m╸\u001b[0m \u001b[32m5.6/5.6 MB\u001b[0m \u001b[31m47.7 MB/s\u001b[0m eta \u001b[36m0:00:01\u001b[0m\r\u001b[2K   \u001b[90m━━━━━━━━━━━━━━━━━━━━━━━━━━━━━━━━━━━━━━━━\u001b[0m \u001b[32m5.6/5.6 MB\u001b[0m \u001b[31m35.4 MB/s\u001b[0m eta \u001b[36m0:00:00\u001b[0m\n",
            "\u001b[?25hInstalling collected packages: pdfminer.six\n",
            "Successfully installed pdfminer.six-20240706\n"
          ]
        }
      ],
      "source": [
        "pip install pdfminer.six"
      ]
    },
    {
      "cell_type": "code",
      "execution_count": 7,
      "metadata": {
        "colab": {
          "base_uri": "https://localhost:8080/"
        },
        "id": "TSd0oNl9R_6t",
        "outputId": "1cca18f4-d9b1-4408-ca88-bc05f95731b7"
      },
      "outputs": [
        {
          "name": "stdout",
          "output_type": "stream",
          "text": [
            "Requirement already satisfied: openai in /usr/local/lib/python3.11/dist-packages (1.61.1)\n",
            "Requirement already satisfied: anyio<5,>=3.5.0 in /usr/local/lib/python3.11/dist-packages (from openai) (3.7.1)\n",
            "Requirement already satisfied: distro<2,>=1.7.0 in /usr/local/lib/python3.11/dist-packages (from openai) (1.9.0)\n",
            "Requirement already satisfied: httpx<1,>=0.23.0 in /usr/local/lib/python3.11/dist-packages (from openai) (0.28.1)\n",
            "Requirement already satisfied: jiter<1,>=0.4.0 in /usr/local/lib/python3.11/dist-packages (from openai) (0.8.2)\n",
            "Requirement already satisfied: pydantic<3,>=1.9.0 in /usr/local/lib/python3.11/dist-packages (from openai) (2.10.6)\n",
            "Requirement already satisfied: sniffio in /usr/local/lib/python3.11/dist-packages (from openai) (1.3.1)\n",
            "Requirement already satisfied: tqdm>4 in /usr/local/lib/python3.11/dist-packages (from openai) (4.67.1)\n",
            "Requirement already satisfied: typing-extensions<5,>=4.11 in /usr/local/lib/python3.11/dist-packages (from openai) (4.12.2)\n",
            "Requirement already satisfied: idna>=2.8 in /usr/local/lib/python3.11/dist-packages (from anyio<5,>=3.5.0->openai) (3.10)\n",
            "Requirement already satisfied: certifi in /usr/local/lib/python3.11/dist-packages (from httpx<1,>=0.23.0->openai) (2025.1.31)\n",
            "Requirement already satisfied: httpcore==1.* in /usr/local/lib/python3.11/dist-packages (from httpx<1,>=0.23.0->openai) (1.0.7)\n",
            "Requirement already satisfied: h11<0.15,>=0.13 in /usr/local/lib/python3.11/dist-packages (from httpcore==1.*->httpx<1,>=0.23.0->openai) (0.14.0)\n",
            "Requirement already satisfied: annotated-types>=0.6.0 in /usr/local/lib/python3.11/dist-packages (from pydantic<3,>=1.9.0->openai) (0.7.0)\n",
            "Requirement already satisfied: pydantic-core==2.27.2 in /usr/local/lib/python3.11/dist-packages (from pydantic<3,>=1.9.0->openai) (2.27.2)\n"
          ]
        }
      ],
      "source": [
        "pip install openai"
      ]
    },
    {
      "cell_type": "code",
      "execution_count": 6,
      "metadata": {
        "colab": {
          "base_uri": "https://localhost:8080/"
        },
        "id": "EuE4WpLj8hz5",
        "outputId": "f5086292-7199-4725-e825-703a883a537f"
      },
      "outputs": [
        {
          "name": "stdout",
          "output_type": "stream",
          "text": [
            "Collecting sec-edgar-downloader\n",
            "  Downloading sec_edgar_downloader-5.0.3-py3-none-any.whl.metadata (11 kB)\n",
            "Requirement already satisfied: requests in /usr/local/lib/python3.11/dist-packages (from sec-edgar-downloader) (2.32.3)\n",
            "Collecting pyrate-limiter>=3.6.0 (from sec-edgar-downloader)\n",
            "  Downloading pyrate_limiter-3.7.0-py3-none-any.whl.metadata (25 kB)\n",
            "Requirement already satisfied: charset-normalizer<4,>=2 in /usr/local/lib/python3.11/dist-packages (from requests->sec-edgar-downloader) (3.4.1)\n",
            "Requirement already satisfied: idna<4,>=2.5 in /usr/local/lib/python3.11/dist-packages (from requests->sec-edgar-downloader) (3.10)\n",
            "Requirement already satisfied: urllib3<3,>=1.21.1 in /usr/local/lib/python3.11/dist-packages (from requests->sec-edgar-downloader) (2.3.0)\n",
            "Requirement already satisfied: certifi>=2017.4.17 in /usr/local/lib/python3.11/dist-packages (from requests->sec-edgar-downloader) (2025.1.31)\n",
            "Downloading sec_edgar_downloader-5.0.3-py3-none-any.whl (14 kB)\n",
            "Downloading pyrate_limiter-3.7.0-py3-none-any.whl (28 kB)\n",
            "Installing collected packages: pyrate-limiter, sec-edgar-downloader\n",
            "Successfully installed pyrate-limiter-3.7.0 sec-edgar-downloader-5.0.3\n"
          ]
        }
      ],
      "source": [
        "pip install sec-edgar-downloader"
      ]
    },
    {
      "cell_type": "code",
      "execution_count": 8,
      "metadata": {
        "id": "cu2KaEbbi6ZN"
      },
      "outputs": [],
      "source": [
        "# Import necessary libraries\n",
        "import numpy as np\n",
        "import pandas as pd\n",
        "import pdfminer\n",
        "import random\n",
        "import spacy\n",
        "import nltk\n",
        "import string\n",
        "import requests\n",
        "import re\n",
        "\n",
        "from pdfminer.high_level import extract_text\n",
        "from pdfminer.high_level import extract_pages\n",
        "from pdfminer.layout import LTTextBoxHorizontal, LTChar, LTTextLineHorizontal\n",
        "from transformers import pipeline\n",
        "from spacy.matcher import Matcher\n",
        "from sklearn.metrics.pairwise import cosine_similarity\n",
        "from openai import OpenAI\n",
        "from google.colab import drive\n",
        "from nltk.corpus import stopwords\n",
        "from nltk.tokenize import word_tokenize\n",
        "from nltk.stem import WordNetLemmatizer\n",
        "from sklearn.cluster import KMeans\n",
        "from sklearn.feature_extraction.text import TfidfVectorizer\n",
        "from sklearn.decomposition import LatentDirichletAllocation\n",
        "from bs4 import BeautifulSoup\n",
        "from sec_edgar_downloader import Downloader"
      ]
    },
    {
      "cell_type": "code",
      "execution_count": 9,
      "metadata": {
        "colab": {
          "base_uri": "https://localhost:8080/"
        },
        "id": "oul8zbnY0uEF",
        "outputId": "ba9ae6fd-f70c-4e10-c015-05f65f1cbdfe"
      },
      "outputs": [
        {
          "name": "stdout",
          "output_type": "stream",
          "text": [
            "Mounted at /content/drive\n"
          ]
        }
      ],
      "source": [
        "# Voting guideline PDFs will be kept in Google Drive\n",
        "# Mount the drive that contains these PDFs\n",
        "drive.mount('/content/drive')"
      ]
    },
    {
      "cell_type": "code",
      "execution_count": null,
      "metadata": {
        "colab": {
          "base_uri": "https://localhost:8080/"
        },
        "id": "aSXFdq5YPuzf",
        "outputId": "ae11e91d-34b2-4ac9-8026-8e1a17fdd04f"
      },
      "outputs": [
        {
          "name": "stderr",
          "output_type": "stream",
          "text": [
            "[nltk_data] Downloading package punkt to /root/nltk_data...\n",
            "[nltk_data]   Unzipping tokenizers/punkt.zip.\n",
            "[nltk_data] Downloading package stopwords to /root/nltk_data...\n",
            "[nltk_data]   Unzipping corpora/stopwords.zip.\n",
            "[nltk_data] Downloading package wordnet to /root/nltk_data...\n",
            "[nltk_data] Downloading package punkt_tab to /root/nltk_data...\n",
            "[nltk_data]   Unzipping tokenizers/punkt_tab.zip.\n"
          ]
        },
        {
          "data": {
            "text/plain": [
              "True"
            ]
          },
          "execution_count": 6,
          "metadata": {},
          "output_type": "execute_result"
        }
      ],
      "source": [
        "nltk.download('punkt')\n",
        "nltk.download('stopwords')\n",
        "nltk.download('wordnet')\n",
        "nltk.download('punkt_tab')"
      ]
    },
    {
      "cell_type": "code",
      "execution_count": null,
      "metadata": {
        "id": "qrgH5Wn8XR7f"
      },
      "outputs": [],
      "source": [
        "# Set up API connection to OpenAI\n",
        "# GPT models will be used for large analyis tasks\n",
        "  # This includes extracting voting guideliens from blocks of text, formatting these guidelines, and comparing them to Microsoft's proxy statement\n",
        "client = OpenAI(api_key=\"placeholder, replace with actual key\")\n",
        "\n",
        "completion = client.chat.completions.create(\n",
        "    model=\"gpt-4o-mini\",\n",
        "    messages=[\n",
        "        {\"role\": \"system\", \"content\": \"You are a helpful assistant.\"},\n",
        "        {\n",
        "            \"role\": \"user\",\n",
        "            \"content\": \"Write a haiku about recursion in programming.\"\n",
        "        }\n",
        "    ]\n",
        ")\n",
        "\n",
        "test = completion.choices[0].message"
      ]
    },
    {
      "cell_type": "code",
      "execution_count": null,
      "metadata": {
        "colab": {
          "base_uri": "https://localhost:8080/",
          "height": 35
        },
        "id": "OB-QWs3Zsg9t",
        "outputId": "5155fbcf-9cb6-4abc-8272-2e28d8e54e5a"
      },
      "outputs": [
        {
          "data": {
            "application/vnd.google.colaboratory.intrinsic+json": {
              "type": "string"
            },
            "text/plain": [
              "'Code calls back to self,  \\nLayers entwined, depth unfolds,  \\nEndless loops of thought.'"
            ]
          },
          "execution_count": 20,
          "metadata": {},
          "output_type": "execute_result"
        }
      ],
      "source": [
        "# Test that connection is working\n",
        "test.content"
      ]
    },
    {
      "cell_type": "markdown",
      "metadata": {
        "id": "ZInAZa8Wn5QS"
      },
      "source": [
        "## Step 1: Extract information from PDFs\n",
        "Currently, the data is in a relatively unstructured format. The PDFs are long, and are written with HTML code. To find the proxy statements, we must extract the bodies of text and the tables within the PDFs. However, they are interspersed between headers, footers, images, and other formatting elements. The goal of this step is to remove all the unneccessary information in the PDFs, leaving only the bodies of text. The next step will be to analyze these texts, extracting any potential proxy statements from them."
      ]
    },
    {
      "cell_type": "code",
      "execution_count": null,
      "metadata": {
        "id": "SiheF00uxXSO"
      },
      "outputs": [],
      "source": [
        "# All bodies of text in the PDFs are located under headers or subheaders. Using the pdfminer library, find these headers and subheaders\n",
        "# The text that is extracted will be mapped back to its header and/or subheader, providing its context\n",
        "\n",
        "# Create a function that allows for extraction by font size\n",
        "# Allows for parsing based on section headers\n",
        "def extract_text_by_font_size(pdf_path, target_font_size):\n",
        "    for page_layout in extract_pages(pdf_path): # Each page in the PDF\n",
        "        for element in page_layout: # Each element on the page\n",
        "            if isinstance(element, LTTextBoxHorizontal): # Check if an element is a text element\n",
        "                for text_line in element:\n",
        "                    for character in text_line:\n",
        "                        if isinstance(character, LTChar) and character.size == target_font_size: # If the character's font size matches the target font size, print it\n",
        "                            print(character.get_text(), end='')"
      ]
    },
    {
      "cell_type": "code",
      "execution_count": null,
      "metadata": {
        "colab": {
          "background_save": true
        },
        "id": "aSVwwBs9wTMj"
      },
      "outputs": [],
      "source": [
        "# Get all unique font sizes within a PDF\n",
        "unique_font_sizes_blackrock = []\n",
        "\n",
        "for page_layout in extract_pages(\"/content/blackrock_guidelines.pdf\"):\n",
        "    for element in page_layout:\n",
        "        if isinstance(element, LTTextBoxHorizontal): # Check if an element is a text element\n",
        "            for text_line in element:\n",
        "                for character in text_line:\n",
        "                    if isinstance(character, LTChar) and character.size not in unique_font_sizes_blackrock: # If font size not already in list, append it\n",
        "                        unique_font_sizes_blackrock.append(character.size)\n",
        "\n",
        "\n",
        "unique_font_sizes_vanguard = []\n",
        "\n",
        "for page_layout in extract_pages(\"/content/vanguard_guidelines.pdf\"):\n",
        "    for element in page_layout:\n",
        "        if isinstance(element, LTTextBoxHorizontal): # Check if an element is a text element\n",
        "            for text_line in element:\n",
        "                for character in text_line:\n",
        "                    if isinstance(character, LTChar) and character.size not in unique_font_sizes_vanguard: # If font size not already in list, append it\n",
        "                        unique_font_sizes_vanguard.append(character.size)"
      ]
    },
    {
      "cell_type": "code",
      "execution_count": null,
      "metadata": {
        "colab": {
          "base_uri": "https://localhost:8080/"
        },
        "id": "c9QfRAbF0k6y",
        "outputId": "b3ff6b70-c9eb-45cc-e19d-cc73593568e6"
      },
      "outputs": [
        {
          "data": {
            "text/plain": [
              "[59.999999999999886,\n",
              " 60.00000000000006,\n",
              " 60.0,\n",
              " 21.95999999999998,\n",
              " 14.04000000000002,\n",
              " 8.0,\n",
              " 36.0,\n",
              " 11.039999999999964,\n",
              " 12.0,\n",
              " 9.959999999999923,\n",
              " 11.04000000000002,\n",
              " 14.039999999999964,\n",
              " 8.04,\n",
              " 9.96,\n",
              " 18.0,\n",
              " 9.960000000000036,\n",
              " 9.95999999999998,\n",
              " 6.9599999999999795,\n",
              " 6.960000000000008,\n",
              " 9.960000000000008,\n",
              " 6.959999999999994,\n",
              " 6.960000000000036,\n",
              " 6.959999999999923,\n",
              " 8.04000000000002,\n",
              " 5.0400000000000205,\n",
              " 8.039999999999992,\n",
              " 5.039999999999992,\n",
              " 8.040000000000006,\n",
              " 6.0,\n",
              " 5.040000000000006,\n",
              " 8.039999999999964,\n",
              " 14.039999999999992,\n",
              " 9.959999999999994,\n",
              " 9.0,\n",
              " 8.519999999999982,\n",
              " 17.999999999999943,\n",
              " 15.95999999999998]"
            ]
          },
          "execution_count": 65,
          "metadata": {},
          "output_type": "execute_result"
        }
      ],
      "source": [
        "# unique_font_sizes_vanguard\n",
        "unique_font_sizes_blackrock"
      ]
    },
    {
      "cell_type": "code",
      "execution_count": null,
      "metadata": {
        "colab": {
          "base_uri": "https://localhost:8080/"
        },
        "id": "iCItz3BNxaIi",
        "outputId": "dc55a8ed-ded5-4a5f-d248-447258f4e42c"
      },
      "outputs": [
        {
          "name": "stdout",
          "output_type": "stream",
          "text": [
            " Oversight role of the board Risk oversight Classified board of directors/staggered terms Director qualifications and skills Board term limits and director tenure Cumulative voting Blank check preferred stock Reimbursement of expense for successful shareholder campaigns Equity compensation plans Option exchanges Climate risk Natural capital Human capital management IPO governance Adjourn meeting to solicit additional votes Bundled proposals  Other business Right to act by written consent Consent solicitation Virtual meetings "
          ]
        }
      ],
      "source": [
        "# Test returned font sizes and find which font size is for headers and subheaders in PDFs\n",
        "extract_text_by_font_size(\"/content/blackrock_guidelines.pdf\", 14.039999999999964)"
      ]
    },
    {
      "cell_type": "markdown",
      "metadata": {
        "id": "ELcsKk-uyO9v"
      },
      "source": [
        "----- Blackrock font sizes -----\n",
        "\n",
        "Headers are under sizes 18.0 and 17.999999999999943\n",
        "\n",
        "Subheaders are under sizes 14.039999999999964, 14.039999999999992, and 14.04000000000002\n",
        "\n",
        "\n",
        "----- Vanguard font sizes -----\n",
        "\n",
        "Headers are under size 16.0\n",
        "\n",
        "Subheaders are under sizes 11.0 and 11.000000000000014"
      ]
    },
    {
      "cell_type": "code",
      "execution_count": null,
      "metadata": {
        "id": "dsippQwYw2gA"
      },
      "outputs": [],
      "source": [
        "# Create helper function to extract lines of text of specific font sizes\n",
        "def extract_lines_by_font_size(pdf_path, target_font_sizes):\n",
        "\n",
        "  matching_lines = [] # Lines of text in the PDF that match the target font size\n",
        "\n",
        "  for page_layout in extract_pages(pdf_path):\n",
        "        for element in page_layout:\n",
        "            if isinstance(element, LTTextBoxHorizontal):  # Check if an element is a text element\n",
        "                for line in element:\n",
        "                    if isinstance(line, LTTextLineHorizontal):\n",
        "                        # Check the font size of each character in the line\n",
        "                        font_sizes = [\n",
        "                            char.size for char in line if isinstance(char, LTChar)\n",
        "                        ]\n",
        "                        # If all characters in the line share the target font size, add the line\n",
        "                        if font_sizes and all(size in target_font_sizes for size in font_sizes):\n",
        "                            matching_lines.append(line.get_text().strip())\n",
        "\n",
        "  return matching_lines"
      ]
    },
    {
      "cell_type": "code",
      "execution_count": null,
      "metadata": {
        "id": "DFkhyrhQzr4C"
      },
      "outputs": [],
      "source": [
        "# Get headers from each PDF based on manual review of target font sizes\n",
        "blackrock_headers = extract_lines_by_font_size(\"/content/blackrock_guidelines.pdf\", [18.0, 17.999999999999943])\n",
        "vanguard_headers = extract_lines_by_font_size(\"/content/vanguard_guidelines.pdf\", [16.0])"
      ]
    },
    {
      "cell_type": "code",
      "execution_count": null,
      "metadata": {
        "id": "pidJbh782DBs"
      },
      "outputs": [],
      "source": [
        "# Get subheaders from each PDF based on manual review of target font sizes\n",
        "blackrock_subheaders = extract_lines_by_font_size(\"/content/blackrock_guidelines.pdf\", [14.039999999999964, 14.039999999999992, 14.04000000000002])\n",
        "vanguard_subheaders = extract_lines_by_font_size(\"/content/vanguard_guidelines.pdf\", [11.0, 11.000000000000014])"
      ]
    },
    {
      "cell_type": "code",
      "execution_count": 10,
      "metadata": {
        "colab": {
          "base_uri": "https://localhost:8080/",
          "height": 211
        },
        "id": "r7VLPj43BN6I",
        "outputId": "1d09be5d-6fc7-4f56-df44-e2b296f6ada7"
      },
      "outputs": [
        {
          "ename": "NameError",
          "evalue": "name 'extract_lines_by_font_size' is not defined",
          "output_type": "error",
          "traceback": [
            "\u001b[0;31m---------------------------------------------------------------------------\u001b[0m",
            "\u001b[0;31mNameError\u001b[0m                                 Traceback (most recent call last)",
            "\u001b[0;32m<ipython-input-10-12e265a6779f>\u001b[0m in \u001b[0;36m<cell line: 0>\u001b[0;34m()\u001b[0m\n\u001b[1;32m      1\u001b[0m \u001b[0;31m# Get all headers and subheaders from each PDF based on manual review of target font sizes\u001b[0m\u001b[0;34m\u001b[0m\u001b[0;34m\u001b[0m\u001b[0m\n\u001b[1;32m      2\u001b[0m \u001b[0;31m# Will be used to determine which lines of text are headers/subheaders, and which are body text\u001b[0m\u001b[0;34m\u001b[0m\u001b[0;34m\u001b[0m\u001b[0m\n\u001b[0;32m----> 3\u001b[0;31m \u001b[0mblackrock_all_headers\u001b[0m \u001b[0;34m=\u001b[0m \u001b[0mextract_lines_by_font_size\u001b[0m\u001b[0;34m(\u001b[0m\u001b[0;34m\"/content/blackrock_guidelines.pdf\"\u001b[0m\u001b[0;34m,\u001b[0m \u001b[0;34m[\u001b[0m\u001b[0;36m18.0\u001b[0m\u001b[0;34m,\u001b[0m \u001b[0;36m17.999999999999943\u001b[0m\u001b[0;34m,\u001b[0m \u001b[0;36m14.039999999999964\u001b[0m\u001b[0;34m,\u001b[0m \u001b[0;36m14.039999999999992\u001b[0m\u001b[0;34m,\u001b[0m \u001b[0;36m14.04000000000002\u001b[0m\u001b[0;34m]\u001b[0m\u001b[0;34m)\u001b[0m\u001b[0;34m\u001b[0m\u001b[0;34m\u001b[0m\u001b[0m\n\u001b[0m\u001b[1;32m      4\u001b[0m \u001b[0mvanguard_all_headers\u001b[0m \u001b[0;34m=\u001b[0m \u001b[0mextract_lines_by_font_size\u001b[0m\u001b[0;34m(\u001b[0m\u001b[0;34m\"/content/vanguard_guidelines.pdf\"\u001b[0m\u001b[0;34m,\u001b[0m \u001b[0;34m[\u001b[0m\u001b[0;36m16.0\u001b[0m\u001b[0;34m,\u001b[0m \u001b[0;36m11.0\u001b[0m\u001b[0;34m,\u001b[0m \u001b[0;36m11.000000000000014\u001b[0m\u001b[0;34m]\u001b[0m\u001b[0;34m)\u001b[0m\u001b[0;34m\u001b[0m\u001b[0;34m\u001b[0m\u001b[0m\n",
            "\u001b[0;31mNameError\u001b[0m: name 'extract_lines_by_font_size' is not defined"
          ]
        }
      ],
      "source": [
        " # Get all headers and subheaders from each PDF based on manual review of target font sizes\n",
        " # Will be used to determine which lines of text are headers/subheaders, and which are body text\n",
        " blackrock_all_headers = extract_lines_by_font_size(\"/content/blackrock_guidelines.pdf\", [18.0, 17.999999999999943, 14.039999999999964, 14.039999999999992, 14.04000000000002])\n",
        " vanguard_all_headers = extract_lines_by_font_size(\"/content/vanguard_guidelines.pdf\", [16.0, 11.0, 11.000000000000014])"
      ]
    },
    {
      "cell_type": "code",
      "execution_count": null,
      "metadata": {
        "colab": {
          "base_uri": "https://localhost:8080/"
        },
        "id": "ZYBHJCO42eN0",
        "outputId": "8b391679-b8c9-4fbd-f50b-d03d471578ac"
      },
      "outputs": [
        {
          "data": {
            "text/plain": [
              "['Introduction',\n",
              " 'Voting guidelines',\n",
              " 'Boards and directors',\n",
              " 'Board Structure',\n",
              " 'Board composition and effectiveness',\n",
              " 'Board responsiveness and shareholder rights',\n",
              " 'Auditors and audit-related issues',\n",
              " 'Capital structure proposals',\n",
              " 'Mergers, acquisitions, transactions, and other special',\n",
              " 'situations',\n",
              " 'Executive compensation',\n",
              " 'Material sustainability-related risks and opportunities',\n",
              " 'General corporate governance matters',\n",
              " 'Shareholder protections']"
            ]
          },
          "execution_count": 90,
          "metadata": {},
          "output_type": "execute_result"
        }
      ],
      "source": [
        "blackrock_headers"
      ]
    },
    {
      "cell_type": "code",
      "execution_count": null,
      "metadata": {
        "colab": {
          "base_uri": "https://localhost:8080/"
        },
        "id": "BUd6mm_5Cppz",
        "outputId": "92f8ebc6-b131-4fd7-8e93-21a319e6b13c"
      },
      "outputs": [
        {
          "data": {
            "text/plain": [
              "['Effective as of January 2024',\n",
              " 'Introduction',\n",
              " 'Voting guidelines',\n",
              " 'Boards and directors',\n",
              " 'Independence',\n",
              " 'Oversight role of the board',\n",
              " 'Sufficient capacity',\n",
              " 'Risk oversight',\n",
              " 'Board Structure',\n",
              " 'Classified board of directors/staggered terms',\n",
              " 'Independent leadership',\n",
              " 'CEO and management succession planning',\n",
              " 'Director compensation and equity programs',\n",
              " 'Board composition and effectiveness',\n",
              " 'Director qualifications and skills',\n",
              " 'Board term limits and director tenure',\n",
              " 'Board diversity',\n",
              " 'Board size',\n",
              " 'Board responsiveness and shareholder rights',\n",
              " 'Shareholder rights',\n",
              " 'Responsiveness to shareholders',\n",
              " 'Majority vote requirements',\n",
              " 'Cumulative voting',\n",
              " 'Auditors and audit-related issues',\n",
              " 'Capital structure proposals',\n",
              " 'Equal voting rights',\n",
              " 'Blank check preferred stock',\n",
              " 'Increase in authorized common shares',\n",
              " 'Increase or issuance of preferred stock',\n",
              " 'Stock splits',\n",
              " 'Mergers, acquisitions, transactions, and other special',\n",
              " 'situations',\n",
              " 'Mergers, acquisitions, and transactions',\n",
              " 'Contested director elections and special situations',\n",
              " 'Poison pill plans',\n",
              " 'Reimbursement of expense for successful shareholder campaigns',\n",
              " 'Executive compensation',\n",
              " '“Say on Pay” advisory resolutions',\n",
              " 'Frequency of “Say on Pay” advisory resolutions',\n",
              " 'Clawback proposals',\n",
              " 'Employee stock purchase plans',\n",
              " 'Equity compensation plans',\n",
              " 'Golden parachutes',\n",
              " 'Option exchanges',\n",
              " 'Supplemental executive retirement plans',\n",
              " 'Material sustainability-related risks and opportunities',\n",
              " 'Climate risk',\n",
              " 'Natural capital',\n",
              " 'Key stakeholder interests',\n",
              " 'Human capital management',\n",
              " 'General corporate governance matters',\n",
              " 'IPO governance',\n",
              " 'Corporate form',\n",
              " 'Shareholder Proposals',\n",
              " 'Exclusive forum provisions',\n",
              " 'Reincorporation',\n",
              " 'Multi-jurisdictional companies',\n",
              " 'Adjourn meeting to solicit additional votes',\n",
              " 'Bundled proposals',\n",
              " 'Other business',\n",
              " 'Shareholder protections',\n",
              " 'Amendment to charter/articles/bylaws',\n",
              " 'Proxy access',\n",
              " 'Right to act by written consent',\n",
              " 'Right to call a special meeting',\n",
              " 'Consent solicitation',\n",
              " 'Simple majority voting',\n",
              " 'Virtual meetings']"
            ]
          },
          "execution_count": 8,
          "metadata": {},
          "output_type": "execute_result"
        }
      ],
      "source": [
        "blackrock_all_headers"
      ]
    },
    {
      "cell_type": "markdown",
      "metadata": {
        "id": "e9_TjqX6097c"
      },
      "source": [
        "### BlackRock voting guidelines\n",
        "The text has now been extracted from the PDFs, and is formatted as paragraphs. Now, the text within these paragraphs must be evaluated, and any voting guidelines within them must be returned. First, these paragraphs must be broken down into individual sentences or tokens. Then, each token must be evaluated to see if it is a voting guideline. Finally, if it is a guideline, it must be formatted in a way to ensure normality between all guidelines."
      ]
    },
    {
      "cell_type": "code",
      "execution_count": null,
      "metadata": {
        "id": "AbhKf-2GBt4_"
      },
      "outputs": [],
      "source": [
        "# Iterate through all headers and subheaders, add to dataframe\n",
        "blackrock_contents = []\n",
        "current_header = np.nan # Mark the current header we are extracting text from\n",
        "\n",
        "# Iterate through all Blackrock headers and subheaders\n",
        "for i in range(len(blackrock_all_headers)-1):\n",
        "\n",
        "  first_header_reached = False # Has the first header been reached? - used to ignore text before first header\n",
        "  next_header_reached = False # Has the next header been reached? - used to stop iterating when the end of a section is reached\n",
        "  sub_header_reached = False # Has the next subheader been reached? - used to stop iterating when the end of a section is reached\n",
        "  last_header_reached = False # Has the last header been reached? - used to extract body text after the last header\n",
        "\n",
        "  current_sub_header = None # Mark the current subheader, if any, we are extracting text from\n",
        "\n",
        "  text_contents = \"\" # The body text we are extracting\n",
        "\n",
        "  for page_layout in extract_pages(\"/content/blackrock_guidelines.pdf\"):\n",
        "        for element in page_layout:\n",
        "            if isinstance(element, LTTextBoxHorizontal):\n",
        "                for text_line in element:\n",
        "                    if isinstance(text_line, LTTextLineHorizontal): # If an element is a single text line, compare it to list of (sub)headers\n",
        "                        # If we have reached last header, set boolean to True\n",
        "                        if text_line.get_text().strip() == blackrock_all_headers[len(blackrock_all_headers)-1]:\n",
        "                          last_header_reached = True\n",
        "\n",
        "                        # If we have reached the (sub)header after the current one, stop adding contents to text\n",
        "                        if text_line.get_text().strip() == blackrock_all_headers[i+1]:\n",
        "                            next_header_reached = True\n",
        "\n",
        "                        # If we are in a body text section, append contents into a string\n",
        "                        # This code iterates line by line, appending to a string makes it a single paragraph\n",
        "                        if (first_header_reached == True) and (next_header_reached == False) and (last_header_reached == False):\n",
        "                          text_contents += (' ' + text_line.get_text().strip())\n",
        "\n",
        "                        # If the last header has been reached, get all the text after it\n",
        "                        if (last_header_reached == True):\n",
        "                          text_contents += (' ' + text_line.get_text().strip())\n",
        "\n",
        "                        # If first header is reached, start appending to contents text\n",
        "                        if text_line.get_text().strip() == blackrock_all_headers[i]:\n",
        "                          first_header_reached = True\n",
        "\n",
        "  # If (sub)header is a header, set current_header to it\n",
        "  # current_sub_header is left blank, as there may be text directly under a header, with no sub-header\n",
        "  if (blackrock_all_headers[i] in blackrock_headers):\n",
        "    current_header = blackrock_all_headers[i]\n",
        "    current_sub_header = np.nan\n",
        "\n",
        "  # If (sub)header is a subheader, set current_sub_header to it\n",
        "  if (blackrock_all_headers[i] in blackrock_subheaders):\n",
        "    current_sub_header = blackrock_all_headers[i]\n",
        "\n",
        "  # Append header, subheader (if any), and subsequent body text to the table\n",
        "  blackrock_contents.append({\n",
        "        \"header\": current_header,\n",
        "        \"subheader\": current_sub_header,\n",
        "        \"content\": text_contents\n",
        "      })\n"
      ]
    },
    {
      "cell_type": "code",
      "execution_count": 11,
      "metadata": {
        "colab": {
          "base_uri": "https://localhost:8080/",
          "height": 141
        },
        "id": "EkccnbaN-OXt",
        "outputId": "8fc79470-1e94-4cdf-9017-a9cd1dc16635"
      },
      "outputs": [
        {
          "ename": "NameError",
          "evalue": "name 'blackrock_contents' is not defined",
          "output_type": "error",
          "traceback": [
            "\u001b[0;31m---------------------------------------------------------------------------\u001b[0m",
            "\u001b[0;31mNameError\u001b[0m                                 Traceback (most recent call last)",
            "\u001b[0;32m<ipython-input-11-859f882594d0>\u001b[0m in \u001b[0;36m<cell line: 0>\u001b[0;34m()\u001b[0m\n\u001b[0;32m----> 1\u001b[0;31m \u001b[0mblackrock_df\u001b[0m \u001b[0;34m=\u001b[0m \u001b[0mpd\u001b[0m\u001b[0;34m.\u001b[0m\u001b[0mDataFrame\u001b[0m\u001b[0;34m(\u001b[0m\u001b[0mblackrock_contents\u001b[0m\u001b[0;34m)\u001b[0m\u001b[0;34m\u001b[0m\u001b[0;34m\u001b[0m\u001b[0m\n\u001b[0m",
            "\u001b[0;31mNameError\u001b[0m: name 'blackrock_contents' is not defined"
          ]
        }
      ],
      "source": [
        "# Create dataframe from table\n",
        "blackrock_df = pd.DataFrame(blackrock_contents)"
      ]
    },
    {
      "cell_type": "code",
      "execution_count": null,
      "metadata": {
        "colab": {
          "base_uri": "https://localhost:8080/"
        },
        "id": "pHB1TFF3ZnYq",
        "outputId": "87f2de80-3379-4e61-c2cb-457603b2ad43"
      },
      "outputs": [
        {
          "data": {
            "text/plain": [
              "(67, 3)"
            ]
          },
          "execution_count": 26,
          "metadata": {},
          "output_type": "execute_result"
        }
      ],
      "source": [
        "blackrock_df.shape"
      ]
    },
    {
      "cell_type": "markdown",
      "metadata": {
        "id": "3-rm5oOHwcO_"
      },
      "source": [
        "Once indivual sentences/sentence groups of body text are extracted, they will be evaluated to check if they contain voting guidelines. If adjacent sentences provide very similar context, we want to group them together to be evaluated as a single proxy statement. To do this, we will use cosine similarity."
      ]
    },
    {
      "cell_type": "code",
      "execution_count": null,
      "metadata": {
        "id": "GVYRTz39mTNp"
      },
      "outputs": [],
      "source": [
        "# Helper function to calculate cosine similarity of two vectors\n",
        "def calculate_similarity(vec1, vec2):\n",
        "    return cosine_similarity([vec1], [vec2])[0][0]"
      ]
    },
    {
      "cell_type": "code",
      "execution_count": null,
      "metadata": {
        "id": "KrwH_1XzmdDV"
      },
      "outputs": [],
      "source": [
        "# For an input block of text, return each sentence or group of contextually similar sentences as an element in a list\n",
        "def group_similar_sentences(text, similarity_threshold=0.8):\n",
        "\n",
        "    doc = nlp(text) # Convert block of text to an NLP object\n",
        "    sentences = list(doc.sents) # Break NLP object into individual sentences\n",
        "    groups = [] # Return object containing sentences grouped together by context\n",
        "    current_group = [] # Current group of sentences with similar context\n",
        "\n",
        "    for i, sent in enumerate(sentences):\n",
        "        if not current_group: # Append first sentence to the empty group\n",
        "            current_group.append(sent)\n",
        "        else:\n",
        "            # Calculate similarity of the next sentence with the current group\n",
        "            last_sentence_vector = nlp(\" \".join([s.text for s in current_group])).vector # Create vector of sentences in current group\n",
        "            current_sentence_vector = sent.vector # Create vector of sentence to be evaluated\n",
        "            similarity = calculate_similarity(last_sentence_vector, current_sentence_vector)\n",
        "\n",
        "            # Compare cosine similarity of current group and sentence to be evaluated\n",
        "            # If the evaluated sentence context is similar enough to the current group, append it to the group\n",
        "            if similarity >= similarity_threshold:\n",
        "                current_group.append(sent)\n",
        "            # If the evaluated sentence does not have similar enough context, add it as its own group\n",
        "            else:\n",
        "                groups.append(\" \".join([s.text for s in current_group]))\n",
        "                current_group = [sent] # Since the context of the text has shifted, use the evaluated sentence as the benchmark for context in the next group\n",
        "\n",
        "    # Add current group to return array\n",
        "    if current_group:\n",
        "        groups.append(\" \".join([s.text for s in current_group]))\n",
        "\n",
        "    # Return all the groups of sentences, grouped together by context\n",
        "    return groups"
      ]
    },
    {
      "cell_type": "code",
      "execution_count": null,
      "metadata": {
        "colab": {
          "base_uri": "https://localhost:8080/"
        },
        "id": "I209ADCEmlh1",
        "outputId": "792218b2-a5da-4704-f66a-fa671e61a901"
      },
      "outputs": [
        {
          "data": {
            "text/plain": [
              "[' ',\n",
              " 'We encourage boards to periodically review director qualifications and skills to ensure relevant experience and diverse perspectives are represented in the boardroom.',\n",
              " 'To this end, performance reviews and skills assessments should be conducted by the nominating/governance committee or the Lead Independent Director.',\n",
              " 'This process may include internal board evaluations; however, boards may also find it useful to periodically conduct an assessment with a third party.',\n",
              " 'We encourage boards to disclose their approach to evaluations, including objectives of the evaluation; if an external party conducts the evaluation; the frequency of the evaluations; and, whether that evaluation occurs on an individual director basis.',\n",
              " 'Virtual meetings Shareholders should have the opportunity to participate in the annual and special meetings for the companies in which they are invested, as these meetings are an opportunity for shareholders to provide feedback and hear from the board and management.',\n",
              " 'While these meetings have traditionally been conducted in-person, virtual meetings are an increasingly viable way for companies to utilize technology to facilitate shareholder accessibility, inclusiveness, and cost efficiencies.',\n",
              " 'Shareholders should have a meaningful opportunity to participate in the meeting and interact with the board and management in these virtual settings; companies should facilitate open dialogue and allow shareholders to voice concerns and provide feedback without undue censorship.',\n",
              " 'Relevant shareholder proposals are assessed on a case-by-case basis.',\n",
              " 'BlackRock Investment Stewardship Proxy voting guidelines for U.S. securities |  25 NM0424U-3545100-25/26 Want to know more?',\n",
              " 'blackrock.com/stewardship  |  contactstewardship@blackrock.com',\n",
              " 'This document is provided for information and educational purposes only.',\n",
              " 'Investing involves risk, including the loss of principal.',\n",
              " 'Prepared by BlackRock, Inc.',\n",
              " '©2024 BlackRock, Inc.',\n",
              " 'All rights reserved.',\n",
              " 'BLACKROCK is a trademark of BlackRock, Inc., or its subsidiaries in the United States and elsewhere.',\n",
              " 'All other trademarks are those of their respective owners.',\n",
              " 'NM0424U-3545100-26/26']"
            ]
          },
          "execution_count": 16,
          "metadata": {},
          "output_type": "execute_result"
        }
      ],
      "source": [
        "# Test the above function\n",
        "group_similar_sentences(blackrock_df['content'][14], 0.8)"
      ]
    },
    {
      "cell_type": "markdown",
      "metadata": {
        "id": "an1yycjFzE4F"
      },
      "source": [
        "Now, the body text of the PDFs has been tokenized into groups of sentences with similar context. These groups contain all the body text of the PDFs, and may not be relevant in terms of voting guidelines. Now, we must extract the actual guidelines, if any, from this text."
      ]
    },
    {
      "cell_type": "code",
      "execution_count": null,
      "metadata": {
        "id": "avbTadgfKx4T"
      },
      "outputs": [],
      "source": [
        "# First, find each sentence group that matches common expressions that may represent a voting guideline\n",
        "# These will be fed into OpenAI, which will further determine if something is a voting guideline\n",
        "# This first step is done so that the entire document is not given to OpenAI, which might cause inefficencies and inaccuracies\n",
        "# Common expressions were found doing exploratory analysis and manual review of the PDFs\n",
        "\n",
        "# Match sentences to common expressions\n",
        "nlp = spacy.load(\"en_core_web_sm\")\n",
        "\n",
        "# Create Matcher object\n",
        "matcher = Matcher(nlp.vocab)\n",
        "\n",
        "# Find sentences where the words \"must\", \"shall\", \"should\", or \"may\" preceed a verb\n",
        "policy_pattern_1 = [\n",
        "    {\"LOWER\": {\"IN\": [\"must\", \"shall\", \"should\", \"may\"]}},\n",
        "    {\"POS\": \"VERB\"}\n",
        "]\n",
        "\n",
        "# Find sentences that contain the phrase \"vote against\"\n",
        "policy_pattern_2 = [\n",
        "    {\"LOWER\": \"vote\"},\n",
        "    {\"LOWER\": \"against\"}\n",
        "]\n",
        "\n",
        "# Test out sentence grouping\n",
        "\n",
        "#doc = nlp(blackrock_df['content'][10])\n",
        "#\n",
        "#group = [] # Sentence groups with sentences that match the regular expressions\n",
        "#\n",
        "## Add the rules to the Matcher so that it can find matches\n",
        "#matcher.add(\"policy_pattern_1\", [policy_pattern_1])\n",
        "#matcher.add(\"policy_pattern_2\", [policy_pattern_2])\n",
        "#\n",
        "## Go through all Blackrock sentence groups from a single block of text\n",
        "#for sentence_group in group_similar_sentences(blackrock_df['content'][10], 0.8):\n",
        "#\n",
        "#  sentence_in_group_relevant = False # Does any sentence in the group match the regular expressions?\n",
        "#\n",
        "#  doc = nlp(sentence_group)\n",
        "#  sentences = list(doc.sents) # Get individual sentences from each group\n",
        "#  for sentence in sentences:\n",
        "#    matches = matcher(sentence) # Compare each sentence to the rules of the matcher\n",
        "#    if matches: # If a sentence within the group matches the regular expressions, mark the whole group as relevant\n",
        "#      sentence_in_group_relevant = True\n",
        "#\n",
        "#  # If a sentence within a group matches the regular expressions, add the entire group\n",
        "#    if sentence_in_group_relevant:\n",
        "#      group.append(sentence_group)\n",
        "\n"
      ]
    },
    {
      "cell_type": "code",
      "execution_count": null,
      "metadata": {
        "id": "j_Y6erVHMIP3"
      },
      "outputs": [],
      "source": [
        "# Get all sentence groups that contain a sentence that matches the regular expressions\n",
        "relevant_sentences = []\n",
        "\n",
        "# Iterate through each block of text in the BlackRock PDF\n",
        "for i in range(blackrock_df.shape[0]):\n",
        "\n",
        "  sentence_groups = [] # Grouped sentences based on context\n",
        "\n",
        "  # Group similar sentences in the block of text\n",
        "  for sentence_group in group_similar_sentences(blackrock_df['content'][i], 0.8):\n",
        "\n",
        "    sentence_in_group_relevant = False\n",
        "\n",
        "    doc = nlp(sentence_group)\n",
        "    sentences = list(doc.sents) # Get individual sentences from each group\n",
        "    for sentence in sentences:\n",
        "      matches = matcher(sentence) # Compare each sentence to the rules of the matcher\n",
        "      if matches: # If a sentence within the group matches the regular expressions, mark the whole group as relevant\n",
        "        sentence_in_group_relevant = True\n",
        "\n",
        "    # If a sentence within a group matches the regular expressions, add the entire group\n",
        "    if sentence_in_group_relevant:\n",
        "      sentence_groups.append(sentence_group)\n",
        "\n",
        "  # Add the relevant groups from this block of text to the global list\n",
        "  relevant_sentences.append(sentence_groups)\n"
      ]
    },
    {
      "cell_type": "code",
      "execution_count": null,
      "metadata": {
        "id": "TXkon_MJNUy1"
      },
      "outputs": [],
      "source": [
        "# Add relevant sentences to the dataframe, mapped to the block of text they originated from\n",
        "blackrock_df['relevant_sentences'] = relevant_sentences"
      ]
    },
    {
      "cell_type": "code",
      "execution_count": null,
      "metadata": {
        "id": "Q4-pW_oxOYV3"
      },
      "outputs": [],
      "source": [
        "# Create new dataframe, one row for each relevant sentence\n",
        "blackrock_df_exploded = blackrock_df.explode('relevant_sentences').reset_index(drop=True)"
      ]
    },
    {
      "cell_type": "code",
      "execution_count": null,
      "metadata": {
        "id": "CMHrBZZ3vrj7"
      },
      "outputs": [],
      "source": [
        "# Complete prompt engineering for OpenAI\n",
        "# OpenAI will evaluate each sentence group and determine if it is actually a voting guideline\n",
        "# If it is a voting guideline, format it to be of the format \"May vote FOR/AGAINST...\" if the guideline is not a solid rule,\n",
        "#   and of the format \"Votes FOR/AGAINST...\" if the guideline is a solid rule\n",
        "sentence_of_interest = \"We may oppose boards that appear to have an insufficient mix of short-, medium-, and long-tenured directors\"\n",
        "\n",
        "completion = client.chat.completions.create(\n",
        "    model=\"gpt-4o-mini\", # OpenAI model to be used\n",
        "    messages=[\n",
        "        {\"role\": \"system\", \"content\": \"You are a helpful assistant.\"},\n",
        "        {\n",
        "            \"role\": \"user\",\n",
        "            \"content\": f\"I will provide a piece of text that may or may not contain proxy voting guidelines, giving customers the ability to understand expectations and guidelines on certain policies. If it is a guideline, return it in the form 'may vote FOR/AGAINST...' if it is not a solid rule, and in the form 'Votes FOR/AGAINST...' if it is a solid rule. Some examples of output guidelines are 'May vote AGAINST a non-executive director serving on more than 4 public boards', 'Votes FOR shareholder proposals to declassify the board, unless the board provides a strategic rationale for classification', 'May vote AGAINST committee members responsible for CEO/management succession if there are significant concerns regarding the planning efforts'. If there is no rule, return 'Not a proxy guideline'. Do not respond with any additional context, only the text that I asked you to provide. Here is the text: '{sentence_of_interest}'\"\n",
        "        }\n",
        "    ]\n",
        ")\n",
        "\n",
        "# Hold contents of the return message\n",
        "test = completion.choices[0].message"
      ]
    },
    {
      "cell_type": "code",
      "execution_count": null,
      "metadata": {
        "colab": {
          "base_uri": "https://localhost:8080/",
          "height": 35
        },
        "id": "Y_OptYsFxJap",
        "outputId": "de3375c8-ae5c-4d0c-d8b8-283e3dc81507"
      },
      "outputs": [
        {
          "data": {
            "application/vnd.google.colaboratory.intrinsic+json": {
              "type": "string"
            },
            "text/plain": [
              "'May vote AGAINST boards that appear to have an insufficient mix of short-, medium-, and long-tenured directors.'"
            ]
          },
          "execution_count": 31,
          "metadata": {},
          "output_type": "execute_result"
        }
      ],
      "source": [
        "# Get text returned by OpenAI\n",
        "test.content"
      ]
    },
    {
      "cell_type": "code",
      "execution_count": null,
      "metadata": {
        "id": "tSsfCMYrNZ11"
      },
      "outputs": [],
      "source": [
        "# Create a list of all responses from ChatGPT\n",
        "chatgpt_responses = []\n",
        "\n",
        "# Run prompt on all relevant sentence groups found in the BlackRock PDF\n",
        "for relevant_sentence in blackrock_df_exploded['relevant_sentences'].tolist():\n",
        "\n",
        "  completion = client.chat.completions.create(\n",
        "    model=\"gpt-4o-mini\", # OpenAI model to be used\n",
        "    messages=[\n",
        "        {\"role\": \"system\", \"content\": \"You are a helpful assistant.\"},\n",
        "        {\n",
        "            \"role\": \"user\",\n",
        "            \"content\": f\"I will provide a piece of text that may or may not contain proxy voting guidelines, giving customers the ability to understand expectations and guidelines on certain policies. If it is a guideline, return it in the form 'may vote FOR/AGAINST...' if it is not a solid rule, and in the form 'Votes FOR/AGAINST...' if it is a solid rule. Some examples of output guidelines are 'May vote AGAINST a non-executive director serving on more than 4 public boards', 'Votes FOR shareholder proposals to declassify the board, unless the board provides a strategic rationale for classification', 'May vote AGAINST committee members responsible for CEO/management succession if there are significant concerns regarding the planning efforts'. If there is no rule, return 'Not a proxy guideline'. Do not respond with any additional context, only the text that I asked you to provide. Here is the text: '{relevant_sentence}'\"\n",
        "        }\n",
        "    ]\n",
        "  )\n",
        "\n",
        "  result = completion.choices[0].message\n",
        "\n",
        "  # Add text returned by OpenAI to the list\n",
        "  chatgpt_responses.append(result.content)"
      ]
    },
    {
      "cell_type": "code",
      "execution_count": null,
      "metadata": {
        "id": "pojVwFRLy5ZB"
      },
      "outputs": [],
      "source": [
        "# Add OpenAI response to the dataframe\n",
        "blackrock_df_exploded['chatgpt_response'] = chatgpt_responses"
      ]
    },
    {
      "cell_type": "code",
      "execution_count": null,
      "metadata": {
        "colab": {
          "base_uri": "https://localhost:8080/",
          "height": 162
        },
        "id": "1F81mJrA016G",
        "outputId": "166717be-0e20-4df8-e269-0908e65fb11b"
      },
      "outputs": [
        {
          "ename": "NameError",
          "evalue": "name 'blackrock_df_exploded' is not defined",
          "output_type": "error",
          "traceback": [
            "\u001b[0;31m---------------------------------------------------------------------------\u001b[0m",
            "\u001b[0;31mNameError\u001b[0m                                 Traceback (most recent call last)",
            "\u001b[0;32m<ipython-input-15-53fb9b9c7cc2>\u001b[0m in \u001b[0;36m<cell line: 2>\u001b[0;34m()\u001b[0m\n\u001b[1;32m      1\u001b[0m \u001b[0;31m# Don't want to lose progress, save dataframe so far to a pickle\u001b[0m\u001b[0;34m\u001b[0m\u001b[0;34m\u001b[0m\u001b[0m\n\u001b[0;32m----> 2\u001b[0;31m \u001b[0mblackrock_df_exploded\u001b[0m\u001b[0;34m.\u001b[0m\u001b[0mto_pickle\u001b[0m\u001b[0;34m(\u001b[0m\u001b[0;34m'/content/drive/My Drive/blackrock_df_exploded.pkl'\u001b[0m\u001b[0;34m)\u001b[0m\u001b[0;34m\u001b[0m\u001b[0;34m\u001b[0m\u001b[0m\n\u001b[0m",
            "\u001b[0;31mNameError\u001b[0m: name 'blackrock_df_exploded' is not defined"
          ]
        }
      ],
      "source": [
        "# Don't want to lose progress, save dataframe so far to a pickle\n",
        "blackrock_df_exploded.to_pickle('/content/drive/My Drive/blackrock_df_exploded.pkl')"
      ]
    },
    {
      "cell_type": "code",
      "execution_count": null,
      "metadata": {
        "colab": {
          "base_uri": "https://localhost:8080/",
          "height": 293
        },
        "id": "2Gby_66t59N_",
        "outputId": "a95f2cf3-7ece-4c92-8b26-47c9d475fe07"
      },
      "outputs": [
        {
          "data": {
            "application/vnd.google.colaboratory.intrinsic+json": {
              "summary": "{\n  \"name\": \"blackrock_df_exploded\",\n  \"rows\": 232,\n  \"fields\": [\n    {\n      \"column\": \"header\",\n      \"properties\": {\n        \"dtype\": \"category\",\n        \"num_unique_values\": 14,\n        \"samples\": [\n          \"situations\",\n          \"Material sustainability-related risks and opportunities\",\n          \"Introduction\"\n        ],\n        \"semantic_type\": \"\",\n        \"description\": \"\"\n      }\n    },\n    {\n      \"column\": \"subheader\",\n      \"properties\": {\n        \"dtype\": \"category\",\n        \"num_unique_values\": 53,\n        \"samples\": [\n          \"Increase in authorized common shares\",\n          \"Exclusive forum provisions\",\n          \"Amendment to charter/articles/bylaws\"\n        ],\n        \"semantic_type\": \"\",\n        \"description\": \"\"\n      }\n    },\n    {\n      \"column\": \"content\",\n      \"properties\": {\n        \"dtype\": \"category\",\n        \"num_unique_values\": 60,\n        \"samples\": [\n          \" NM0424U-3545100-1/26 Contents Introduction ........................................................................................................................................... 3 Voting guidelines .................................................................................................................................. 3 Boards and directors ............................................................................................................................ 4 Board structure\\u2026\\u2026\\u2026\\u2026\\u2026\\u2026\\u2026\\u2026\\u2026\\u2026\\u2026\\u2026\\u2026\\u2026\\u2026\\u2026\\u2026\\u2026\\u2026\\u2026\\u2026\\u2026\\u2026\\u2026\\u2026\\u2026\\u2026\\u2026\\u2026\\u2026\\u2026\\u2026\\u2026\\u2026\\u2026\\u2026\\u2026\\u2026\\u2026\\u2026\\u2026\\u2026\\u2026\\u2026\\u2026\\u2026\\u2026\\u2026\\u2026\\u2026\\u2026\\u2026\\u2026\\u2026. Board composition and effectiveness\\u2026\\u2026\\u2026\\u2026\\u2026\\u2026\\u2026\\u2026\\u2026\\u2026\\u2026\\u2026\\u2026\\u2026\\u2026\\u2026\\u2026\\u2026\\u2026\\u2026\\u2026\\u2026\\u2026\\u2026\\u2026\\u2026\\u2026\\u2026\\u2026\\u2026\\u2026\\u2026\\u2026\\u2026\\u2026\\u2026\\u2026\\u2026\\u2026\\u2026 Board responsiveness and shareholder rights\\u2026\\u2026\\u2026\\u2026\\u2026\\u2026\\u2026\\u2026\\u2026\\u2026\\u2026\\u2026\\u2026\\u2026\\u2026\\u2026\\u2026\\u2026\\u2026\\u2026\\u2026\\u2026\\u2026\\u2026\\u2026\\u2026\\u2026\\u2026\\u2026\\u2026\\u2026\\u2026\\u2026\\u2026. Auditors and audit-related issues \\u2026\\u2026\\u2026\\u2026\\u2026\\u2026\\u2026..\\u2026.\\u2026\\u2026\\u2026\\u2026\\u2026\\u2026\\u2026\\u2026\\u2026\\u2026\\u2026\\u2026\\u2026\\u2026\\u2026\\u2026\\u2026\\u2026\\u2026\\u2026\\u2026..\\u2026\\u2026\\u2026\\u2026 11 Capital structure proposals ............................................................................................................... 11 Mergers, acquisitions, transactions, and other special  situations ........................................... 12 Executive compensation ................................................................................................................... 14 Material sustainability-related risks and opportunities ............................................................. 17 General corporate governance matters .......................................................................................... 21 Shareholder protections .................................................................................................................... 23 BlackRock Investment Stewardship Proxy voting guidelines for U.S. securities |  2 NM0424U-3545100-2/26 These guidelines should be read in conjunction with the BlackRock Investment Stewardship Global Principles. Virtual meetings Shareholders should have the opportunity to participate in the annual and special meetings for the companies in which they are invested, as these meetings are an opportunity for shareholders to provide feedback and hear from the board and management. While these meetings have traditionally been conducted in-person, virtual meetings are an increasingly viable way for companies to utilize technology to facilitate shareholder accessibility, inclusiveness, and cost efficiencies. Shareholders should have a meaningful opportunity to participate in the meeting and interact with the board and management in these virtual settings; companies should facilitate open dialogue and allow shareholders to voice concerns and provide feedback without undue censorship. Relevant shareholder proposals are assessed on a case-by-case basis. BlackRock Investment Stewardship Proxy voting guidelines for U.S. securities |  25 NM0424U-3545100-25/26 Want to know more? blackrock.com/stewardship  |  contactstewardship@blackrock.com This document is provided for information and educational purposes only. Investing involves risk, including the loss of principal. Prepared by BlackRock, Inc. \\u00a92024 BlackRock, Inc. All rights reserved. BLACKROCK is a trademark of BlackRock, Inc., or its subsidiaries in the United States and elsewhere. All other trademarks are those of their respective owners. NM0424U-3545100-26/26\",\n          \" The board should exercise appropriate oversight of management and the business activities of the company. Where we determine that a board has failed to do so in a way that may impede a company\\u2019s ability to deliver long-term financial value, we may vote against the responsible committees and/or individual directors. Common circumstances are illustrated below: \\u25cf  Where the board has failed to facilitate quality, independent auditing or accounting practices, we may vote against members of the audit committee \\u25cf  Where the company has failed to provide shareholders with adequate disclosure to conclude that appropriate strategic consideration is given to material risk factors (including, where relevant, material sustainability factors), we may vote against members of the responsible committee, or the most relevant director \\u25cf  Where it appears that a director has acted (at the company or at other companies) in a manner that compromises their ability to represent the best long-term economic interests of shareholders, we may vote against that individual \\u25cf  Where a director has a multi-year pattern of poor attendance at combined board and applicable committee meetings, or a director has poor attendance in a single year with no disclosed rationale, we may vote against that individual. Excluding exigent circumstances, BIS generally considers attendance at less than 75% of the combined board and applicable committee meetings to be poor attendance Virtual meetings Shareholders should have the opportunity to participate in the annual and special meetings for the companies in which they are invested, as these meetings are an opportunity for shareholders to provide feedback and hear from the board and management. While these meetings have traditionally been conducted in-person, virtual meetings are an increasingly viable way for companies to utilize technology to facilitate shareholder accessibility, inclusiveness, and cost efficiencies. Shareholders should have a meaningful opportunity to participate in the meeting and interact with the board and management in these virtual settings; companies should facilitate open dialogue and allow shareholders to voice concerns and provide feedback without undue censorship. Relevant shareholder proposals are assessed on a case-by-case basis. BlackRock Investment Stewardship Proxy voting guidelines for U.S. securities |  25 NM0424U-3545100-25/26 Want to know more? blackrock.com/stewardship  |  contactstewardship@blackrock.com This document is provided for information and educational purposes only. Investing involves risk, including the loss of principal. Prepared by BlackRock, Inc. \\u00a92024 BlackRock, Inc. All rights reserved. BLACKROCK is a trademark of BlackRock, Inc., or its subsidiaries in the United States and elsewhere. All other trademarks are those of their respective owners. NM0424U-3545100-26/26\",\n          \" BIS supports equity plans that align the economic interests of directors, managers, and other employees with those of shareholders. Boards should establish policies prohibiting the use of equity awards in a manner that could disrupt the intended alignment with shareholder interests, such as the excessive pledging or heading of stock. We may support shareholder proposals requesting the establishment of such policies. Our evaluation of equity compensation plans is based on a company\\u2019s executive pay and performance relative to peers and whether the plan plays a significant role in a pay-for-performance disconnect. We generally oppose plans that contain \\u201cevergreen\\u201d provisions, which allow for automatic annual increases of shares available for grant without requiring further shareholder approval; we note that the aggregate impacts of such increases are difficult to predict and may lead to significant dilution. We also generally oppose plans that allow for repricing without shareholder approval. We may oppose plans that provide for the acceleration of vesting of equity awards even in situations where an actual change of control may not occur. We encourage companies to structure their change of control provisions to require the termination of the covered employee before acceleration or special payments are triggered (commonly referred to as \\u201cdouble trigger\\u201d change of control provisions). Virtual meetings Shareholders should have the opportunity to participate in the annual and special meetings for the companies in which they are invested, as these meetings are an opportunity for shareholders to provide feedback and hear from the board and management. While these meetings have traditionally been conducted in-person, virtual meetings are an increasingly viable way for companies to utilize technology to facilitate shareholder accessibility, inclusiveness, and cost efficiencies. Shareholders should have a meaningful opportunity to participate in the meeting and interact with the board and management in these virtual settings; companies should facilitate open dialogue and allow shareholders to voice concerns and provide feedback without undue censorship. Relevant shareholder proposals are assessed on a case-by-case basis. BlackRock Investment Stewardship Proxy voting guidelines for U.S. securities |  25 NM0424U-3545100-25/26 Want to know more? blackrock.com/stewardship  |  contactstewardship@blackrock.com This document is provided for information and educational purposes only. Investing involves risk, including the loss of principal. Prepared by BlackRock, Inc. \\u00a92024 BlackRock, Inc. All rights reserved. BLACKROCK is a trademark of BlackRock, Inc., or its subsidiaries in the United States and elsewhere. All other trademarks are those of their respective owners. NM0424U-3545100-26/26\"\n        ],\n        \"semantic_type\": \"\",\n        \"description\": \"\"\n      }\n    },\n    {\n      \"column\": \"relevant_sentences\",\n      \"properties\": {\n        \"dtype\": \"category\",\n        \"num_unique_values\": 113,\n        \"samples\": [\n          \"We recognize that some companies may report using different standards, which may be required by regulation, or one of a number of other private sector standards.\",\n          \"Disclosure of material risks that may affect a company\\u2019s long-term strategy and financial value creation, including material sustainability-related factors when relevant, is essential for shareholders to appropriately understand and assess how effectively management is identifying, managing, and mitigating such risks.\",\n          \"As a best practice, companies with either a majority vote standard or a plurality vote standard should adopt a resignation policy for directors who do not receive support from at least a majority of votes cast.\"\n        ],\n        \"semantic_type\": \"\",\n        \"description\": \"\"\n      }\n    },\n    {\n      \"column\": \"chatgpt_response\",\n      \"properties\": {\n        \"dtype\": \"category\",\n        \"num_unique_values\": 42,\n        \"samples\": [\n          \"May vote FOR shareholder proposals requesting the establishment of such policies.\",\n          \"May vote AGAINST the relevant committees and/or individual directors if a board has not acted in the best interests of the company\\u2019s shareholders, or takes action to unreasonably limit shareholder rights.\",\n          \"May vote AGAINST the most senior non-executive member of the board when appropriate independence is lacking in designated leadership roles.\"\n        ],\n        \"semantic_type\": \"\",\n        \"description\": \"\"\n      }\n    }\n  ]\n}",
              "type": "dataframe",
              "variable_name": "blackrock_df_exploded"
            },
            "text/html": [
              "\n",
              "  <div id=\"df-fdab6644-40bb-45dd-9ec1-713a2f2bd5d3\" class=\"colab-df-container\">\n",
              "    <div>\n",
              "<style scoped>\n",
              "    .dataframe tbody tr th:only-of-type {\n",
              "        vertical-align: middle;\n",
              "    }\n",
              "\n",
              "    .dataframe tbody tr th {\n",
              "        vertical-align: top;\n",
              "    }\n",
              "\n",
              "    .dataframe thead th {\n",
              "        text-align: right;\n",
              "    }\n",
              "</style>\n",
              "<table border=\"1\" class=\"dataframe\">\n",
              "  <thead>\n",
              "    <tr style=\"text-align: right;\">\n",
              "      <th></th>\n",
              "      <th>header</th>\n",
              "      <th>subheader</th>\n",
              "      <th>content</th>\n",
              "      <th>relevant_sentences</th>\n",
              "      <th>chatgpt_response</th>\n",
              "    </tr>\n",
              "  </thead>\n",
              "  <tbody>\n",
              "    <tr>\n",
              "      <th>0</th>\n",
              "      <td>NaN</td>\n",
              "      <td>Effective as of January 2024</td>\n",
              "      <td>NM0424U-3545100-1/26 Contents Introduction .....</td>\n",
              "      <td>Virtual meetings Shareholders should have the ...</td>\n",
              "      <td>Not a proxy guideline.</td>\n",
              "    </tr>\n",
              "    <tr>\n",
              "      <th>1</th>\n",
              "      <td>NaN</td>\n",
              "      <td>Effective as of January 2024</td>\n",
              "      <td>NM0424U-3545100-1/26 Contents Introduction .....</td>\n",
              "      <td>Shareholders should have a meaningful opportun...</td>\n",
              "      <td>Not a proxy guideline.</td>\n",
              "    </tr>\n",
              "    <tr>\n",
              "      <th>2</th>\n",
              "      <td>Introduction</td>\n",
              "      <td>NaN</td>\n",
              "      <td>BlackRock’s clients depend on us to help them...</td>\n",
              "      <td>3.  Contributing to emerging thinking on stewa...</td>\n",
              "      <td>Not a proxy guideline.</td>\n",
              "    </tr>\n",
              "    <tr>\n",
              "      <th>3</th>\n",
              "      <td>Introduction</td>\n",
              "      <td>NaN</td>\n",
              "      <td>BlackRock’s clients depend on us to help them...</td>\n",
              "      <td>Virtual meetings Shareholders should have the ...</td>\n",
              "      <td>Not a proxy guideline.</td>\n",
              "    </tr>\n",
              "    <tr>\n",
              "      <th>4</th>\n",
              "      <td>Introduction</td>\n",
              "      <td>NaN</td>\n",
              "      <td>BlackRock’s clients depend on us to help them...</td>\n",
              "      <td>Shareholders should have a meaningful opportun...</td>\n",
              "      <td>Not a proxy guideline.</td>\n",
              "    </tr>\n",
              "  </tbody>\n",
              "</table>\n",
              "</div>\n",
              "    <div class=\"colab-df-buttons\">\n",
              "\n",
              "  <div class=\"colab-df-container\">\n",
              "    <button class=\"colab-df-convert\" onclick=\"convertToInteractive('df-fdab6644-40bb-45dd-9ec1-713a2f2bd5d3')\"\n",
              "            title=\"Convert this dataframe to an interactive table.\"\n",
              "            style=\"display:none;\">\n",
              "\n",
              "  <svg xmlns=\"http://www.w3.org/2000/svg\" height=\"24px\" viewBox=\"0 -960 960 960\">\n",
              "    <path d=\"M120-120v-720h720v720H120Zm60-500h600v-160H180v160Zm220 220h160v-160H400v160Zm0 220h160v-160H400v160ZM180-400h160v-160H180v160Zm440 0h160v-160H620v160ZM180-180h160v-160H180v160Zm440 0h160v-160H620v160Z\"/>\n",
              "  </svg>\n",
              "    </button>\n",
              "\n",
              "  <style>\n",
              "    .colab-df-container {\n",
              "      display:flex;\n",
              "      gap: 12px;\n",
              "    }\n",
              "\n",
              "    .colab-df-convert {\n",
              "      background-color: #E8F0FE;\n",
              "      border: none;\n",
              "      border-radius: 50%;\n",
              "      cursor: pointer;\n",
              "      display: none;\n",
              "      fill: #1967D2;\n",
              "      height: 32px;\n",
              "      padding: 0 0 0 0;\n",
              "      width: 32px;\n",
              "    }\n",
              "\n",
              "    .colab-df-convert:hover {\n",
              "      background-color: #E2EBFA;\n",
              "      box-shadow: 0px 1px 2px rgba(60, 64, 67, 0.3), 0px 1px 3px 1px rgba(60, 64, 67, 0.15);\n",
              "      fill: #174EA6;\n",
              "    }\n",
              "\n",
              "    .colab-df-buttons div {\n",
              "      margin-bottom: 4px;\n",
              "    }\n",
              "\n",
              "    [theme=dark] .colab-df-convert {\n",
              "      background-color: #3B4455;\n",
              "      fill: #D2E3FC;\n",
              "    }\n",
              "\n",
              "    [theme=dark] .colab-df-convert:hover {\n",
              "      background-color: #434B5C;\n",
              "      box-shadow: 0px 1px 3px 1px rgba(0, 0, 0, 0.15);\n",
              "      filter: drop-shadow(0px 1px 2px rgba(0, 0, 0, 0.3));\n",
              "      fill: #FFFFFF;\n",
              "    }\n",
              "  </style>\n",
              "\n",
              "    <script>\n",
              "      const buttonEl =\n",
              "        document.querySelector('#df-fdab6644-40bb-45dd-9ec1-713a2f2bd5d3 button.colab-df-convert');\n",
              "      buttonEl.style.display =\n",
              "        google.colab.kernel.accessAllowed ? 'block' : 'none';\n",
              "\n",
              "      async function convertToInteractive(key) {\n",
              "        const element = document.querySelector('#df-fdab6644-40bb-45dd-9ec1-713a2f2bd5d3');\n",
              "        const dataTable =\n",
              "          await google.colab.kernel.invokeFunction('convertToInteractive',\n",
              "                                                    [key], {});\n",
              "        if (!dataTable) return;\n",
              "\n",
              "        const docLinkHtml = 'Like what you see? Visit the ' +\n",
              "          '<a target=\"_blank\" href=https://colab.research.google.com/notebooks/data_table.ipynb>data table notebook</a>'\n",
              "          + ' to learn more about interactive tables.';\n",
              "        element.innerHTML = '';\n",
              "        dataTable['output_type'] = 'display_data';\n",
              "        await google.colab.output.renderOutput(dataTable, element);\n",
              "        const docLink = document.createElement('div');\n",
              "        docLink.innerHTML = docLinkHtml;\n",
              "        element.appendChild(docLink);\n",
              "      }\n",
              "    </script>\n",
              "  </div>\n",
              "\n",
              "\n",
              "<div id=\"df-87a7e5be-b480-4e29-a4f0-3aa2bac8608a\">\n",
              "  <button class=\"colab-df-quickchart\" onclick=\"quickchart('df-87a7e5be-b480-4e29-a4f0-3aa2bac8608a')\"\n",
              "            title=\"Suggest charts\"\n",
              "            style=\"display:none;\">\n",
              "\n",
              "<svg xmlns=\"http://www.w3.org/2000/svg\" height=\"24px\"viewBox=\"0 0 24 24\"\n",
              "     width=\"24px\">\n",
              "    <g>\n",
              "        <path d=\"M19 3H5c-1.1 0-2 .9-2 2v14c0 1.1.9 2 2 2h14c1.1 0 2-.9 2-2V5c0-1.1-.9-2-2-2zM9 17H7v-7h2v7zm4 0h-2V7h2v10zm4 0h-2v-4h2v4z\"/>\n",
              "    </g>\n",
              "</svg>\n",
              "  </button>\n",
              "\n",
              "<style>\n",
              "  .colab-df-quickchart {\n",
              "      --bg-color: #E8F0FE;\n",
              "      --fill-color: #1967D2;\n",
              "      --hover-bg-color: #E2EBFA;\n",
              "      --hover-fill-color: #174EA6;\n",
              "      --disabled-fill-color: #AAA;\n",
              "      --disabled-bg-color: #DDD;\n",
              "  }\n",
              "\n",
              "  [theme=dark] .colab-df-quickchart {\n",
              "      --bg-color: #3B4455;\n",
              "      --fill-color: #D2E3FC;\n",
              "      --hover-bg-color: #434B5C;\n",
              "      --hover-fill-color: #FFFFFF;\n",
              "      --disabled-bg-color: #3B4455;\n",
              "      --disabled-fill-color: #666;\n",
              "  }\n",
              "\n",
              "  .colab-df-quickchart {\n",
              "    background-color: var(--bg-color);\n",
              "    border: none;\n",
              "    border-radius: 50%;\n",
              "    cursor: pointer;\n",
              "    display: none;\n",
              "    fill: var(--fill-color);\n",
              "    height: 32px;\n",
              "    padding: 0;\n",
              "    width: 32px;\n",
              "  }\n",
              "\n",
              "  .colab-df-quickchart:hover {\n",
              "    background-color: var(--hover-bg-color);\n",
              "    box-shadow: 0 1px 2px rgba(60, 64, 67, 0.3), 0 1px 3px 1px rgba(60, 64, 67, 0.15);\n",
              "    fill: var(--button-hover-fill-color);\n",
              "  }\n",
              "\n",
              "  .colab-df-quickchart-complete:disabled,\n",
              "  .colab-df-quickchart-complete:disabled:hover {\n",
              "    background-color: var(--disabled-bg-color);\n",
              "    fill: var(--disabled-fill-color);\n",
              "    box-shadow: none;\n",
              "  }\n",
              "\n",
              "  .colab-df-spinner {\n",
              "    border: 2px solid var(--fill-color);\n",
              "    border-color: transparent;\n",
              "    border-bottom-color: var(--fill-color);\n",
              "    animation:\n",
              "      spin 1s steps(1) infinite;\n",
              "  }\n",
              "\n",
              "  @keyframes spin {\n",
              "    0% {\n",
              "      border-color: transparent;\n",
              "      border-bottom-color: var(--fill-color);\n",
              "      border-left-color: var(--fill-color);\n",
              "    }\n",
              "    20% {\n",
              "      border-color: transparent;\n",
              "      border-left-color: var(--fill-color);\n",
              "      border-top-color: var(--fill-color);\n",
              "    }\n",
              "    30% {\n",
              "      border-color: transparent;\n",
              "      border-left-color: var(--fill-color);\n",
              "      border-top-color: var(--fill-color);\n",
              "      border-right-color: var(--fill-color);\n",
              "    }\n",
              "    40% {\n",
              "      border-color: transparent;\n",
              "      border-right-color: var(--fill-color);\n",
              "      border-top-color: var(--fill-color);\n",
              "    }\n",
              "    60% {\n",
              "      border-color: transparent;\n",
              "      border-right-color: var(--fill-color);\n",
              "    }\n",
              "    80% {\n",
              "      border-color: transparent;\n",
              "      border-right-color: var(--fill-color);\n",
              "      border-bottom-color: var(--fill-color);\n",
              "    }\n",
              "    90% {\n",
              "      border-color: transparent;\n",
              "      border-bottom-color: var(--fill-color);\n",
              "    }\n",
              "  }\n",
              "</style>\n",
              "\n",
              "  <script>\n",
              "    async function quickchart(key) {\n",
              "      const quickchartButtonEl =\n",
              "        document.querySelector('#' + key + ' button');\n",
              "      quickchartButtonEl.disabled = true;  // To prevent multiple clicks.\n",
              "      quickchartButtonEl.classList.add('colab-df-spinner');\n",
              "      try {\n",
              "        const charts = await google.colab.kernel.invokeFunction(\n",
              "            'suggestCharts', [key], {});\n",
              "      } catch (error) {\n",
              "        console.error('Error during call to suggestCharts:', error);\n",
              "      }\n",
              "      quickchartButtonEl.classList.remove('colab-df-spinner');\n",
              "      quickchartButtonEl.classList.add('colab-df-quickchart-complete');\n",
              "    }\n",
              "    (() => {\n",
              "      let quickchartButtonEl =\n",
              "        document.querySelector('#df-87a7e5be-b480-4e29-a4f0-3aa2bac8608a button');\n",
              "      quickchartButtonEl.style.display =\n",
              "        google.colab.kernel.accessAllowed ? 'block' : 'none';\n",
              "    })();\n",
              "  </script>\n",
              "</div>\n",
              "\n",
              "    </div>\n",
              "  </div>\n"
            ],
            "text/plain": [
              "         header                     subheader  \\\n",
              "0           NaN  Effective as of January 2024   \n",
              "1           NaN  Effective as of January 2024   \n",
              "2  Introduction                           NaN   \n",
              "3  Introduction                           NaN   \n",
              "4  Introduction                           NaN   \n",
              "\n",
              "                                             content  \\\n",
              "0   NM0424U-3545100-1/26 Contents Introduction .....   \n",
              "1   NM0424U-3545100-1/26 Contents Introduction .....   \n",
              "2   BlackRock’s clients depend on us to help them...   \n",
              "3   BlackRock’s clients depend on us to help them...   \n",
              "4   BlackRock’s clients depend on us to help them...   \n",
              "\n",
              "                                  relevant_sentences        chatgpt_response  \n",
              "0  Virtual meetings Shareholders should have the ...  Not a proxy guideline.  \n",
              "1  Shareholders should have a meaningful opportun...  Not a proxy guideline.  \n",
              "2  3.  Contributing to emerging thinking on stewa...  Not a proxy guideline.  \n",
              "3  Virtual meetings Shareholders should have the ...  Not a proxy guideline.  \n",
              "4  Shareholders should have a meaningful opportun...  Not a proxy guideline.  "
            ]
          },
          "execution_count": 54,
          "metadata": {},
          "output_type": "execute_result"
        }
      ],
      "source": [
        "blackrock_df_exploded.head()"
      ]
    },
    {
      "cell_type": "code",
      "execution_count": null,
      "metadata": {
        "id": "ih476zTf1DhZ"
      },
      "outputs": [],
      "source": [
        "# Load pickle back if needed\n",
        "\n",
        "blackrock_df_exploded = pd.read_pickle('/content/drive/My Drive/blackrock_df_exploded.pkl')"
      ]
    },
    {
      "cell_type": "markdown",
      "metadata": {
        "id": "t3BPFRRO5RJy"
      },
      "source": [
        "### Vanguard voting guidelines\n",
        "The code below is the same as the above for BlackRock, but now it is completed for the Vanguard PDF"
      ]
    },
    {
      "cell_type": "code",
      "execution_count": null,
      "metadata": {
        "id": "OCp2JHX91M7a"
      },
      "outputs": [],
      "source": [
        "# Do the same for vanguard\n",
        "# iterate through all headers and subheaders, add to dataframe\n",
        "vanguard_contents = []\n",
        "current_header = np.nan\n",
        "\n",
        "for i in range(len(vanguard_all_headers)-1):\n",
        "#for i in range(3):\n",
        "\n",
        "  first_header_reached = False\n",
        "  next_header_reached = False\n",
        "  sub_header_reached = False\n",
        "  last_header_reached = False\n",
        "\n",
        "  current_sub_header = None\n",
        "\n",
        "  text_contents = \"\"\n",
        "\n",
        "  for page_layout in extract_pages(\"/content/vanguard_guidelines.pdf\"):\n",
        "        for element in page_layout:\n",
        "            if isinstance(element, LTTextBoxHorizontal):\n",
        "                for text_line in element:\n",
        "                    if isinstance(text_line, LTTextLineHorizontal):\n",
        "                        # If we have reached last header, handle differently\n",
        "                        if text_line.get_text().strip() == vanguard_all_headers[len(vanguard_all_headers)-1]:\n",
        "                          last_header_reached = True\n",
        "\n",
        "                        # If we have reached the next header, stop adding contents to text\n",
        "                        if text_line.get_text().strip() == vanguard_all_headers[i+1]:\n",
        "                            next_header_reached = True\n",
        "\n",
        "                        # If we are in header section, append contents to text\n",
        "                        if (first_header_reached == True) and (next_header_reached == False) and (last_header_reached == False):\n",
        "                          text_contents += (' ' + text_line.get_text().strip())\n",
        "\n",
        "                        if (last_header_reached == True):\n",
        "                          text_contents += (' ' + text_line.get_text().strip())\n",
        "\n",
        "                        # If first header is reached, start appending to contents text\n",
        "                        if text_line.get_text().strip() == vanguard_all_headers[i]:\n",
        "                          first_header_reached = True\n",
        "\n",
        "  if (vanguard_all_headers[i] in vanguard_headers):\n",
        "    current_header = vanguard_all_headers[i]\n",
        "    current_sub_header = np.nan\n",
        "\n",
        "  if (vanguard_all_headers[i] in vanguard_subheaders):\n",
        "    current_sub_header = vanguard_all_headers[i]\n",
        "\n",
        "  vanguard_contents.append({\n",
        "        \"header\": current_header,\n",
        "        \"subheader\": current_sub_header,\n",
        "        \"content\": text_contents\n",
        "      })"
      ]
    },
    {
      "cell_type": "code",
      "execution_count": null,
      "metadata": {
        "id": "n4r0EYbs2PR9"
      },
      "outputs": [],
      "source": [
        "vanguard_df = pd.DataFrame(vanguard_contents)"
      ]
    },
    {
      "cell_type": "code",
      "execution_count": null,
      "metadata": {
        "id": "ACeYo-jD2_QI"
      },
      "outputs": [],
      "source": [
        "relevant_sentences = []\n",
        "\n",
        "for i in range(vanguard_df.shape[0]):\n",
        "\n",
        "  sentence_groups = []\n",
        "\n",
        "  for sentence_group in group_similar_sentences(vanguard_df['content'][i], 0.8):\n",
        "\n",
        "    sentence_in_group_relevant = False\n",
        "\n",
        "    doc = nlp(sentence_group)\n",
        "    sentences = list(doc.sents)\n",
        "    for sentence in sentences:\n",
        "      matches = matcher(sentence)\n",
        "      if matches:\n",
        "        sentence_in_group_relevant = True\n",
        "\n",
        "    if sentence_in_group_relevant:\n",
        "      sentence_groups.append(sentence_group)\n",
        "\n",
        "  relevant_sentences.append(sentence_groups)"
      ]
    },
    {
      "cell_type": "code",
      "execution_count": null,
      "metadata": {
        "id": "CB3PkFxr3-_C"
      },
      "outputs": [],
      "source": [
        "vanguard_df['relevant_sentences'] = relevant_sentences"
      ]
    },
    {
      "cell_type": "code",
      "execution_count": null,
      "metadata": {
        "colab": {
          "base_uri": "https://localhost:8080/",
          "height": 162
        },
        "id": "gZ2M2i-B4ArM",
        "outputId": "63ca2ef5-3c61-44ba-b15b-7591eccbe764"
      },
      "outputs": [
        {
          "ename": "NameError",
          "evalue": "name 'vanguard_df' is not defined",
          "output_type": "error",
          "traceback": [
            "\u001b[0;31m---------------------------------------------------------------------------\u001b[0m",
            "\u001b[0;31mNameError\u001b[0m                                 Traceback (most recent call last)",
            "\u001b[0;32m<ipython-input-17-091bcf8b29bc>\u001b[0m in \u001b[0;36m<cell line: 2>\u001b[0;34m()\u001b[0m\n\u001b[1;32m      1\u001b[0m \u001b[0;31m# Create new dataframe, one row for each relevant sentence\u001b[0m\u001b[0;34m\u001b[0m\u001b[0;34m\u001b[0m\u001b[0m\n\u001b[0;32m----> 2\u001b[0;31m \u001b[0mvanguard_df_exploded\u001b[0m \u001b[0;34m=\u001b[0m \u001b[0mvanguard_df\u001b[0m\u001b[0;34m.\u001b[0m\u001b[0mexplode\u001b[0m\u001b[0;34m(\u001b[0m\u001b[0;34m'relevant_sentences'\u001b[0m\u001b[0;34m)\u001b[0m\u001b[0;34m.\u001b[0m\u001b[0mreset_index\u001b[0m\u001b[0;34m(\u001b[0m\u001b[0mdrop\u001b[0m\u001b[0;34m=\u001b[0m\u001b[0;32mTrue\u001b[0m\u001b[0;34m)\u001b[0m\u001b[0;34m\u001b[0m\u001b[0;34m\u001b[0m\u001b[0m\n\u001b[0m",
            "\u001b[0;31mNameError\u001b[0m: name 'vanguard_df' is not defined"
          ]
        }
      ],
      "source": [
        "# Create new dataframe, one row for each relevant sentence\n",
        "vanguard_df_exploded = vanguard_df.explode('relevant_sentences').reset_index(drop=True)"
      ]
    },
    {
      "cell_type": "code",
      "execution_count": null,
      "metadata": {
        "id": "rXF49GaX4HRx"
      },
      "outputs": [],
      "source": [
        "# Create a list of all responses from ChatGPT\n",
        "chatgpt_responses = []\n",
        "\n",
        "for relevant_sentence in vanguard_df_exploded['relevant_sentences'].tolist():\n",
        "\n",
        "  completion = client.chat.completions.create(\n",
        "    model=\"gpt-4o-mini\",\n",
        "    messages=[\n",
        "        {\"role\": \"system\", \"content\": \"You are a helpful assistant.\"},\n",
        "        {\n",
        "            \"role\": \"user\",\n",
        "            \"content\": f\"I will provide a piece of text that may or may not contain proxy voting guidelines, giving customers the ability to understand expectations and guidelines on certain policies. If it is a guideline, return it in the form 'may vote FOR/AGAINST...' if it is not a solid rule, and in the form 'Votes FOR/AGAINST...' if it is a solid rule. Some examples of output guidelines are 'May vote AGAINST a non-executive director serving on more than 4 public boards', 'Votes FOR shareholder proposals to declassify the board, unless the board provides a strategic rationale for classification', 'May vote AGAINST committee members responsible for CEO/management succession if there are significant concerns regarding the planning efforts'. If there is no rule, return 'Not a proxy guideline'. Do not respond with any additional context, only the text that I asked you to provide. Here is the text: '{relevant_sentence}'\"\n",
        "        }\n",
        "    ]\n",
        "  )\n",
        "\n",
        "  result = completion.choices[0].message\n",
        "\n",
        "  chatgpt_responses.append(result.content)"
      ]
    },
    {
      "cell_type": "code",
      "execution_count": null,
      "metadata": {
        "id": "giBkH1fP4Vy1"
      },
      "outputs": [],
      "source": [
        "vanguard_df_exploded['chatgpt_response'] = chatgpt_responses"
      ]
    },
    {
      "cell_type": "code",
      "execution_count": null,
      "metadata": {
        "colab": {
          "base_uri": "https://localhost:8080/",
          "height": 162
        },
        "id": "0G3SX_9Y5gaT",
        "outputId": "291b6da2-fdef-4b32-a120-3902577bf640"
      },
      "outputs": [
        {
          "ename": "NameError",
          "evalue": "name 'vanguard_df_exploded' is not defined",
          "output_type": "error",
          "traceback": [
            "\u001b[0;31m---------------------------------------------------------------------------\u001b[0m",
            "\u001b[0;31mNameError\u001b[0m                                 Traceback (most recent call last)",
            "\u001b[0;32m<ipython-input-18-479a6fd1bfaa>\u001b[0m in \u001b[0;36m<cell line: 2>\u001b[0;34m()\u001b[0m\n\u001b[1;32m      1\u001b[0m \u001b[0;31m# Don't want to lose progress, save dataframe so far to a pickle\u001b[0m\u001b[0;34m\u001b[0m\u001b[0;34m\u001b[0m\u001b[0m\n\u001b[0;32m----> 2\u001b[0;31m \u001b[0mvanguard_df_exploded\u001b[0m\u001b[0;34m.\u001b[0m\u001b[0mto_pickle\u001b[0m\u001b[0;34m(\u001b[0m\u001b[0;34m'/content/drive/My Drive/vanguard_df_exploded.pkl'\u001b[0m\u001b[0;34m)\u001b[0m\u001b[0;34m\u001b[0m\u001b[0;34m\u001b[0m\u001b[0m\n\u001b[0m",
            "\u001b[0;31mNameError\u001b[0m: name 'vanguard_df_exploded' is not defined"
          ]
        }
      ],
      "source": [
        "# Don't want to lose progress, save dataframe so far to a pickle\n",
        "vanguard_df_exploded.to_pickle('/content/drive/My Drive/vanguard_df_exploded.pkl')"
      ]
    },
    {
      "cell_type": "code",
      "execution_count": null,
      "metadata": {
        "id": "ZoKBesL55lzA"
      },
      "outputs": [],
      "source": [
        "# Load pickle back if needed\n",
        "\n",
        "vanguard_df_exploded = pd.read_pickle('/content/drive/My Drive/vanguard_df_exploded.pkl')"
      ]
    },
    {
      "cell_type": "markdown",
      "metadata": {
        "id": "qw4eeaxc5h6G"
      },
      "source": [
        "### All voting guidelines"
      ]
    },
    {
      "cell_type": "code",
      "execution_count": null,
      "metadata": {
        "id": "GOIMeB4O5o8q"
      },
      "outputs": [],
      "source": [
        "# Get list of all unique proxy guidelines\n",
        "all_proxy_guidelines = []\n",
        "\n",
        "# Filter out results that are not a voting guideline\n",
        "for response in vanguard_df_exploded['chatgpt_response'].tolist():\n",
        "  if response not in all_proxy_guidelines and response != \"Not a proxy guideline.\":\n",
        "    all_proxy_guidelines.append(response)\n",
        "\n",
        "for response in blackrock_df_exploded['chatgpt_response'].tolist():\n",
        "  if response not in all_proxy_guidelines and response != \"Not a proxy guideline.\":\n",
        "    all_proxy_guidelines.append(response)"
      ]
    },
    {
      "cell_type": "code",
      "execution_count": null,
      "metadata": {
        "id": "-LXCWPb2Ru0x"
      },
      "outputs": [],
      "source": [
        "# Some OpenAI responses have a '\\n' character, split these out into separate elements\n",
        "blackrock_responses_split = []\n",
        "vanguard_responses_split = []\n",
        "\n",
        "for response in blackrock_df_exploded['chatgpt_response'].tolist():\n",
        "  blackrock_responses_split.append(response.split('\\n'))\n",
        "\n",
        "for response in vanguard_df_exploded['chatgpt_response'].tolist():\n",
        "  vanguard_responses_split.append(response.split('\\n'))\n",
        "\n",
        "# Add individual response to dataframe\n",
        "blackrock_df_exploded['chatgpt_response_split'] = blackrock_responses_split\n",
        "vanguard_df_exploded['chatgpt_response_split'] = vanguard_responses_split"
      ]
    },
    {
      "cell_type": "code",
      "execution_count": null,
      "metadata": {
        "id": "Ncnmzgtp3EXP"
      },
      "outputs": [],
      "source": [
        "# Add source PDF to each dataframe\n",
        "blackrock_df_exploded['source'] = 'BlackRock'\n",
        "vanguard_df_exploded['source'] = 'Vanguard'"
      ]
    },
    {
      "cell_type": "code",
      "execution_count": null,
      "metadata": {
        "id": "yPlAZf_mSoWU"
      },
      "outputs": [],
      "source": [
        "# If OpenAI responses are on multiple lines, create one row for each line\n",
        "blackrock_df_final = blackrock_df_exploded.explode('chatgpt_response_split').reset_index(drop=True)\n",
        "vanguard_df_final = vanguard_df_exploded.explode('chatgpt_response_split').reset_index(drop=True)"
      ]
    },
    {
      "cell_type": "code",
      "execution_count": null,
      "metadata": {
        "id": "XaKMQcb3SiQV"
      },
      "outputs": [],
      "source": [
        "# Combine the dataframes from the two sources into a consolidated dataframe\n",
        "# This dataframe contains the header, subheader, content text, potential voting guidelines, and responses from OpenAI\n",
        "combined_df = pd.concat([blackrock_df_final, vanguard_df_final], ignore_index=True)"
      ]
    },
    {
      "cell_type": "code",
      "execution_count": null,
      "metadata": {
        "colab": {
          "base_uri": "https://localhost:8080/",
          "height": 1000
        },
        "id": "1JfcPk19StVg",
        "outputId": "1a284b73-5024-4cd7-bb8f-c2c6fc84ba66"
      },
      "outputs": [
        {
          "data": {
            "application/vnd.google.colaboratory.intrinsic+json": {
              "summary": "{\n  \"name\": \"combined_df\",\n  \"rows\": 627,\n  \"fields\": [\n    {\n      \"column\": \"header\",\n      \"properties\": {\n        \"dtype\": \"category\",\n        \"num_unique_values\": 20,\n        \"samples\": [\n          \"Introduction\",\n          \"Pillar II: Board oversight of strategy and risk\",\n          \"Effective February 2024\"\n        ],\n        \"semantic_type\": \"\",\n        \"description\": \"\"\n      }\n    },\n    {\n      \"column\": \"subheader\",\n      \"properties\": {\n        \"dtype\": \"category\",\n        \"num_unique_values\": 81,\n        \"samples\": [\n          \"Equity compensation plans\",\n          \"Effective as of January 2024\",\n          \"Mergers, acquisitions, and transactions\"\n        ],\n        \"semantic_type\": \"\",\n        \"description\": \"\"\n      }\n    },\n    {\n      \"column\": \"content\",\n      \"properties\": {\n        \"dtype\": \"category\",\n        \"num_unique_values\": 93,\n        \"samples\": [\n          \" It is our view that well-managed companies will effectively evaluate and manage material sustainability- related risks and opportunities relevant to their businesses. As with all risks and opportunities in a company's business model, appropriate oversight of material sustainability considerations is a core component of having an effective governance framework, which supports durable, long-term financial value creation. When assessing how to vote \\u2013 including on the election of directors and relevant shareholder proposals \\u2013 robust disclosures are essential for investors to understand, where appropriate, how companies are integrating material sustainability risks and opportunities across their business and strategic, long-term planning. Where a company has failed to appropriately provide the necessary disclosures and evidence of effective business practices to support our assessment, BIS may express concerns through our engagement and voting. As part of this consideration, we encourage companies to produce sustainability-related disclosures sufficiently in advance of their annual meeting so that the disclosures can be considered in relevant vote decisions. Robust disclosure is essential for investors to effectively evaluate companies\\u2019 strategy and business practices related to material sustainability-related risks and opportunities. Long-term investors like our clients can benefit when companies demonstrate that they have a resilient business model through disclosures that cover governance, strategy, risk management, and metrics and targets, including industry-specific metrics. The International Sustainability Standards Board (ISSB) standards, IFRS S1 and BlackRock Investment Stewardship Proxy voting guidelines for U.S. securities |  17 NM0424U-3545100-17/26 S2,11 provide companies with a useful guide to preparing this disclosure. The standards build on the Task Force on Climate-related Financial Disclosures (TCFD) framework and the standards and metrics developed by the Sustainability Accounting Standards Board (SASB), which have converged under the ISSB. We recognize that companies may phase in reporting aligned with the ISSB standards over several years. We also recognize that some companies may report using different standards, which may be required by regulation, or one of a number of voluntary standards. In such cases, we ask that companies highlight the metrics that are industry- or company-specific. Companies may also disclose any material supranational standards adopted, the industry initiatives in which they participate, any peer group benchmarking undertaken, and any assurance processes to help investors understand their approach to sustainable and responsible business conduct. Virtual meetings Shareholders should have the opportunity to participate in the annual and special meetings for the companies in which they are invested, as these meetings are an opportunity for shareholders to provide feedback and hear from the board and management. While these meetings have traditionally been conducted in-person, virtual meetings are an increasingly viable way for companies to utilize technology to facilitate shareholder accessibility, inclusiveness, and cost efficiencies. Shareholders should have a meaningful opportunity to participate in the meeting and interact with the board and management in these virtual settings; companies should facilitate open dialogue and allow shareholders to voice concerns and provide feedback without undue censorship. Relevant shareholder proposals are assessed on a case-by-case basis. BlackRock Investment Stewardship Proxy voting guidelines for U.S. securities |  25 NM0424U-3545100-25/26 Want to know more? blackrock.com/stewardship  |  contactstewardship@blackrock.com This document is provided for information and educational purposes only. Investing involves risk, including the loss of principal. Prepared by BlackRock, Inc. \\u00a92024 BlackRock, Inc. All rights reserved. BLACKROCK is a trademark of BlackRock, Inc., or its subsidiaries in the United States and elsewhere. All other trademarks are those of their respective owners. NM0424U-3545100-26/26\",\n          \" In our view, shareholders should be entitled to voting rights in proportion to their economic interests. In addition, companies that have implemented dual or multiple class share structures should review these structures on a regular basis, or as company circumstances change. Companies with multiple share classes should receive shareholder approval of their capital structure on a periodic basis via a management proposal on the company\\u2019s proxy. The proposal should give unaffiliated shareholders the opportunity to affirm the current structure or establish mechanisms to end or phase out controlling structures at the appropriate time, while minimizing costs to shareholders. Where companies are unwilling to voluntarily implement \\u201cone share, one vote\\u201d within a specified timeframe, or are unresponsive BlackRock Investment Stewardship Proxy voting guidelines for U.S. securities |  11 NM0424U-3545100-11/26 to shareholder feedback for change over time, we generally support shareholder proposals to recapitalize stock into a single voting class. Virtual meetings Shareholders should have the opportunity to participate in the annual and special meetings for the companies in which they are invested, as these meetings are an opportunity for shareholders to provide feedback and hear from the board and management. While these meetings have traditionally been conducted in-person, virtual meetings are an increasingly viable way for companies to utilize technology to facilitate shareholder accessibility, inclusiveness, and cost efficiencies. Shareholders should have a meaningful opportunity to participate in the meeting and interact with the board and management in these virtual settings; companies should facilitate open dialogue and allow shareholders to voice concerns and provide feedback without undue censorship. Relevant shareholder proposals are assessed on a case-by-case basis. BlackRock Investment Stewardship Proxy voting guidelines for U.S. securities |  25 NM0424U-3545100-25/26 Want to know more? blackrock.com/stewardship  |  contactstewardship@blackrock.com This document is provided for information and educational purposes only. Investing involves risk, including the loss of principal. Prepared by BlackRock, Inc. \\u00a92024 BlackRock, Inc. All rights reserved. BLACKROCK is a trademark of BlackRock, Inc., or its subsidiaries in the United States and elsewhere. All other trademarks are those of their respective owners. NM0424U-3545100-26/26\",\n          \" It is our view that long-term shareholders should have the opportunity, when necessary and under reasonable conditions, to nominate directors on the company\\u2019s proxy card.18 Securing the right of shareholders to nominate directors without engaging in a control contest can enhance shareholders\\u2019 ability to meaningfully participate in the director election process, encourage board attention to shareholder interests, and provide shareholders an effective means of directing that attention where it is lacking. Proxy access mechanisms should provide shareholders with a reasonable opportunity to use this right without stipulating overly restrictive or onerous parameters for use, and also 18 BlackRock is subject to certain regulations and laws in the United States that place restrictions and limitations on how BlackRock can interact with the companies in which we invest on behalf of our clients, including our ability to submit shareholder proposals or nominate directors for election to the board. Non-compliance with these rules could adversely affect BlackRock's ability to serve its clients\\u2019 interests. BlackRock Investment Stewardship Proxy voting guidelines for U.S. securities |  23 NM0424U-3545100-23/26 provide assurances that the mechanism will not be subject to abuse by short-term investors, investors without a substantial investment in the company, or investors seeking to take control of the board. In general, we support market-standardized proxy access proposals, which allow a shareholder (or group of up to 20 shareholders) holding three percent of a company\\u2019s outstanding shares for at least three years the right to nominate the greater of up to two directors or 20% of the board. Where a standardized proxy access provision exists, we will generally oppose shareholder proposals requesting outlier thresholds. Virtual meetings Shareholders should have the opportunity to participate in the annual and special meetings for the companies in which they are invested, as these meetings are an opportunity for shareholders to provide feedback and hear from the board and management. While these meetings have traditionally been conducted in-person, virtual meetings are an increasingly viable way for companies to utilize technology to facilitate shareholder accessibility, inclusiveness, and cost efficiencies. Shareholders should have a meaningful opportunity to participate in the meeting and interact with the board and management in these virtual settings; companies should facilitate open dialogue and allow shareholders to voice concerns and provide feedback without undue censorship. Relevant shareholder proposals are assessed on a case-by-case basis. BlackRock Investment Stewardship Proxy voting guidelines for U.S. securities |  25 NM0424U-3545100-25/26 Want to know more? blackrock.com/stewardship  |  contactstewardship@blackrock.com This document is provided for information and educational purposes only. Investing involves risk, including the loss of principal. Prepared by BlackRock, Inc. \\u00a92024 BlackRock, Inc. All rights reserved. BLACKROCK is a trademark of BlackRock, Inc., or its subsidiaries in the United States and elsewhere. All other trademarks are those of their respective owners. NM0424U-3545100-26/26\"\n        ],\n        \"semantic_type\": \"\",\n        \"description\": \"\"\n      }\n    },\n    {\n      \"column\": \"relevant_sentences\",\n      \"properties\": {\n        \"dtype\": \"category\",\n        \"num_unique_values\": 201,\n        \"samples\": [\n          \"In voting on behalf of clients, we do not submit or edit proposals or the supporting statements \\u2013 we must vote yes or no on the proposal as phrased by the proponent.\",\n          \"BlackRock Investment Stewardship Proxy voting guidelines for U.S. securities |  5 NM0424U-3545100-5/26 Virtual meetings Shareholders should have the opportunity to participate in the annual and special meetings for the companies in which they are invested, as these meetings are an opportunity for shareholders to provide feedback and hear from the board and management.\",\n          \"We may oppose boards that appear to have an insufficient mix of short-, medium-, and long-tenured directors.\"\n        ],\n        \"semantic_type\": \"\",\n        \"description\": \"\"\n      }\n    },\n    {\n      \"column\": \"chatgpt_response\",\n      \"properties\": {\n        \"dtype\": \"category\",\n        \"num_unique_values\": 127,\n        \"samples\": [\n          \"May vote AGAINST plans that contain \\u201cevergreen\\u201d provisions, which allow for automatic annual increases of shares available for grant without requiring further shareholder approval.\",\n          \"May vote FOR shareholder proposals requiring that future golden parachutes be put to a vote if current severance arrangements are deemed excessive or unreasonable.\",\n          \"Votes AGAINST directors who attended less than 75% of board or committee meetings in the previous year unless an acceptable extenuating circumstance is disclosed.\"\n        ],\n        \"semantic_type\": \"\",\n        \"description\": \"\"\n      }\n    },\n    {\n      \"column\": \"source\",\n      \"properties\": {\n        \"dtype\": \"category\",\n        \"num_unique_values\": 2,\n        \"samples\": [\n          \"Vanguard\",\n          \"BlackRock\"\n        ],\n        \"semantic_type\": \"\",\n        \"description\": \"\"\n      }\n    },\n    {\n      \"column\": \"chatgpt_response_split\",\n      \"properties\": {\n        \"dtype\": \"category\",\n        \"num_unique_values\": 130,\n        \"samples\": [\n          \"May vote AGAINST the nominee at each company where they serve as a nonexecutive director if an NEO sits on more than two public company boards, but not at the nominee\\u2019s home board.\",\n          \"May vote AGAINST certain directors where changes to governing documents are not put to a shareholder vote within a reasonable period of time, particularly if those changes have the potential to impact shareholder rights.\"\n        ],\n        \"semantic_type\": \"\",\n        \"description\": \"\"\n      }\n    },\n    {\n      \"column\": \"final_proxy_guideline\",\n      \"properties\": {\n        \"dtype\": \"category\",\n        \"num_unique_values\": 106,\n        \"samples\": [\n          \"May vote FOR management proposals to limit terms of outside directors and may vote AGAINST shareholder proposals to limit such terms.\",\n          \"May vote AGAINST the directors up for election if there are concerns about a specific director.\"\n        ],\n        \"semantic_type\": \"\",\n        \"description\": \"\"\n      }\n    },\n    {\n      \"column\": \"classification\",\n      \"properties\": {\n        \"dtype\": \"category\",\n        \"num_unique_values\": 5,\n        \"samples\": [\n          \"independence\",\n          \"compensation\"\n        ],\n        \"semantic_type\": \"\",\n        \"description\": \"\"\n      }\n    }\n  ]\n}",
              "type": "dataframe",
              "variable_name": "combined_df"
            },
            "text/html": [
              "\n",
              "  <div id=\"df-9cca8292-5307-4d9f-a4c6-6487b2d0f219\" class=\"colab-df-container\">\n",
              "    <div>\n",
              "<style scoped>\n",
              "    .dataframe tbody tr th:only-of-type {\n",
              "        vertical-align: middle;\n",
              "    }\n",
              "\n",
              "    .dataframe tbody tr th {\n",
              "        vertical-align: top;\n",
              "    }\n",
              "\n",
              "    .dataframe thead th {\n",
              "        text-align: right;\n",
              "    }\n",
              "</style>\n",
              "<table border=\"1\" class=\"dataframe\">\n",
              "  <thead>\n",
              "    <tr style=\"text-align: right;\">\n",
              "      <th></th>\n",
              "      <th>header</th>\n",
              "      <th>subheader</th>\n",
              "      <th>content</th>\n",
              "      <th>relevant_sentences</th>\n",
              "      <th>chatgpt_response</th>\n",
              "      <th>source</th>\n",
              "      <th>chatgpt_response_split</th>\n",
              "      <th>final_proxy_guideline</th>\n",
              "      <th>classification</th>\n",
              "    </tr>\n",
              "  </thead>\n",
              "  <tbody>\n",
              "    <tr>\n",
              "      <th>0</th>\n",
              "      <td>NaN</td>\n",
              "      <td>Effective as of January 2024</td>\n",
              "      <td>NM0424U-3545100-1/26 Contents Introduction .....</td>\n",
              "      <td>Virtual meetings Shareholders should have the ...</td>\n",
              "      <td>Not a proxy guideline.</td>\n",
              "      <td>BlackRock</td>\n",
              "      <td>Not a proxy guideline.</td>\n",
              "      <td>Not a proxy guideline.</td>\n",
              "      <td>NaN</td>\n",
              "    </tr>\n",
              "    <tr>\n",
              "      <th>1</th>\n",
              "      <td>NaN</td>\n",
              "      <td>Effective as of January 2024</td>\n",
              "      <td>NM0424U-3545100-1/26 Contents Introduction .....</td>\n",
              "      <td>Shareholders should have a meaningful opportun...</td>\n",
              "      <td>Not a proxy guideline.</td>\n",
              "      <td>BlackRock</td>\n",
              "      <td>Not a proxy guideline.</td>\n",
              "      <td>Not a proxy guideline.</td>\n",
              "      <td>NaN</td>\n",
              "    </tr>\n",
              "    <tr>\n",
              "      <th>2</th>\n",
              "      <td>Introduction</td>\n",
              "      <td>NaN</td>\n",
              "      <td>BlackRock’s clients depend on us to help them...</td>\n",
              "      <td>3.  Contributing to emerging thinking on stewa...</td>\n",
              "      <td>Not a proxy guideline.</td>\n",
              "      <td>BlackRock</td>\n",
              "      <td>Not a proxy guideline.</td>\n",
              "      <td>Not a proxy guideline.</td>\n",
              "      <td>NaN</td>\n",
              "    </tr>\n",
              "    <tr>\n",
              "      <th>3</th>\n",
              "      <td>Introduction</td>\n",
              "      <td>NaN</td>\n",
              "      <td>BlackRock’s clients depend on us to help them...</td>\n",
              "      <td>Virtual meetings Shareholders should have the ...</td>\n",
              "      <td>Not a proxy guideline.</td>\n",
              "      <td>BlackRock</td>\n",
              "      <td>Not a proxy guideline.</td>\n",
              "      <td>Not a proxy guideline.</td>\n",
              "      <td>NaN</td>\n",
              "    </tr>\n",
              "    <tr>\n",
              "      <th>4</th>\n",
              "      <td>Introduction</td>\n",
              "      <td>NaN</td>\n",
              "      <td>BlackRock’s clients depend on us to help them...</td>\n",
              "      <td>Shareholders should have a meaningful opportun...</td>\n",
              "      <td>Not a proxy guideline.</td>\n",
              "      <td>BlackRock</td>\n",
              "      <td>Not a proxy guideline.</td>\n",
              "      <td>Not a proxy guideline.</td>\n",
              "      <td>NaN</td>\n",
              "    </tr>\n",
              "    <tr>\n",
              "      <th>5</th>\n",
              "      <td>Voting guidelines</td>\n",
              "      <td>NaN</td>\n",
              "      <td>These guidelines are divided into eight key t...</td>\n",
              "      <td>Shareholder protections Virtual meetings Share...</td>\n",
              "      <td>Not a proxy guideline.</td>\n",
              "      <td>BlackRock</td>\n",
              "      <td>Not a proxy guideline.</td>\n",
              "      <td>Not a proxy guideline.</td>\n",
              "      <td>NaN</td>\n",
              "    </tr>\n",
              "    <tr>\n",
              "      <th>6</th>\n",
              "      <td>Voting guidelines</td>\n",
              "      <td>NaN</td>\n",
              "      <td>These guidelines are divided into eight key t...</td>\n",
              "      <td>Shareholders should have a meaningful opportun...</td>\n",
              "      <td>Not a proxy guideline.</td>\n",
              "      <td>BlackRock</td>\n",
              "      <td>Not a proxy guideline.</td>\n",
              "      <td>Not a proxy guideline.</td>\n",
              "      <td>NaN</td>\n",
              "    </tr>\n",
              "    <tr>\n",
              "      <th>7</th>\n",
              "      <td>Boards and directors</td>\n",
              "      <td>NaN</td>\n",
              "      <td>We believe that an effective and well-functio...</td>\n",
              "      <td>Disclosure of material risks that may affect a...</td>\n",
              "      <td>Not a proxy guideline.</td>\n",
              "      <td>BlackRock</td>\n",
              "      <td>Not a proxy guideline.</td>\n",
              "      <td>Not a proxy guideline.</td>\n",
              "      <td>NaN</td>\n",
              "    </tr>\n",
              "    <tr>\n",
              "      <th>8</th>\n",
              "      <td>Boards and directors</td>\n",
              "      <td>NaN</td>\n",
              "      <td>We believe that an effective and well-functio...</td>\n",
              "      <td>Virtual meetings Shareholders should have the ...</td>\n",
              "      <td>Not a proxy guideline.</td>\n",
              "      <td>BlackRock</td>\n",
              "      <td>Not a proxy guideline.</td>\n",
              "      <td>Not a proxy guideline.</td>\n",
              "      <td>NaN</td>\n",
              "    </tr>\n",
              "    <tr>\n",
              "      <th>9</th>\n",
              "      <td>Boards and directors</td>\n",
              "      <td>NaN</td>\n",
              "      <td>We believe that an effective and well-functio...</td>\n",
              "      <td>Shareholders should have a meaningful opportun...</td>\n",
              "      <td>Not a proxy guideline.</td>\n",
              "      <td>BlackRock</td>\n",
              "      <td>Not a proxy guideline.</td>\n",
              "      <td>Not a proxy guideline.</td>\n",
              "      <td>NaN</td>\n",
              "    </tr>\n",
              "  </tbody>\n",
              "</table>\n",
              "</div>\n",
              "    <div class=\"colab-df-buttons\">\n",
              "\n",
              "  <div class=\"colab-df-container\">\n",
              "    <button class=\"colab-df-convert\" onclick=\"convertToInteractive('df-9cca8292-5307-4d9f-a4c6-6487b2d0f219')\"\n",
              "            title=\"Convert this dataframe to an interactive table.\"\n",
              "            style=\"display:none;\">\n",
              "\n",
              "  <svg xmlns=\"http://www.w3.org/2000/svg\" height=\"24px\" viewBox=\"0 -960 960 960\">\n",
              "    <path d=\"M120-120v-720h720v720H120Zm60-500h600v-160H180v160Zm220 220h160v-160H400v160Zm0 220h160v-160H400v160ZM180-400h160v-160H180v160Zm440 0h160v-160H620v160ZM180-180h160v-160H180v160Zm440 0h160v-160H620v160Z\"/>\n",
              "  </svg>\n",
              "    </button>\n",
              "\n",
              "  <style>\n",
              "    .colab-df-container {\n",
              "      display:flex;\n",
              "      gap: 12px;\n",
              "    }\n",
              "\n",
              "    .colab-df-convert {\n",
              "      background-color: #E8F0FE;\n",
              "      border: none;\n",
              "      border-radius: 50%;\n",
              "      cursor: pointer;\n",
              "      display: none;\n",
              "      fill: #1967D2;\n",
              "      height: 32px;\n",
              "      padding: 0 0 0 0;\n",
              "      width: 32px;\n",
              "    }\n",
              "\n",
              "    .colab-df-convert:hover {\n",
              "      background-color: #E2EBFA;\n",
              "      box-shadow: 0px 1px 2px rgba(60, 64, 67, 0.3), 0px 1px 3px 1px rgba(60, 64, 67, 0.15);\n",
              "      fill: #174EA6;\n",
              "    }\n",
              "\n",
              "    .colab-df-buttons div {\n",
              "      margin-bottom: 4px;\n",
              "    }\n",
              "\n",
              "    [theme=dark] .colab-df-convert {\n",
              "      background-color: #3B4455;\n",
              "      fill: #D2E3FC;\n",
              "    }\n",
              "\n",
              "    [theme=dark] .colab-df-convert:hover {\n",
              "      background-color: #434B5C;\n",
              "      box-shadow: 0px 1px 3px 1px rgba(0, 0, 0, 0.15);\n",
              "      filter: drop-shadow(0px 1px 2px rgba(0, 0, 0, 0.3));\n",
              "      fill: #FFFFFF;\n",
              "    }\n",
              "  </style>\n",
              "\n",
              "    <script>\n",
              "      const buttonEl =\n",
              "        document.querySelector('#df-9cca8292-5307-4d9f-a4c6-6487b2d0f219 button.colab-df-convert');\n",
              "      buttonEl.style.display =\n",
              "        google.colab.kernel.accessAllowed ? 'block' : 'none';\n",
              "\n",
              "      async function convertToInteractive(key) {\n",
              "        const element = document.querySelector('#df-9cca8292-5307-4d9f-a4c6-6487b2d0f219');\n",
              "        const dataTable =\n",
              "          await google.colab.kernel.invokeFunction('convertToInteractive',\n",
              "                                                    [key], {});\n",
              "        if (!dataTable) return;\n",
              "\n",
              "        const docLinkHtml = 'Like what you see? Visit the ' +\n",
              "          '<a target=\"_blank\" href=https://colab.research.google.com/notebooks/data_table.ipynb>data table notebook</a>'\n",
              "          + ' to learn more about interactive tables.';\n",
              "        element.innerHTML = '';\n",
              "        dataTable['output_type'] = 'display_data';\n",
              "        await google.colab.output.renderOutput(dataTable, element);\n",
              "        const docLink = document.createElement('div');\n",
              "        docLink.innerHTML = docLinkHtml;\n",
              "        element.appendChild(docLink);\n",
              "      }\n",
              "    </script>\n",
              "  </div>\n",
              "\n",
              "\n",
              "<div id=\"df-53080b61-51b7-4b4c-a22f-6ef5ba4e46f7\">\n",
              "  <button class=\"colab-df-quickchart\" onclick=\"quickchart('df-53080b61-51b7-4b4c-a22f-6ef5ba4e46f7')\"\n",
              "            title=\"Suggest charts\"\n",
              "            style=\"display:none;\">\n",
              "\n",
              "<svg xmlns=\"http://www.w3.org/2000/svg\" height=\"24px\"viewBox=\"0 0 24 24\"\n",
              "     width=\"24px\">\n",
              "    <g>\n",
              "        <path d=\"M19 3H5c-1.1 0-2 .9-2 2v14c0 1.1.9 2 2 2h14c1.1 0 2-.9 2-2V5c0-1.1-.9-2-2-2zM9 17H7v-7h2v7zm4 0h-2V7h2v10zm4 0h-2v-4h2v4z\"/>\n",
              "    </g>\n",
              "</svg>\n",
              "  </button>\n",
              "\n",
              "<style>\n",
              "  .colab-df-quickchart {\n",
              "      --bg-color: #E8F0FE;\n",
              "      --fill-color: #1967D2;\n",
              "      --hover-bg-color: #E2EBFA;\n",
              "      --hover-fill-color: #174EA6;\n",
              "      --disabled-fill-color: #AAA;\n",
              "      --disabled-bg-color: #DDD;\n",
              "  }\n",
              "\n",
              "  [theme=dark] .colab-df-quickchart {\n",
              "      --bg-color: #3B4455;\n",
              "      --fill-color: #D2E3FC;\n",
              "      --hover-bg-color: #434B5C;\n",
              "      --hover-fill-color: #FFFFFF;\n",
              "      --disabled-bg-color: #3B4455;\n",
              "      --disabled-fill-color: #666;\n",
              "  }\n",
              "\n",
              "  .colab-df-quickchart {\n",
              "    background-color: var(--bg-color);\n",
              "    border: none;\n",
              "    border-radius: 50%;\n",
              "    cursor: pointer;\n",
              "    display: none;\n",
              "    fill: var(--fill-color);\n",
              "    height: 32px;\n",
              "    padding: 0;\n",
              "    width: 32px;\n",
              "  }\n",
              "\n",
              "  .colab-df-quickchart:hover {\n",
              "    background-color: var(--hover-bg-color);\n",
              "    box-shadow: 0 1px 2px rgba(60, 64, 67, 0.3), 0 1px 3px 1px rgba(60, 64, 67, 0.15);\n",
              "    fill: var(--button-hover-fill-color);\n",
              "  }\n",
              "\n",
              "  .colab-df-quickchart-complete:disabled,\n",
              "  .colab-df-quickchart-complete:disabled:hover {\n",
              "    background-color: var(--disabled-bg-color);\n",
              "    fill: var(--disabled-fill-color);\n",
              "    box-shadow: none;\n",
              "  }\n",
              "\n",
              "  .colab-df-spinner {\n",
              "    border: 2px solid var(--fill-color);\n",
              "    border-color: transparent;\n",
              "    border-bottom-color: var(--fill-color);\n",
              "    animation:\n",
              "      spin 1s steps(1) infinite;\n",
              "  }\n",
              "\n",
              "  @keyframes spin {\n",
              "    0% {\n",
              "      border-color: transparent;\n",
              "      border-bottom-color: var(--fill-color);\n",
              "      border-left-color: var(--fill-color);\n",
              "    }\n",
              "    20% {\n",
              "      border-color: transparent;\n",
              "      border-left-color: var(--fill-color);\n",
              "      border-top-color: var(--fill-color);\n",
              "    }\n",
              "    30% {\n",
              "      border-color: transparent;\n",
              "      border-left-color: var(--fill-color);\n",
              "      border-top-color: var(--fill-color);\n",
              "      border-right-color: var(--fill-color);\n",
              "    }\n",
              "    40% {\n",
              "      border-color: transparent;\n",
              "      border-right-color: var(--fill-color);\n",
              "      border-top-color: var(--fill-color);\n",
              "    }\n",
              "    60% {\n",
              "      border-color: transparent;\n",
              "      border-right-color: var(--fill-color);\n",
              "    }\n",
              "    80% {\n",
              "      border-color: transparent;\n",
              "      border-right-color: var(--fill-color);\n",
              "      border-bottom-color: var(--fill-color);\n",
              "    }\n",
              "    90% {\n",
              "      border-color: transparent;\n",
              "      border-bottom-color: var(--fill-color);\n",
              "    }\n",
              "  }\n",
              "</style>\n",
              "\n",
              "  <script>\n",
              "    async function quickchart(key) {\n",
              "      const quickchartButtonEl =\n",
              "        document.querySelector('#' + key + ' button');\n",
              "      quickchartButtonEl.disabled = true;  // To prevent multiple clicks.\n",
              "      quickchartButtonEl.classList.add('colab-df-spinner');\n",
              "      try {\n",
              "        const charts = await google.colab.kernel.invokeFunction(\n",
              "            'suggestCharts', [key], {});\n",
              "      } catch (error) {\n",
              "        console.error('Error during call to suggestCharts:', error);\n",
              "      }\n",
              "      quickchartButtonEl.classList.remove('colab-df-spinner');\n",
              "      quickchartButtonEl.classList.add('colab-df-quickchart-complete');\n",
              "    }\n",
              "    (() => {\n",
              "      let quickchartButtonEl =\n",
              "        document.querySelector('#df-53080b61-51b7-4b4c-a22f-6ef5ba4e46f7 button');\n",
              "      quickchartButtonEl.style.display =\n",
              "        google.colab.kernel.accessAllowed ? 'block' : 'none';\n",
              "    })();\n",
              "  </script>\n",
              "</div>\n",
              "\n",
              "    </div>\n",
              "  </div>\n"
            ],
            "text/plain": [
              "                 header                     subheader  \\\n",
              "0                   NaN  Effective as of January 2024   \n",
              "1                   NaN  Effective as of January 2024   \n",
              "2          Introduction                           NaN   \n",
              "3          Introduction                           NaN   \n",
              "4          Introduction                           NaN   \n",
              "5     Voting guidelines                           NaN   \n",
              "6     Voting guidelines                           NaN   \n",
              "7  Boards and directors                           NaN   \n",
              "8  Boards and directors                           NaN   \n",
              "9  Boards and directors                           NaN   \n",
              "\n",
              "                                             content  \\\n",
              "0   NM0424U-3545100-1/26 Contents Introduction .....   \n",
              "1   NM0424U-3545100-1/26 Contents Introduction .....   \n",
              "2   BlackRock’s clients depend on us to help them...   \n",
              "3   BlackRock’s clients depend on us to help them...   \n",
              "4   BlackRock’s clients depend on us to help them...   \n",
              "5   These guidelines are divided into eight key t...   \n",
              "6   These guidelines are divided into eight key t...   \n",
              "7   We believe that an effective and well-functio...   \n",
              "8   We believe that an effective and well-functio...   \n",
              "9   We believe that an effective and well-functio...   \n",
              "\n",
              "                                  relevant_sentences        chatgpt_response  \\\n",
              "0  Virtual meetings Shareholders should have the ...  Not a proxy guideline.   \n",
              "1  Shareholders should have a meaningful opportun...  Not a proxy guideline.   \n",
              "2  3.  Contributing to emerging thinking on stewa...  Not a proxy guideline.   \n",
              "3  Virtual meetings Shareholders should have the ...  Not a proxy guideline.   \n",
              "4  Shareholders should have a meaningful opportun...  Not a proxy guideline.   \n",
              "5  Shareholder protections Virtual meetings Share...  Not a proxy guideline.   \n",
              "6  Shareholders should have a meaningful opportun...  Not a proxy guideline.   \n",
              "7  Disclosure of material risks that may affect a...  Not a proxy guideline.   \n",
              "8  Virtual meetings Shareholders should have the ...  Not a proxy guideline.   \n",
              "9  Shareholders should have a meaningful opportun...  Not a proxy guideline.   \n",
              "\n",
              "      source  chatgpt_response_split   final_proxy_guideline classification  \n",
              "0  BlackRock  Not a proxy guideline.  Not a proxy guideline.            NaN  \n",
              "1  BlackRock  Not a proxy guideline.  Not a proxy guideline.            NaN  \n",
              "2  BlackRock  Not a proxy guideline.  Not a proxy guideline.            NaN  \n",
              "3  BlackRock  Not a proxy guideline.  Not a proxy guideline.            NaN  \n",
              "4  BlackRock  Not a proxy guideline.  Not a proxy guideline.            NaN  \n",
              "5  BlackRock  Not a proxy guideline.  Not a proxy guideline.            NaN  \n",
              "6  BlackRock  Not a proxy guideline.  Not a proxy guideline.            NaN  \n",
              "7  BlackRock  Not a proxy guideline.  Not a proxy guideline.            NaN  \n",
              "8  BlackRock  Not a proxy guideline.  Not a proxy guideline.            NaN  \n",
              "9  BlackRock  Not a proxy guideline.  Not a proxy guideline.            NaN  "
            ]
          },
          "execution_count": 28,
          "metadata": {},
          "output_type": "execute_result"
        }
      ],
      "source": [
        "combined_df.head(10)"
      ]
    },
    {
      "cell_type": "markdown",
      "metadata": {
        "id": "HGCJAfuMPgrw"
      },
      "source": [
        "Now, we want a list of all proxy voting guidelines. Since previously, there was no comparison between the BlackRock and Vanguard PDFs, they may contain very similar information. We need the voting guidelines to be unique, so we will de-duplicate ones that are very contextually similar."
      ]
    },
    {
      "cell_type": "code",
      "execution_count": null,
      "metadata": {
        "id": "AFNVYHpOPmtn"
      },
      "outputs": [],
      "source": [
        "# Preprocess text by creating tokens, removing stop words\n",
        "def preprocess(text):\n",
        "    stop_words = set(stopwords.words('english'))\n",
        "    lemmatizer = WordNetLemmatizer()\n",
        "    tokens = word_tokenize(text.lower())\n",
        "    tokens = [lemmatizer.lemmatize(word) for word in tokens if word.isalnum()]\n",
        "    return [word for word in tokens if word not in stop_words]"
      ]
    },
    {
      "cell_type": "code",
      "execution_count": null,
      "metadata": {
        "id": "wIq7SyjxS53b"
      },
      "outputs": [],
      "source": [
        "# Create a unique list of all proxy guidelines from BlackRock and Vanguard\n",
        "all_proxy_guidelines = []\n",
        "\n",
        "for guideline in combined_df['chatgpt_response_split'].tolist():\n",
        "  if guideline not in all_proxy_guidelines:\n",
        "    all_proxy_guidelines.append(guideline)"
      ]
    },
    {
      "cell_type": "code",
      "execution_count": null,
      "metadata": {
        "id": "gZKGA_Tw3TOI"
      },
      "outputs": [],
      "source": [
        "# Remove voting guidelines that are very contextually similar\n",
        "def preprocess_context(text):\n",
        "    return ' '.join(text.lower().split())\n",
        "\n",
        "# Create a vectorization of all the guidelines and create a TF-IDF matrix\n",
        "context_vectorizer = TfidfVectorizer(preprocessor=preprocess_context)\n",
        "context_tfidf_matrix = context_vectorizer.fit_transform(combined_df['chatgpt_response_split'].tolist())"
      ]
    },
    {
      "cell_type": "code",
      "execution_count": null,
      "metadata": {
        "id": "X6IhYKJC4hfm"
      },
      "outputs": [],
      "source": [
        "# Find the cosine similarities between all guidelines\n",
        "similarity_matrix = cosine_similarity(context_tfidf_matrix, context_tfidf_matrix)\n",
        "\n",
        "# Identify duplicates (threshold > 0.75 for similarity)\n",
        "threshold = 0.75\n",
        "groups = [] # Contains groups of similar-context guidelines\n",
        "visited = set()\n",
        "\n",
        "for i, row in enumerate(similarity_matrix):\n",
        "    if i not in visited:\n",
        "        similar = [j for j, score in enumerate(row) if score > threshold and j != i]\n",
        "        group = [i] + similar\n",
        "        groups.append(group)\n",
        "        visited.update(group)\n",
        "\n",
        "# Reduce guidelines\n",
        "reduced_guidelines = []\n",
        "for group in groups:\n",
        "    # Combine similar guidelines into one statement or pick the first\n",
        "    merged = ' / '.join([combined_df['chatgpt_response_split'].tolist()[i] for i in group])\n",
        "    reduced_guidelines.append(merged)"
      ]
    },
    {
      "cell_type": "code",
      "execution_count": null,
      "metadata": {
        "id": "Q7ZO-6RQTlcH"
      },
      "outputs": [],
      "source": [
        "# Create an empty list to hold new reduced guidelines\n",
        "empty_list = list(['' for _ in range(len(combined_df['chatgpt_response_split'].tolist()))])"
      ]
    },
    {
      "cell_type": "code",
      "execution_count": null,
      "metadata": {
        "id": "EIWpZQjAU-8u"
      },
      "outputs": [],
      "source": [
        "# groups"
      ]
    },
    {
      "cell_type": "code",
      "execution_count": null,
      "metadata": {
        "id": "8LOpez73UF-a"
      },
      "outputs": [],
      "source": [
        "# Add guidelines to the empty list\n",
        "# If there are multiple guidelines associated with each other, choose the first guideline in the group to represent them all\n",
        "# i.e. many to one mapping\n",
        "for list_ in groups:\n",
        "    empty_list[list_[0]] = combined_df['chatgpt_response_split'].tolist()[list_[0]] # Choose the first guideline in each context group\n",
        "    if len(list_) > 1:\n",
        "      for i in range(1, len(list_)):\n",
        "        empty_list[list_[i]] = combined_df['chatgpt_response_split'].tolist()[list_[0]] # Choose the first guideline in each context group"
      ]
    },
    {
      "cell_type": "code",
      "execution_count": null,
      "metadata": {
        "id": "V-K7LptYVkeU"
      },
      "outputs": [],
      "source": [
        "# Add formatted guidelines to dataframe\n",
        "# One guideline may appear multiple times in empty_list, but the unique list of values here represents the reduced number of guidelines\n",
        "combined_df['final_proxy_guideline'] = empty_list"
      ]
    },
    {
      "cell_type": "code",
      "execution_count": null,
      "metadata": {
        "colab": {
          "base_uri": "https://localhost:8080/",
          "height": 144
        },
        "id": "tSmcbX3V4vOQ",
        "outputId": "48e76640-c121-4503-9742-42c69656c6df"
      },
      "outputs": [
        {
          "ename": "NameError",
          "evalue": "name 'reduced_guidelines' is not defined",
          "output_type": "error",
          "traceback": [
            "\u001b[0;31m---------------------------------------------------------------------------\u001b[0m",
            "\u001b[0;31mNameError\u001b[0m                                 Traceback (most recent call last)",
            "\u001b[0;32m<ipython-input-1-5507459e0c37>\u001b[0m in \u001b[0;36m<cell line: 1>\u001b[0;34m()\u001b[0m\n\u001b[0;32m----> 1\u001b[0;31m \u001b[0mlen\u001b[0m\u001b[0;34m(\u001b[0m\u001b[0mreduced_guidelines\u001b[0m\u001b[0;34m)\u001b[0m\u001b[0;34m\u001b[0m\u001b[0;34m\u001b[0m\u001b[0m\n\u001b[0m",
            "\u001b[0;31mNameError\u001b[0m: name 'reduced_guidelines' is not defined"
          ]
        }
      ],
      "source": [
        "len(reduced_guidelines)"
      ]
    },
    {
      "cell_type": "markdown",
      "metadata": {
        "id": "DvTeh6GeRaOa"
      },
      "source": [
        "## Step 2: Create a list of voting guidelines with categories\n",
        "Now that there is a consolidated list of voting guidelines, they must be split into categories and sub-categories. This will be done with LDA to extract topics, and zero-shot classification to map guidelines to topics."
      ]
    },
    {
      "cell_type": "code",
      "execution_count": null,
      "metadata": {
        "id": "NtE9AOAXwOKp"
      },
      "outputs": [],
      "source": [
        "# Some guidelines are appended together with a \"/\" character, split these out into a final list\n",
        "final_guidelines = []\n",
        "\n",
        "for guideline in reduced_guidelines:\n",
        "  final_guidelines.append(guideline.split(' / ')[0])"
      ]
    },
    {
      "cell_type": "code",
      "execution_count": null,
      "metadata": {
        "colab": {
          "base_uri": "https://localhost:8080/"
        },
        "id": "tzUXWFptQI1a",
        "outputId": "55d1393f-be49-4491-94dc-6f8d08f6fa74"
      },
      "outputs": [
        {
          "name": "stderr",
          "output_type": "stream",
          "text": [
            "/usr/local/lib/python3.10/dist-packages/sklearn/feature_extraction/text.py:517: UserWarning: The parameter 'token_pattern' will not be used since 'tokenizer' is not None'\n",
            "  warnings.warn(\n"
          ]
        }
      ],
      "source": [
        "# Preprocess guidelines and remove stopwords\n",
        "guidelines = final_guidelines\n",
        "vectorizer = TfidfVectorizer(preprocessor=preprocess, tokenizer=lambda x: x)\n",
        "tfidf_matrix = vectorizer.fit_transform(guidelines)"
      ]
    },
    {
      "cell_type": "code",
      "execution_count": null,
      "metadata": {
        "colab": {
          "base_uri": "https://localhost:8080/"
        },
        "id": "EHXkRmXAyRB5",
        "outputId": "8693a334-501a-49fb-eb0e-f04144bbba74"
      },
      "outputs": [
        {
          "name": "stdout",
          "output_type": "stream",
          "text": [
            "Topic 0:\n",
            "['relevant', 'ha', 'company', 'committee', 'proposal', 'shareholder', 'may', 'board', 'vote', 'director']\n",
            "Topic 1:\n",
            "['given', 'audit', 'adopt', 'fee', 'committee', 'member', 'board', 'may', 'vote', 'proposal']\n",
            "Topic 2:\n",
            "['failing', 'term', 'consider', 'compensation', 'pay', 'limit', 'say', 'vote', 'may', 'director']\n",
            "Topic 3:\n",
            "['bonus', 'management', 'sitting', '4', 'board', 'director', 'vote', 'may', 'proposal', 'public']\n",
            "Topic 4:\n",
            "['nominating', 'independent', 'ha', 'compensation', 'board', 'shareholder', 'may', 'vote', 'director', 'committee']\n",
            "Topic 5:\n",
            "['may', 'pay', 'performance', 'committee', 'majority', 'proposal', 'company', 'compensation', 'vote', 'board']\n"
          ]
        }
      ],
      "source": [
        "# Get topics discussed across the voting guidelines\n",
        "lda = LatentDirichletAllocation(n_components=6, random_state=42)  # Number of topics, manually tweaked for ideal number\n",
        "lda.fit(tfidf_matrix)\n",
        "\n",
        "# Print out topics found for each category\n",
        "for idx, topic in enumerate(lda.components_):\n",
        "    print(f\"Topic {idx}:\")\n",
        "    print([vectorizer.get_feature_names_out()[i] for i in topic.argsort()[-10:]])"
      ]
    },
    {
      "cell_type": "markdown",
      "metadata": {
        "id": "xleS1lV6yVXS"
      },
      "source": [
        "Categories are compensation, board and directors, independence, corporate governance, shareholder rights. This is based on a manual review of the above code output. These are overarching categories, but the individual guidelines still must be mapped to these categories. We will use zero-shot classification for this task, as it contains pre-trained LLM models."
      ]
    },
    {
      "cell_type": "code",
      "execution_count": null,
      "metadata": {
        "colab": {
          "base_uri": "https://localhost:8080/"
        },
        "id": "ClreEUIsy08L",
        "outputId": "b0dac4e3-4330-4455-c43d-986f97d31f77"
      },
      "outputs": [
        {
          "name": "stderr",
          "output_type": "stream",
          "text": [
            "/usr/local/lib/python3.10/dist-packages/huggingface_hub/utils/_auth.py:94: UserWarning: \n",
            "The secret `HF_TOKEN` does not exist in your Colab secrets.\n",
            "To authenticate with the Hugging Face Hub, create a token in your settings tab (https://huggingface.co/settings/tokens), set it as secret in your Google Colab and restart your session.\n",
            "You will be able to reuse this secret in all of your notebooks.\n",
            "Please note that authentication is recommended but still optional to access public models or datasets.\n",
            "  warnings.warn(\n",
            "Device set to use cpu\n"
          ]
        }
      ],
      "source": [
        "# Test zero-shot categorization to classify each guideline under one of the 6 categories.\n",
        "classifier = pipeline(\"zero-shot-classification\", model=\"facebook/bart-large-mnli\")\n",
        "\n",
        "# Random selection from the voting guidelines\n",
        "test_text = \"May vote AGAINST a non-executive director serving on more than 4 public boards\"\n",
        "\n",
        "# Categories found from LDA\n",
        "candidate_labels = [\"compensation\", \"board and directors\", \"independence\", \"corporate governance\", \"shareholder rights\"]\n",
        "\n"
      ]
    },
    {
      "cell_type": "code",
      "execution_count": null,
      "metadata": {
        "colab": {
          "base_uri": "https://localhost:8080/",
          "height": 35
        },
        "id": "ZJ0_aHfzzm63",
        "outputId": "54b16bb9-753f-4a5a-8ff4-a62df527ae69"
      },
      "outputs": [
        {
          "data": {
            "application/vnd.google.colaboratory.intrinsic+json": {
              "type": "string"
            },
            "text/plain": [
              "'board and directors'"
            ]
          },
          "execution_count": 33,
          "metadata": {},
          "output_type": "execute_result"
        }
      ],
      "source": [
        "# Get category of sample text\n",
        "classifier(test_text, candidate_labels)[\"labels\"][0]"
      ]
    },
    {
      "cell_type": "code",
      "execution_count": null,
      "metadata": {
        "id": "Jebqj7e-zgZR"
      },
      "outputs": [],
      "source": [
        "# Use zero-shot classification to classify each requirement\n",
        "classifications = [] # Array holding all classifications for each voting guideline\n",
        "for i in range(combined_df.shape[0]):\n",
        "  if combined_df['final_proxy_guideline'][i] != \"Not a proxy guideline.\": # Only want to look at actual guidelines\n",
        "    classifications.append(classifier(combined_df['final_proxy_guideline'][i], candidate_labels)[\"labels\"][0]) # Choose the most likely label (the one with the highest score is first in the list)\n",
        "  else:\n",
        "    classifications.append(np.nan) # NULL if it is not a guideline"
      ]
    },
    {
      "cell_type": "code",
      "execution_count": null,
      "metadata": {
        "id": "Vl9x3xJt0MLh"
      },
      "outputs": [],
      "source": [
        "# Add classification to dataframe\n",
        "combined_df[\"classification\"] = classifications"
      ]
    },
    {
      "cell_type": "code",
      "execution_count": null,
      "metadata": {
        "id": "TUE2wT00rqmL"
      },
      "outputs": [],
      "source": [
        "# Save progress to pickle\n",
        "combined_df.to_pickle('/content/drive/My Drive/combined_df.pkl')"
      ]
    },
    {
      "cell_type": "code",
      "execution_count": null,
      "metadata": {
        "id": "Pguf7VCioJJA"
      },
      "outputs": [],
      "source": [
        "# Load pickle back into dataframe if needed\n",
        "combined_df = pd.read_pickle('/content/drive/My Drive/combined_df.pkl')"
      ]
    },
    {
      "cell_type": "code",
      "execution_count": null,
      "metadata": {
        "colab": {
          "base_uri": "https://localhost:8080/",
          "height": 310
        },
        "id": "OAWVwCWO29Qe",
        "outputId": "c4fbc727-97f4-4918-85d3-141b95e4d58e"
      },
      "outputs": [
        {
          "data": {
            "application/vnd.google.colaboratory.intrinsic+json": {
              "summary": "{\n  \"name\": \"combined_df[combined_df['classification'] != np\",\n  \"rows\": 5,\n  \"fields\": [\n    {\n      \"column\": \"classification\",\n      \"properties\": {\n        \"dtype\": \"string\",\n        \"num_unique_values\": 5,\n        \"samples\": [\n          \"compensation\",\n          \"shareholder rights\",\n          \"corporate governance\"\n        ],\n        \"semantic_type\": \"\",\n        \"description\": \"\"\n      }\n    },\n    {\n      \"column\": \"header\",\n      \"properties\": {\n        \"dtype\": \"number\",\n        \"std\": 42,\n        \"min\": 11,\n        \"max\": 116,\n        \"num_unique_values\": 5,\n        \"samples\": [\n          31,\n          88,\n          11\n        ],\n        \"semantic_type\": \"\",\n        \"description\": \"\"\n      }\n    },\n    {\n      \"column\": \"subheader\",\n      \"properties\": {\n        \"dtype\": \"number\",\n        \"std\": 29,\n        \"min\": 4,\n        \"max\": 71,\n        \"num_unique_values\": 5,\n        \"samples\": [\n          13,\n          60,\n          4\n        ],\n        \"semantic_type\": \"\",\n        \"description\": \"\"\n      }\n    },\n    {\n      \"column\": \"content\",\n      \"properties\": {\n        \"dtype\": \"number\",\n        \"std\": 42,\n        \"min\": 11,\n        \"max\": 116,\n        \"num_unique_values\": 5,\n        \"samples\": [\n          31,\n          88,\n          11\n        ],\n        \"semantic_type\": \"\",\n        \"description\": \"\"\n      }\n    },\n    {\n      \"column\": \"relevant_sentences\",\n      \"properties\": {\n        \"dtype\": \"number\",\n        \"std\": 42,\n        \"min\": 11,\n        \"max\": 116,\n        \"num_unique_values\": 5,\n        \"samples\": [\n          31,\n          88,\n          11\n        ],\n        \"semantic_type\": \"\",\n        \"description\": \"\"\n      }\n    },\n    {\n      \"column\": \"chatgpt_response\",\n      \"properties\": {\n        \"dtype\": \"number\",\n        \"std\": 42,\n        \"min\": 11,\n        \"max\": 116,\n        \"num_unique_values\": 5,\n        \"samples\": [\n          31,\n          88,\n          11\n        ],\n        \"semantic_type\": \"\",\n        \"description\": \"\"\n      }\n    },\n    {\n      \"column\": \"source\",\n      \"properties\": {\n        \"dtype\": \"number\",\n        \"std\": 42,\n        \"min\": 11,\n        \"max\": 116,\n        \"num_unique_values\": 5,\n        \"samples\": [\n          31,\n          88,\n          11\n        ],\n        \"semantic_type\": \"\",\n        \"description\": \"\"\n      }\n    },\n    {\n      \"column\": \"chatgpt_response_split\",\n      \"properties\": {\n        \"dtype\": \"number\",\n        \"std\": 42,\n        \"min\": 11,\n        \"max\": 116,\n        \"num_unique_values\": 5,\n        \"samples\": [\n          31,\n          88,\n          11\n        ],\n        \"semantic_type\": \"\",\n        \"description\": \"\"\n      }\n    },\n    {\n      \"column\": \"final_proxy_guideline\",\n      \"properties\": {\n        \"dtype\": \"number\",\n        \"std\": 42,\n        \"min\": 11,\n        \"max\": 116,\n        \"num_unique_values\": 5,\n        \"samples\": [\n          31,\n          88,\n          11\n        ],\n        \"semantic_type\": \"\",\n        \"description\": \"\"\n      }\n    }\n  ]\n}",
              "type": "dataframe"
            },
            "text/html": [
              "\n",
              "  <div id=\"df-6e1544b6-7c4b-4710-9663-cbf4b66c20ce\" class=\"colab-df-container\">\n",
              "    <div>\n",
              "<style scoped>\n",
              "    .dataframe tbody tr th:only-of-type {\n",
              "        vertical-align: middle;\n",
              "    }\n",
              "\n",
              "    .dataframe tbody tr th {\n",
              "        vertical-align: top;\n",
              "    }\n",
              "\n",
              "    .dataframe thead th {\n",
              "        text-align: right;\n",
              "    }\n",
              "</style>\n",
              "<table border=\"1\" class=\"dataframe\">\n",
              "  <thead>\n",
              "    <tr style=\"text-align: right;\">\n",
              "      <th></th>\n",
              "      <th>header</th>\n",
              "      <th>subheader</th>\n",
              "      <th>content</th>\n",
              "      <th>relevant_sentences</th>\n",
              "      <th>chatgpt_response</th>\n",
              "      <th>source</th>\n",
              "      <th>chatgpt_response_split</th>\n",
              "      <th>final_proxy_guideline</th>\n",
              "    </tr>\n",
              "    <tr>\n",
              "      <th>classification</th>\n",
              "      <th></th>\n",
              "      <th></th>\n",
              "      <th></th>\n",
              "      <th></th>\n",
              "      <th></th>\n",
              "      <th></th>\n",
              "      <th></th>\n",
              "      <th></th>\n",
              "    </tr>\n",
              "  </thead>\n",
              "  <tbody>\n",
              "    <tr>\n",
              "      <th>board and directors</th>\n",
              "      <td>67</td>\n",
              "      <td>29</td>\n",
              "      <td>67</td>\n",
              "      <td>67</td>\n",
              "      <td>67</td>\n",
              "      <td>67</td>\n",
              "      <td>67</td>\n",
              "      <td>67</td>\n",
              "    </tr>\n",
              "    <tr>\n",
              "      <th>compensation</th>\n",
              "      <td>31</td>\n",
              "      <td>13</td>\n",
              "      <td>31</td>\n",
              "      <td>31</td>\n",
              "      <td>31</td>\n",
              "      <td>31</td>\n",
              "      <td>31</td>\n",
              "      <td>31</td>\n",
              "    </tr>\n",
              "    <tr>\n",
              "      <th>corporate governance</th>\n",
              "      <td>11</td>\n",
              "      <td>4</td>\n",
              "      <td>11</td>\n",
              "      <td>11</td>\n",
              "      <td>11</td>\n",
              "      <td>11</td>\n",
              "      <td>11</td>\n",
              "      <td>11</td>\n",
              "    </tr>\n",
              "    <tr>\n",
              "      <th>independence</th>\n",
              "      <td>116</td>\n",
              "      <td>71</td>\n",
              "      <td>116</td>\n",
              "      <td>116</td>\n",
              "      <td>116</td>\n",
              "      <td>116</td>\n",
              "      <td>116</td>\n",
              "      <td>116</td>\n",
              "    </tr>\n",
              "    <tr>\n",
              "      <th>shareholder rights</th>\n",
              "      <td>88</td>\n",
              "      <td>60</td>\n",
              "      <td>88</td>\n",
              "      <td>88</td>\n",
              "      <td>88</td>\n",
              "      <td>88</td>\n",
              "      <td>88</td>\n",
              "      <td>88</td>\n",
              "    </tr>\n",
              "  </tbody>\n",
              "</table>\n",
              "</div>\n",
              "    <div class=\"colab-df-buttons\">\n",
              "\n",
              "  <div class=\"colab-df-container\">\n",
              "    <button class=\"colab-df-convert\" onclick=\"convertToInteractive('df-6e1544b6-7c4b-4710-9663-cbf4b66c20ce')\"\n",
              "            title=\"Convert this dataframe to an interactive table.\"\n",
              "            style=\"display:none;\">\n",
              "\n",
              "  <svg xmlns=\"http://www.w3.org/2000/svg\" height=\"24px\" viewBox=\"0 -960 960 960\">\n",
              "    <path d=\"M120-120v-720h720v720H120Zm60-500h600v-160H180v160Zm220 220h160v-160H400v160Zm0 220h160v-160H400v160ZM180-400h160v-160H180v160Zm440 0h160v-160H620v160ZM180-180h160v-160H180v160Zm440 0h160v-160H620v160Z\"/>\n",
              "  </svg>\n",
              "    </button>\n",
              "\n",
              "  <style>\n",
              "    .colab-df-container {\n",
              "      display:flex;\n",
              "      gap: 12px;\n",
              "    }\n",
              "\n",
              "    .colab-df-convert {\n",
              "      background-color: #E8F0FE;\n",
              "      border: none;\n",
              "      border-radius: 50%;\n",
              "      cursor: pointer;\n",
              "      display: none;\n",
              "      fill: #1967D2;\n",
              "      height: 32px;\n",
              "      padding: 0 0 0 0;\n",
              "      width: 32px;\n",
              "    }\n",
              "\n",
              "    .colab-df-convert:hover {\n",
              "      background-color: #E2EBFA;\n",
              "      box-shadow: 0px 1px 2px rgba(60, 64, 67, 0.3), 0px 1px 3px 1px rgba(60, 64, 67, 0.15);\n",
              "      fill: #174EA6;\n",
              "    }\n",
              "\n",
              "    .colab-df-buttons div {\n",
              "      margin-bottom: 4px;\n",
              "    }\n",
              "\n",
              "    [theme=dark] .colab-df-convert {\n",
              "      background-color: #3B4455;\n",
              "      fill: #D2E3FC;\n",
              "    }\n",
              "\n",
              "    [theme=dark] .colab-df-convert:hover {\n",
              "      background-color: #434B5C;\n",
              "      box-shadow: 0px 1px 3px 1px rgba(0, 0, 0, 0.15);\n",
              "      filter: drop-shadow(0px 1px 2px rgba(0, 0, 0, 0.3));\n",
              "      fill: #FFFFFF;\n",
              "    }\n",
              "  </style>\n",
              "\n",
              "    <script>\n",
              "      const buttonEl =\n",
              "        document.querySelector('#df-6e1544b6-7c4b-4710-9663-cbf4b66c20ce button.colab-df-convert');\n",
              "      buttonEl.style.display =\n",
              "        google.colab.kernel.accessAllowed ? 'block' : 'none';\n",
              "\n",
              "      async function convertToInteractive(key) {\n",
              "        const element = document.querySelector('#df-6e1544b6-7c4b-4710-9663-cbf4b66c20ce');\n",
              "        const dataTable =\n",
              "          await google.colab.kernel.invokeFunction('convertToInteractive',\n",
              "                                                    [key], {});\n",
              "        if (!dataTable) return;\n",
              "\n",
              "        const docLinkHtml = 'Like what you see? Visit the ' +\n",
              "          '<a target=\"_blank\" href=https://colab.research.google.com/notebooks/data_table.ipynb>data table notebook</a>'\n",
              "          + ' to learn more about interactive tables.';\n",
              "        element.innerHTML = '';\n",
              "        dataTable['output_type'] = 'display_data';\n",
              "        await google.colab.output.renderOutput(dataTable, element);\n",
              "        const docLink = document.createElement('div');\n",
              "        docLink.innerHTML = docLinkHtml;\n",
              "        element.appendChild(docLink);\n",
              "      }\n",
              "    </script>\n",
              "  </div>\n",
              "\n",
              "\n",
              "<div id=\"df-8cdcd56b-7e52-4515-9463-edfcef7c549c\">\n",
              "  <button class=\"colab-df-quickchart\" onclick=\"quickchart('df-8cdcd56b-7e52-4515-9463-edfcef7c549c')\"\n",
              "            title=\"Suggest charts\"\n",
              "            style=\"display:none;\">\n",
              "\n",
              "<svg xmlns=\"http://www.w3.org/2000/svg\" height=\"24px\"viewBox=\"0 0 24 24\"\n",
              "     width=\"24px\">\n",
              "    <g>\n",
              "        <path d=\"M19 3H5c-1.1 0-2 .9-2 2v14c0 1.1.9 2 2 2h14c1.1 0 2-.9 2-2V5c0-1.1-.9-2-2-2zM9 17H7v-7h2v7zm4 0h-2V7h2v10zm4 0h-2v-4h2v4z\"/>\n",
              "    </g>\n",
              "</svg>\n",
              "  </button>\n",
              "\n",
              "<style>\n",
              "  .colab-df-quickchart {\n",
              "      --bg-color: #E8F0FE;\n",
              "      --fill-color: #1967D2;\n",
              "      --hover-bg-color: #E2EBFA;\n",
              "      --hover-fill-color: #174EA6;\n",
              "      --disabled-fill-color: #AAA;\n",
              "      --disabled-bg-color: #DDD;\n",
              "  }\n",
              "\n",
              "  [theme=dark] .colab-df-quickchart {\n",
              "      --bg-color: #3B4455;\n",
              "      --fill-color: #D2E3FC;\n",
              "      --hover-bg-color: #434B5C;\n",
              "      --hover-fill-color: #FFFFFF;\n",
              "      --disabled-bg-color: #3B4455;\n",
              "      --disabled-fill-color: #666;\n",
              "  }\n",
              "\n",
              "  .colab-df-quickchart {\n",
              "    background-color: var(--bg-color);\n",
              "    border: none;\n",
              "    border-radius: 50%;\n",
              "    cursor: pointer;\n",
              "    display: none;\n",
              "    fill: var(--fill-color);\n",
              "    height: 32px;\n",
              "    padding: 0;\n",
              "    width: 32px;\n",
              "  }\n",
              "\n",
              "  .colab-df-quickchart:hover {\n",
              "    background-color: var(--hover-bg-color);\n",
              "    box-shadow: 0 1px 2px rgba(60, 64, 67, 0.3), 0 1px 3px 1px rgba(60, 64, 67, 0.15);\n",
              "    fill: var(--button-hover-fill-color);\n",
              "  }\n",
              "\n",
              "  .colab-df-quickchart-complete:disabled,\n",
              "  .colab-df-quickchart-complete:disabled:hover {\n",
              "    background-color: var(--disabled-bg-color);\n",
              "    fill: var(--disabled-fill-color);\n",
              "    box-shadow: none;\n",
              "  }\n",
              "\n",
              "  .colab-df-spinner {\n",
              "    border: 2px solid var(--fill-color);\n",
              "    border-color: transparent;\n",
              "    border-bottom-color: var(--fill-color);\n",
              "    animation:\n",
              "      spin 1s steps(1) infinite;\n",
              "  }\n",
              "\n",
              "  @keyframes spin {\n",
              "    0% {\n",
              "      border-color: transparent;\n",
              "      border-bottom-color: var(--fill-color);\n",
              "      border-left-color: var(--fill-color);\n",
              "    }\n",
              "    20% {\n",
              "      border-color: transparent;\n",
              "      border-left-color: var(--fill-color);\n",
              "      border-top-color: var(--fill-color);\n",
              "    }\n",
              "    30% {\n",
              "      border-color: transparent;\n",
              "      border-left-color: var(--fill-color);\n",
              "      border-top-color: var(--fill-color);\n",
              "      border-right-color: var(--fill-color);\n",
              "    }\n",
              "    40% {\n",
              "      border-color: transparent;\n",
              "      border-right-color: var(--fill-color);\n",
              "      border-top-color: var(--fill-color);\n",
              "    }\n",
              "    60% {\n",
              "      border-color: transparent;\n",
              "      border-right-color: var(--fill-color);\n",
              "    }\n",
              "    80% {\n",
              "      border-color: transparent;\n",
              "      border-right-color: var(--fill-color);\n",
              "      border-bottom-color: var(--fill-color);\n",
              "    }\n",
              "    90% {\n",
              "      border-color: transparent;\n",
              "      border-bottom-color: var(--fill-color);\n",
              "    }\n",
              "  }\n",
              "</style>\n",
              "\n",
              "  <script>\n",
              "    async function quickchart(key) {\n",
              "      const quickchartButtonEl =\n",
              "        document.querySelector('#' + key + ' button');\n",
              "      quickchartButtonEl.disabled = true;  // To prevent multiple clicks.\n",
              "      quickchartButtonEl.classList.add('colab-df-spinner');\n",
              "      try {\n",
              "        const charts = await google.colab.kernel.invokeFunction(\n",
              "            'suggestCharts', [key], {});\n",
              "      } catch (error) {\n",
              "        console.error('Error during call to suggestCharts:', error);\n",
              "      }\n",
              "      quickchartButtonEl.classList.remove('colab-df-spinner');\n",
              "      quickchartButtonEl.classList.add('colab-df-quickchart-complete');\n",
              "    }\n",
              "    (() => {\n",
              "      let quickchartButtonEl =\n",
              "        document.querySelector('#df-8cdcd56b-7e52-4515-9463-edfcef7c549c button');\n",
              "      quickchartButtonEl.style.display =\n",
              "        google.colab.kernel.accessAllowed ? 'block' : 'none';\n",
              "    })();\n",
              "  </script>\n",
              "</div>\n",
              "\n",
              "    </div>\n",
              "  </div>\n"
            ],
            "text/plain": [
              "                      header  subheader  content  relevant_sentences  \\\n",
              "classification                                                         \n",
              "board and directors       67         29       67                  67   \n",
              "compensation              31         13       31                  31   \n",
              "corporate governance      11          4       11                  11   \n",
              "independence             116         71      116                 116   \n",
              "shareholder rights        88         60       88                  88   \n",
              "\n",
              "                      chatgpt_response  source  chatgpt_response_split  \\\n",
              "classification                                                           \n",
              "board and directors                 67      67                      67   \n",
              "compensation                        31      31                      31   \n",
              "corporate governance                11      11                      11   \n",
              "independence                       116     116                     116   \n",
              "shareholder rights                  88      88                      88   \n",
              "\n",
              "                      final_proxy_guideline  \n",
              "classification                               \n",
              "board and directors                      67  \n",
              "compensation                             31  \n",
              "corporate governance                     11  \n",
              "independence                            116  \n",
              "shareholder rights                       88  "
            ]
          },
          "execution_count": 9,
          "metadata": {},
          "output_type": "execute_result"
        }
      ],
      "source": [
        "# Find count of voting guidelines under each category\n",
        "combined_df[combined_df['classification'] != np.nan].groupby('classification').count()"
      ]
    },
    {
      "cell_type": "code",
      "execution_count": null,
      "metadata": {
        "id": "h1FsTPt8ccbQ"
      },
      "outputs": [],
      "source": [
        "# Split larger categories into sub categories\n",
        "\n",
        "# Create an array for each category\n",
        "independence_guidelines = []\n",
        "compensation_guidelines = []\n",
        "board_and_directors_guidelines = []\n",
        "corporate_governance_guidelines = []\n",
        "shareholder_rights_guidelines = []\n",
        "\n",
        "# Iterate through the dataframe, append guidelines under each category to the relevant array\n",
        "for item in combined_df[combined_df['classification'] == 'independence']['final_proxy_guideline'].tolist():\n",
        "  if item not in independence_guidelines:\n",
        "    independence_guidelines.append(item)\n",
        "\n",
        "for item in combined_df[combined_df['classification'] == 'compensation']['final_proxy_guideline'].tolist():\n",
        "  if item not in compensation_guidelines:\n",
        "    compensation_guidelines.append(item)\n",
        "\n",
        "for item in combined_df[combined_df['classification'] == 'board and directors']['final_proxy_guideline'].tolist():\n",
        "  if item not in board_and_directors_guidelines:\n",
        "    board_and_directors_guidelines.append(item)\n",
        "\n",
        "for item in combined_df[combined_df['classification'] == 'corporate governance']['final_proxy_guideline'].tolist():\n",
        "  if item not in corporate_governance_guidelines:\n",
        "    corporate_governance_guidelines.append(item)\n",
        "\n",
        "for item in combined_df[combined_df['classification'] == 'shareholder rights']['final_proxy_guideline'].tolist():\n",
        "  if item not in shareholder_rights_guidelines:\n",
        "    shareholder_rights_guidelines.append(item)"
      ]
    },
    {
      "cell_type": "code",
      "execution_count": null,
      "metadata": {
        "id": "wsCdXNhso2U2"
      },
      "outputs": [],
      "source": [
        "# Export all guidelines and categories to csv for easier processing\n",
        "\n",
        "# Remove duplicates, as a single guideline may appear a few times in the dataframe\n",
        "guidelines_and_categories = combined_df[['source','final_proxy_guideline', 'classification']].drop_duplicates()\n",
        "\n",
        "# Save to csv\n",
        "guidelines_and_categories.to_csv('guidelines_and_categories.csv', index=False)"
      ]
    },
    {
      "cell_type": "code",
      "execution_count": null,
      "metadata": {
        "colab": {
          "base_uri": "https://localhost:8080/",
          "height": 53
        },
        "id": "Sbn8rWZXr-r-",
        "outputId": "a915e45c-12af-42d5-8f88-25750f0e5e8a"
      },
      "outputs": [
        {
          "data": {
            "application/vnd.google.colaboratory.intrinsic+json": {
              "type": "string"
            },
            "text/plain": [
              "'1. Disclosure and Transparency\\n2. Shareholder Proposals and Voting Rights\\n3. Director Accountability and Governance'"
            ]
          },
          "execution_count": 25,
          "metadata": {},
          "output_type": "execute_result"
        }
      ],
      "source": [
        "# Get OpenAI to create subcategories\n",
        "# Zero-shot classification may not work here to find subcategories, as they are likely all fairly conextually similar when in the same category\n",
        "# OpenAI will likely provide more granularity\n",
        "\n",
        "# Append all the guidelines in a single category into a list string\n",
        "# For use in the OpenAI prompt\n",
        "list_of_guidelines = '\"['\n",
        "\n",
        "# Append to list\n",
        "for item in shareholder_rights_guidelines:\n",
        "  list_of_guidelines += item + ', '\n",
        "\n",
        "# Complete the list formatting in the string\n",
        "list_of_guidelines += ']\"'\n",
        "\n",
        "completion = client.chat.completions.create(\n",
        "  model=\"gpt-4o-mini\", # OpenAI model to be used\n",
        "  messages=[\n",
        "      {\"role\": \"system\", \"content\": \"You are a helpful assistant.\"},\n",
        "      {\n",
        "          \"role\": \"user\",\n",
        "          \"content\": f\"I will provide a list of proxy voting guidelines. These ones are related to shareholder rights. Please split these into further subcategories. Only provide a list of the subcategories, do not return any additional text. Please keep it to 3 subcategories max. Here are the guidelines: {list_of_guidelines}\"\n",
        "      }\n",
        "  ]\n",
        ")\n",
        "\n",
        "# Get results of the OpenAI prompt\n",
        "result = completion.choices[0].message\n",
        "\n",
        "# Print text of result to evaluate categories\n",
        "result.content"
      ]
    },
    {
      "cell_type": "code",
      "execution_count": null,
      "metadata": {
        "id": "Qal34ZMZuUy2"
      },
      "outputs": [],
      "source": [
        "# Use zero-shot classification to sub-classify each requirement\n",
        "def return_sub_classification(guidelines, labels):\n",
        "\n",
        "  # Use pre-trained LLM for classification\n",
        "  classifier = pipeline(\"zero-shot-classification\", model=\"facebook/bart-large-mnli\")\n",
        "\n",
        "  sub_classifications = [] # Array to hold sub classifications for each guideline\n",
        "  for i in range(len(guidelines)):\n",
        "    sub_classifications.append({\n",
        "        \"guideline\": guidelines[i], # Append the actual guideline\n",
        "        \"subcategory\": classifier(guidelines[i], labels)[\"labels\"][0] # Append its classification based on the labels and choose the most likely label\n",
        "      })\n",
        "\n",
        "  # Return the list of sub classifications\n",
        "  return sub_classifications"
      ]
    },
    {
      "cell_type": "code",
      "execution_count": null,
      "metadata": {
        "colab": {
          "base_uri": "https://localhost:8080/"
        },
        "id": "jl4uIqfpvyMw",
        "outputId": "6db68196-194e-4b89-bd94-d0bd0facfc8e"
      },
      "outputs": [
        {
          "name": "stderr",
          "output_type": "stream",
          "text": [
            "Device set to use cpu\n"
          ]
        }
      ],
      "source": [
        "# Get the subclassifications for each category\n",
        "# Labels are based on OpenAI outputs\n",
        "compensation_sub_classifications = return_sub_classification(compensation_guidelines, [\"Pay and Performance Alignment\", \"Compensation Committee Acccountability\", \"Equity Compensation Structures\", \"Other\"])\n",
        "board_sub_classifications = return_sub_classification(board_and_directors_guidelines, [\"Attendance\", \"Board Composition and Diversity\", \"Accountability and Oversight\", \"Other\"])\n",
        "independence_sub_classifications = return_sub_classification(independence_guidelines, ['Board Indepepndence and Structure', 'Committee Accountability and Performance', 'Auditor Independence and Oversight', 'Other'])\n",
        "governance_sub_classifications = return_sub_classification(corporate_governance_guidelines, ['Committee Accountability and Responsiveness', 'Financial Flexibility and Governance', 'Other'])\n",
        "rights_sub_classifications = return_sub_classification(shareholder_rights_guidelines, ['Disclosure and Transpararency', 'Shareholder Proposals', 'Voting Rights', 'Other'])"
      ]
    },
    {
      "cell_type": "code",
      "execution_count": null,
      "metadata": {
        "id": "3fanwnWSwt4d"
      },
      "outputs": [],
      "source": [
        "# Create csv files for each categorization for easier processing\n",
        "pd.DataFrame(compensation_sub_classifications).to_csv('compensation_categories.csv', index=False)\n",
        "pd.DataFrame(board_sub_classifications).to_csv('board_categories.csv', index=False)\n",
        "pd.DataFrame(independence_sub_classifications).to_csv('independence_categories.csv', index=False)\n",
        "pd.DataFrame(governance_sub_classifications).to_csv('governance_categories.csv', index=False)\n",
        "pd.DataFrame(rights_sub_classifications).to_csv('rights_categories.csv', index=False)"
      ]
    },
    {
      "cell_type": "markdown",
      "metadata": {
        "id": "HJzogDI6r7bX"
      },
      "source": [
        "# Step 3: Compare to Microsoft proxy statement\n",
        "Now, we have a full, cleaned, and categorized list of proxy voting guidelines from BlackRock and Vanguard. Now, we must apply it to Microsoft's proxy statement and observe if there are any violations of the guidelines. This will largely be done using OpenAI, as there are many text comparisons and contextual tasks that need to be completed."
      ]
    },
    {
      "cell_type": "code",
      "execution_count": null,
      "metadata": {
        "colab": {
          "base_uri": "https://localhost:8080/"
        },
        "id": "5jaiq0Zy7YN3",
        "outputId": "183b8605-79a7-4d2e-f026-9cb9f93fce89"
      },
      "outputs": [
        {
          "name": "stdout",
          "output_type": "stream",
          "text": [
            "Downloaded 1 DEF 14A filings for MSFT.\n"
          ]
        }
      ],
      "source": [
        "# Use SEC edgar downloader to download a local copy of the statement\n",
        "# Define parameters for the search\n",
        "dl = Downloader(company_name=\"BDO USA, PC\", email_address=\"sashasidach01@gmail.com\")\n",
        "\n",
        "ticker = \"MSFT\"  # Microsoft's ticker symbol\n",
        "filing_type = \"DEF 14A\"  # Filing type for proxy statements\n",
        "start_date = \"2024-01-01\"  # Only get filings after 2024\n",
        "\n",
        "# Download the filing\n",
        "# This will save the filings to a local directory (default is './sec-edgar-filings/')\n",
        "filing_count = dl.get(filing_type, ticker, after=start_date)\n",
        "\n",
        "# Check files that were downloaded, we only want one\n",
        "print(f\"Downloaded {filing_count} {filing_type} filings for {ticker}.\")"
      ]
    },
    {
      "cell_type": "code",
      "execution_count": null,
      "metadata": {
        "colab": {
          "base_uri": "https://localhost:8080/"
        },
        "id": "o9BAVZr89sld",
        "outputId": "37e4e02a-3794-4a01-9be1-5a2fb07fdcce"
      },
      "outputs": [
        {
          "name": "stdout",
          "output_type": "stream",
          "text": [
            "Contents of ./sec-edgar-filings/MSFT/DEF 14A/0001193125-24-242883/full-submission.txt:\n",
            "\n",
            "<SEC-DOCUMENT>0001193125-24-242883.txt : 20241024\n",
            "<SEC-HEADER>0001193125-24-242883.hdr.sgml : 20241024\n",
            "<ACCEPTANCE-DATETIME>20241024163113\n",
            "ACCESSION NUMBER:\t\t0001193125-24-242883\n",
            "CONFORMED SUBMISSION TYPE:\tDEF 14A\n",
            "PUBLIC DOCUMENT COUNT:\t\t85\n",
            "CONFORMED PERIOD OF REPORT:\t20241210\n",
            "FILED AS OF DATE:\t\t20241024\n",
            "DATE AS OF CHANGE:\t\t20241024\n",
            "\n",
            "FILER:\n",
            "\n",
            "\tCOMPANY DATA:\t\n",
            "\t\tCOMPANY CONFORMED NAME:\t\t\tMICROSOFT CORP\n",
            "\t\tCENTRAL INDEX KEY:\t\t\t0000789019\n",
            "\t\tSTANDARD INDUSTRIAL CLASSIFICATION:\tSERVICES-PREPACKAGED SOFTWARE [7372]\n",
            "\t\tORGANIZATION NAME:           \t06 Technology\n",
            "\t\tIRS NUMBER:\t\t\t\t911144442\n",
            "\t\tSTATE OF INCORPORATION:\t\t\tWA\n",
            "\t\tFISCAL YEAR END:\t\t\t0630\n",
            "\n",
            "\tFILING VALUES:\n",
            "\t\tFORM TYPE:\t\tDEF 14A\n",
            "\t\tSEC ACT:\t\t1934 Act\n",
            "\t\tSEC FILE NUMBER:\t001-37845\n",
            "\t\tFILM NUMBER:\t\t241393067\n",
            "\n",
            "\tBUSINESS ADDRESS:\t\n",
            "\t\tSTREET 1:\t\tONE MICROSOFT WAY\n",
            "\t\tCITY:\t\t\tREDMOND\n",
            "\t\tSTATE:\t\t\tWA\n",
            "\t\tZIP:\t\t\t98052-6399\n",
            "\t\tBUSINESS PHONE:\t\t425-882-8080\n",
            "\n",
            "\tMAIL ADDRESS:\t\n",
            "\t\tSTREET 1:\t\tONE MICROSOFT WAY\n",
            "\t\tCITY:\t\t\tREDMOND\n",
            "\t\tSTATE:\t\t\tWA\n",
            "\t\tZIP:\t\t\t98052-6399\n",
            "</SEC-HEADER>\n",
            "<DOCUMENT>\n",
            "<TYPE>DEF 14A\n",
            "<SEQUENCE>1\n",
            "<FILENAME>d858775ddef14a.htm\n",
            "<DESCRIPTION>DEF 14A\n",
            "<TEXT>\n",
            "<XBRL>\n",
            "<?xml version='1.0' encoding='ASCII'?>\n",
            "<html xmlns:msft=\"http://www.microsoft.com/20240630\" xmlns:link=\"http://www.xbrl.org/2003/linkbase\" xmlns:xbrldi=\"http://xbrl.org/2006/xbrldi\" xmlns:xlink=\"http://www.w3.org/1999/xlink\" xmlns:xsi=\"http://www.w3.org/2001/XMLSchema-instance\" xmlns:xbrli=\"http://www.xbrl.org/2003/instance\" xmlns:dei=\"http://xbrl.sec.gov/dei/2024\" xmlns:iso4217=\"http://www.xbrl.org/2003/iso4217\" xmlns:deprecated=\"http://www.xbrl.org/2009/arcrole/deprecated\" xmlns:country=\"http://xbrl.sec.gov/country/2024\" xmlns:us-gaap=\"http://fasb.org/us-gaap/2024\" xmlns:xl=\"http://www.xbrl.org/2003/XLink\" xmlns:utr=\"http://www.xbrl.org/2009/utr\" xmlns:ecd=\"http://xbrl.sec.gov/ecd/2024\" xmlns:srt=\"http://fasb.org/srt/2024\" xmlns:ix=\"http://www.xbrl.org/2013/inlineXBRL\" xmlns:ixt=\"http://www.xbrl.org/inlineXBRL/transformation/2022-02-16\" xmlns:xbrll=\"http://www.xbrl.org/2003/lin\n"
          ]
        }
      ],
      "source": [
        "# Get the file in a usable location\n",
        "import os\n",
        "\n",
        "# Define the file path\n",
        "ticker = \"MSFT\"\n",
        "filing_type = \"DEF 14A\"\n",
        "\n",
        "# Base directory for sec-edgar-downloader\n",
        "base_dir = \"./sec-edgar-filings\"\n",
        "\n",
        "# Get the path to the filing folder\n",
        "filing_dir = os.path.join(base_dir, ticker, filing_type)\n",
        "\n",
        "# List all subdirectories (filing IDs) within the DEF 14A folder\n",
        "filing_ids = os.listdir(filing_dir)\n",
        "\n",
        "if not filing_ids:\n",
        "    print(f\"No {filing_type} filings found for {ticker}.\")\n",
        "else:\n",
        "    # Select the first filing (or loop through all if needed)\n",
        "    filing_id = filing_ids[0]\n",
        "    file_path = os.path.join(filing_dir, filing_id, \"full-submission.txt\")\n",
        "\n",
        "    # Open and read the file\n",
        "    with open(file_path, \"r\", encoding=\"utf-8\") as file:\n",
        "        content = file.read()\n",
        "\n",
        "    # Print the first 500 characters for confirmation\n",
        "    print(f\"Contents of {file_path}:\\n\")\n",
        "    print(content[:2000])  # Preview the beginning of the file\n"
      ]
    },
    {
      "cell_type": "markdown",
      "metadata": {
        "id": "QdiRAn7U7Fuu"
      },
      "source": [
        "The file is in HTML format. We can use this knowledge to extract text based on its position, size, etc. After inspecting the HTML code, the below parameters were found to distinguish headers and subheaders:\n",
        "\n",
        "Sub Headers:\n",
        "\n",
        "\\<p style=\"margin-top:12pt; margin-bottom:0pt; font-size:12pt; font-family:arial; font-weight:bold\">...\\</p>\n",
        "\\<p style=\"margin-top:0pt; margin-bottom:0pt; font-size:12pt; font-family:arial; font-weight:bold\">...\\</p>\n",
        "\n",
        "\n",
        "\n",
        "Headers:\n",
        "\n",
        "\\<span style=\"font-weight:bold\">...\\</span>\n",
        "\n",
        "\n",
        "\n",
        "Section Headers:\n",
        "\n",
        "\\<p style=\"margin-top:12pt; margin-bottom:0pt; font-size:25pt; font-family:arial; font-weight:bold\">...\\</p>"
      ]
    },
    {
      "cell_type": "code",
      "execution_count": null,
      "metadata": {
        "id": "ZoasavkI9LsX"
      },
      "outputs": [],
      "source": [
        "# Split into different sections based on the 4 major headers / sections\n",
        "section_1_text = content.split('<p style=\"margin-top:0pt; margin-bottom:0pt; font-size:25pt; font-family:arial;font-weight:bold\">1. Governance and our Board of Directors ')[1].split(\n",
        "    '<p style=\"margin-top:0pt; margin-bottom:0pt; font-size:25pt; font-family:arial;font-weight:bold\">2.'\n",
        ")[0]\n",
        "\n",
        "section_2_text = content.split('<p style=\"margin-top:0pt; margin-bottom:0pt; font-size:25pt; font-family:arial;font-weight:bold\">2.')[1].split(\n",
        "    '<p style=\"margin-top:0pt; margin-bottom:0pt; font-size:25pt; font-family:arial;font-weight:bold\">3.'\n",
        ")[0]\n",
        "\n",
        "section_3_text = content.split('<p style=\"margin-top:0pt; margin-bottom:0pt; font-size:25pt; font-family:arial;font-weight:bold\">3.')[1].split(\n",
        "    '<p style=\"margin-top:0pt; margin-bottom:0pt; font-size:23pt; font-family:arial;font-weight:bold\">4.'\n",
        ")[0]\n",
        "\n",
        "section_4_text = content.split('<p style=\"margin-top:0pt; margin-bottom:0pt; font-size:23pt; font-family:arial;font-weight:bold\">4.')[1].split(\n",
        "    '<p style=\"margin-top:0pt; margin-bottom:0pt; font-size:25pt; font-family:arial;font-weight:bold\">5.'\n",
        ")[0]"
      ]
    },
    {
      "cell_type": "code",
      "execution_count": null,
      "metadata": {
        "id": "Huu7E8mRHzJi"
      },
      "outputs": [],
      "source": [
        "# There is some extra HTML formatting within the text, this should be removed as follows:\n",
        "\n",
        "# Cleaning steps\n",
        "# Replace &#8217; with '\n",
        "# Replace <span style=\"text-decoration:underline\"> with ''\n",
        "# Replace </span> with ''\n",
        "# Replace <span style=\"white-space:nowrap\"> with ''"
      ]
    },
    {
      "cell_type": "code",
      "execution_count": null,
      "metadata": {
        "id": "N4nhlDxTC3DX"
      },
      "outputs": [],
      "source": [
        "# Within each of the 4 sections, extract the body text\n",
        "# Define the regular expression\n",
        "text_pattern = r'<p style=\"margin-top:6pt; margin-bottom:0pt; font-size:9pt; font-family:arial\">(.*?)</p>'\n",
        "\n",
        "subheader_pattern = r'<p style=\"margin-top:12pt; margin-bottom:0pt; font-size:12pt; font-family:arial;font-weight:bold\">(.*?)</p> <p style=\"margin-top:6pt; margin-bottom:0pt; font-size:9pt; font-family:arial\">'\n",
        "\n",
        "# Use re.findall to extract all matches for body text\n",
        "section_1_text_sections = re.findall(text_pattern, section_1_text, re.DOTALL)"
      ]
    },
    {
      "cell_type": "code",
      "execution_count": null,
      "metadata": {
        "id": "59fE9rbvIk42"
      },
      "outputs": [],
      "source": [
        "# Observe the outputs and find any HTML sections that need cleaning\n",
        "# Replace HTML code with blanks or quotations as necessary\n",
        "section_1_text_sections_step_1 = []\n",
        "\n",
        "for section in section_1_text_sections:\n",
        "  section = section.replace('<span style=\"text-decoration:underline\">', '')\n",
        "  section = section.replace('</span>', '')\n",
        "  section = section.replace('<span style=\"white-space:nowrap\">', '')\n",
        "  section = section.replace('&#8217;', \"'\")\n",
        "  section_1_text_sections_step_1.append(section) # Append to cleaned array"
      ]
    },
    {
      "cell_type": "code",
      "execution_count": null,
      "metadata": {
        "id": "r8letRNUMfBM"
      },
      "outputs": [],
      "source": [
        "# section_1_text_sections_step_1"
      ]
    },
    {
      "cell_type": "code",
      "execution_count": null,
      "metadata": {
        "id": "Id9gSFf9Ml1Z"
      },
      "outputs": [],
      "source": [
        "# After another round of manual review, there are more HTML sections for cleaning\n",
        "# Replace HTML code with blanks or quotations as necessary\n",
        "section_1_text_sections_step_2 = []\n",
        "\n",
        "for section in section_1_text_sections_step_1:\n",
        "  section = section.replace('&#8220;', '\"')\n",
        "  section = section.replace('&#8221;', '\"')\n",
        "  section = section.replace('&#160;', ' ')\n",
        "  section = section.replace('&#8211;', '-')\n",
        "  section_1_text_sections_step_2.append(section) # Append to cleaned array"
      ]
    },
    {
      "cell_type": "code",
      "execution_count": null,
      "metadata": {
        "id": "U2kMavnFNSd7"
      },
      "outputs": [],
      "source": [
        "# Renaming for clarity\n",
        "section_1_text_sections_final = section_1_text_sections_step_2"
      ]
    },
    {
      "cell_type": "code",
      "execution_count": null,
      "metadata": {
        "id": "OtXVpqjYJ_PS"
      },
      "outputs": [],
      "source": [
        "# Find all blocks of body text in section 2\n",
        "section_2_text_sections = re.findall(text_pattern, section_2_text, re.DOTALL)"
      ]
    },
    {
      "cell_type": "code",
      "execution_count": null,
      "metadata": {
        "id": "kDwVXWpEKr0b"
      },
      "outputs": [],
      "source": [
        "# Based on the manual review of section 1 and further review, clean all HTML formatting that is present in section 2\n",
        "# Replace HTML code with blanks or quotations as necessary\n",
        "section_2_text_sections_clean = []\n",
        "\n",
        "for section in section_2_text_sections:\n",
        "  section = section.replace('<span style=\"text-decoration:underline\">', '')\n",
        "  section = section.replace('</span>', '')\n",
        "  section = section.replace('<span style=\"white-space:nowrap\">', '')\n",
        "  section = section.replace('&#8217;', \"'\")\n",
        "  section = section.replace('&#8220;', '\"')\n",
        "  section = section.replace('&#8221;', '\"')\n",
        "  section = section.replace('&#160;', ' ')\n",
        "  section = section.replace('&#8211;', '-')\n",
        "  section_2_text_sections_clean.append(section) # Append to cleaned array"
      ]
    },
    {
      "cell_type": "code",
      "execution_count": null,
      "metadata": {
        "id": "sZJzo-hCWpqp"
      },
      "outputs": [],
      "source": [
        "# Find all blocks of body text in section 3\n",
        "section_3_text_sections = re.findall(text_pattern, section_3_text, re.DOTALL)"
      ]
    },
    {
      "cell_type": "code",
      "execution_count": null,
      "metadata": {
        "id": "uOuNaIiuWtvF"
      },
      "outputs": [],
      "source": [
        "# Based on the manual review of section 1 and further review, clean all HTML formatting that is present in section 3\n",
        "# Replace HTML code with blanks or quotations as necessary\n",
        "section_3_text_sections_clean = []\n",
        "\n",
        "for section in section_3_text_sections:\n",
        "  section = section.replace('<span style=\"text-decoration:underline\">', '')\n",
        "  section = section.replace('</span>', '')\n",
        "  section = section.replace('<span style=\"white-space:nowrap\">', '')\n",
        "  section = section.replace('&#8217;', \"'\")\n",
        "  section = section.replace('&#8220;', '\"')\n",
        "  section = section.replace('&#8221;', '\"')\n",
        "  section = section.replace('&#160;', ' ')\n",
        "  section = section.replace('&#8211;', '-')\n",
        "  section_3_text_sections_clean.append(section) # Append to cleaned array"
      ]
    },
    {
      "cell_type": "code",
      "execution_count": null,
      "metadata": {
        "id": "_NdP-jOsYWGo"
      },
      "outputs": [],
      "source": [
        "# Find all blocks of body text in section 4\n",
        "section_4_text_sections = re.findall(text_pattern, section_4_text, re.DOTALL)"
      ]
    },
    {
      "cell_type": "code",
      "execution_count": null,
      "metadata": {
        "id": "MZXNiTlDYYFu"
      },
      "outputs": [],
      "source": [
        "# Based on the manual review of section 1 and further review, clean all HTML formatting that is present in section 4\n",
        "# Replace HTML code with blanks or quotations as necessary\n",
        "section_4_text_sections_clean = []\n",
        "\n",
        "for section in section_4_text_sections:\n",
        "  section = section.replace('<span style=\"text-decoration:underline\">', '')\n",
        "  section = section.replace('</span>', '')\n",
        "  section = section.replace('<span style=\"white-space:nowrap\">', '')\n",
        "  section = section.replace('&#8217;', \"'\")\n",
        "  section = section.replace('&#8220;', '\"')\n",
        "  section = section.replace('&#8221;', '\"')\n",
        "  section = section.replace('&#160;', ' ')\n",
        "  section = section.replace('&#8211;', '-')\n",
        "  section_4_text_sections_clean.append(section) # Append to cleaned array"
      ]
    },
    {
      "cell_type": "code",
      "execution_count": null,
      "metadata": {
        "colab": {
          "base_uri": "https://localhost:8080/",
          "height": 163
        },
        "id": "iAAMHd5rfOsy",
        "outputId": "10ad0d1a-3eb2-41aa-9089-e65338c785e6"
      },
      "outputs": [
        {
          "data": {
            "application/vnd.google.colaboratory.intrinsic+json": {
              "summary": "{\n  \"name\": \"combined_df[combined_df['final_proxy_guideline'] != 'Not a proxy guideline\",\n  \"rows\": 2,\n  \"fields\": [\n    {\n      \"column\": \"source\",\n      \"properties\": {\n        \"dtype\": \"string\",\n        \"num_unique_values\": 2,\n        \"samples\": [\n          \"Vanguard\",\n          \"BlackRock\"\n        ],\n        \"semantic_type\": \"\",\n        \"description\": \"\"\n      }\n    },\n    {\n      \"column\": \"header\",\n      \"properties\": {\n        \"dtype\": \"number\",\n        \"std\": 159,\n        \"min\": 44,\n        \"max\": 269,\n        \"num_unique_values\": 2,\n        \"samples\": [\n          269,\n          44\n        ],\n        \"semantic_type\": \"\",\n        \"description\": \"\"\n      }\n    },\n    {\n      \"column\": \"subheader\",\n      \"properties\": {\n        \"dtype\": \"number\",\n        \"std\": 67,\n        \"min\": 41,\n        \"max\": 136,\n        \"num_unique_values\": 2,\n        \"samples\": [\n          136,\n          41\n        ],\n        \"semantic_type\": \"\",\n        \"description\": \"\"\n      }\n    },\n    {\n      \"column\": \"content\",\n      \"properties\": {\n        \"dtype\": \"number\",\n        \"std\": 159,\n        \"min\": 44,\n        \"max\": 269,\n        \"num_unique_values\": 2,\n        \"samples\": [\n          269,\n          44\n        ],\n        \"semantic_type\": \"\",\n        \"description\": \"\"\n      }\n    },\n    {\n      \"column\": \"relevant_sentences\",\n      \"properties\": {\n        \"dtype\": \"number\",\n        \"std\": 159,\n        \"min\": 44,\n        \"max\": 269,\n        \"num_unique_values\": 2,\n        \"samples\": [\n          269,\n          44\n        ],\n        \"semantic_type\": \"\",\n        \"description\": \"\"\n      }\n    },\n    {\n      \"column\": \"chatgpt_response\",\n      \"properties\": {\n        \"dtype\": \"number\",\n        \"std\": 159,\n        \"min\": 44,\n        \"max\": 269,\n        \"num_unique_values\": 2,\n        \"samples\": [\n          269,\n          44\n        ],\n        \"semantic_type\": \"\",\n        \"description\": \"\"\n      }\n    },\n    {\n      \"column\": \"chatgpt_response_split\",\n      \"properties\": {\n        \"dtype\": \"number\",\n        \"std\": 159,\n        \"min\": 44,\n        \"max\": 269,\n        \"num_unique_values\": 2,\n        \"samples\": [\n          269,\n          44\n        ],\n        \"semantic_type\": \"\",\n        \"description\": \"\"\n      }\n    },\n    {\n      \"column\": \"final_proxy_guideline\",\n      \"properties\": {\n        \"dtype\": \"number\",\n        \"std\": 159,\n        \"min\": 44,\n        \"max\": 269,\n        \"num_unique_values\": 2,\n        \"samples\": [\n          269,\n          44\n        ],\n        \"semantic_type\": \"\",\n        \"description\": \"\"\n      }\n    },\n    {\n      \"column\": \"classification\",\n      \"properties\": {\n        \"dtype\": \"number\",\n        \"std\": 159,\n        \"min\": 44,\n        \"max\": 269,\n        \"num_unique_values\": 2,\n        \"samples\": [\n          269,\n          44\n        ],\n        \"semantic_type\": \"\",\n        \"description\": \"\"\n      }\n    }\n  ]\n}",
              "type": "dataframe"
            },
            "text/html": [
              "\n",
              "  <div id=\"df-44d251cf-6b84-4fcd-a2d0-86bb6c796841\" class=\"colab-df-container\">\n",
              "    <div>\n",
              "<style scoped>\n",
              "    .dataframe tbody tr th:only-of-type {\n",
              "        vertical-align: middle;\n",
              "    }\n",
              "\n",
              "    .dataframe tbody tr th {\n",
              "        vertical-align: top;\n",
              "    }\n",
              "\n",
              "    .dataframe thead th {\n",
              "        text-align: right;\n",
              "    }\n",
              "</style>\n",
              "<table border=\"1\" class=\"dataframe\">\n",
              "  <thead>\n",
              "    <tr style=\"text-align: right;\">\n",
              "      <th></th>\n",
              "      <th>header</th>\n",
              "      <th>subheader</th>\n",
              "      <th>content</th>\n",
              "      <th>relevant_sentences</th>\n",
              "      <th>chatgpt_response</th>\n",
              "      <th>chatgpt_response_split</th>\n",
              "      <th>final_proxy_guideline</th>\n",
              "      <th>classification</th>\n",
              "    </tr>\n",
              "    <tr>\n",
              "      <th>source</th>\n",
              "      <th></th>\n",
              "      <th></th>\n",
              "      <th></th>\n",
              "      <th></th>\n",
              "      <th></th>\n",
              "      <th></th>\n",
              "      <th></th>\n",
              "      <th></th>\n",
              "    </tr>\n",
              "  </thead>\n",
              "  <tbody>\n",
              "    <tr>\n",
              "      <th>BlackRock</th>\n",
              "      <td>44</td>\n",
              "      <td>41</td>\n",
              "      <td>44</td>\n",
              "      <td>44</td>\n",
              "      <td>44</td>\n",
              "      <td>44</td>\n",
              "      <td>44</td>\n",
              "      <td>44</td>\n",
              "    </tr>\n",
              "    <tr>\n",
              "      <th>Vanguard</th>\n",
              "      <td>269</td>\n",
              "      <td>136</td>\n",
              "      <td>269</td>\n",
              "      <td>269</td>\n",
              "      <td>269</td>\n",
              "      <td>269</td>\n",
              "      <td>269</td>\n",
              "      <td>269</td>\n",
              "    </tr>\n",
              "  </tbody>\n",
              "</table>\n",
              "</div>\n",
              "    <div class=\"colab-df-buttons\">\n",
              "\n",
              "  <div class=\"colab-df-container\">\n",
              "    <button class=\"colab-df-convert\" onclick=\"convertToInteractive('df-44d251cf-6b84-4fcd-a2d0-86bb6c796841')\"\n",
              "            title=\"Convert this dataframe to an interactive table.\"\n",
              "            style=\"display:none;\">\n",
              "\n",
              "  <svg xmlns=\"http://www.w3.org/2000/svg\" height=\"24px\" viewBox=\"0 -960 960 960\">\n",
              "    <path d=\"M120-120v-720h720v720H120Zm60-500h600v-160H180v160Zm220 220h160v-160H400v160Zm0 220h160v-160H400v160ZM180-400h160v-160H180v160Zm440 0h160v-160H620v160ZM180-180h160v-160H180v160Zm440 0h160v-160H620v160Z\"/>\n",
              "  </svg>\n",
              "    </button>\n",
              "\n",
              "  <style>\n",
              "    .colab-df-container {\n",
              "      display:flex;\n",
              "      gap: 12px;\n",
              "    }\n",
              "\n",
              "    .colab-df-convert {\n",
              "      background-color: #E8F0FE;\n",
              "      border: none;\n",
              "      border-radius: 50%;\n",
              "      cursor: pointer;\n",
              "      display: none;\n",
              "      fill: #1967D2;\n",
              "      height: 32px;\n",
              "      padding: 0 0 0 0;\n",
              "      width: 32px;\n",
              "    }\n",
              "\n",
              "    .colab-df-convert:hover {\n",
              "      background-color: #E2EBFA;\n",
              "      box-shadow: 0px 1px 2px rgba(60, 64, 67, 0.3), 0px 1px 3px 1px rgba(60, 64, 67, 0.15);\n",
              "      fill: #174EA6;\n",
              "    }\n",
              "\n",
              "    .colab-df-buttons div {\n",
              "      margin-bottom: 4px;\n",
              "    }\n",
              "\n",
              "    [theme=dark] .colab-df-convert {\n",
              "      background-color: #3B4455;\n",
              "      fill: #D2E3FC;\n",
              "    }\n",
              "\n",
              "    [theme=dark] .colab-df-convert:hover {\n",
              "      background-color: #434B5C;\n",
              "      box-shadow: 0px 1px 3px 1px rgba(0, 0, 0, 0.15);\n",
              "      filter: drop-shadow(0px 1px 2px rgba(0, 0, 0, 0.3));\n",
              "      fill: #FFFFFF;\n",
              "    }\n",
              "  </style>\n",
              "\n",
              "    <script>\n",
              "      const buttonEl =\n",
              "        document.querySelector('#df-44d251cf-6b84-4fcd-a2d0-86bb6c796841 button.colab-df-convert');\n",
              "      buttonEl.style.display =\n",
              "        google.colab.kernel.accessAllowed ? 'block' : 'none';\n",
              "\n",
              "      async function convertToInteractive(key) {\n",
              "        const element = document.querySelector('#df-44d251cf-6b84-4fcd-a2d0-86bb6c796841');\n",
              "        const dataTable =\n",
              "          await google.colab.kernel.invokeFunction('convertToInteractive',\n",
              "                                                    [key], {});\n",
              "        if (!dataTable) return;\n",
              "\n",
              "        const docLinkHtml = 'Like what you see? Visit the ' +\n",
              "          '<a target=\"_blank\" href=https://colab.research.google.com/notebooks/data_table.ipynb>data table notebook</a>'\n",
              "          + ' to learn more about interactive tables.';\n",
              "        element.innerHTML = '';\n",
              "        dataTable['output_type'] = 'display_data';\n",
              "        await google.colab.output.renderOutput(dataTable, element);\n",
              "        const docLink = document.createElement('div');\n",
              "        docLink.innerHTML = docLinkHtml;\n",
              "        element.appendChild(docLink);\n",
              "      }\n",
              "    </script>\n",
              "  </div>\n",
              "\n",
              "\n",
              "<div id=\"df-db86ca05-e2b3-42da-93e4-3d66e18bc71e\">\n",
              "  <button class=\"colab-df-quickchart\" onclick=\"quickchart('df-db86ca05-e2b3-42da-93e4-3d66e18bc71e')\"\n",
              "            title=\"Suggest charts\"\n",
              "            style=\"display:none;\">\n",
              "\n",
              "<svg xmlns=\"http://www.w3.org/2000/svg\" height=\"24px\"viewBox=\"0 0 24 24\"\n",
              "     width=\"24px\">\n",
              "    <g>\n",
              "        <path d=\"M19 3H5c-1.1 0-2 .9-2 2v14c0 1.1.9 2 2 2h14c1.1 0 2-.9 2-2V5c0-1.1-.9-2-2-2zM9 17H7v-7h2v7zm4 0h-2V7h2v10zm4 0h-2v-4h2v4z\"/>\n",
              "    </g>\n",
              "</svg>\n",
              "  </button>\n",
              "\n",
              "<style>\n",
              "  .colab-df-quickchart {\n",
              "      --bg-color: #E8F0FE;\n",
              "      --fill-color: #1967D2;\n",
              "      --hover-bg-color: #E2EBFA;\n",
              "      --hover-fill-color: #174EA6;\n",
              "      --disabled-fill-color: #AAA;\n",
              "      --disabled-bg-color: #DDD;\n",
              "  }\n",
              "\n",
              "  [theme=dark] .colab-df-quickchart {\n",
              "      --bg-color: #3B4455;\n",
              "      --fill-color: #D2E3FC;\n",
              "      --hover-bg-color: #434B5C;\n",
              "      --hover-fill-color: #FFFFFF;\n",
              "      --disabled-bg-color: #3B4455;\n",
              "      --disabled-fill-color: #666;\n",
              "  }\n",
              "\n",
              "  .colab-df-quickchart {\n",
              "    background-color: var(--bg-color);\n",
              "    border: none;\n",
              "    border-radius: 50%;\n",
              "    cursor: pointer;\n",
              "    display: none;\n",
              "    fill: var(--fill-color);\n",
              "    height: 32px;\n",
              "    padding: 0;\n",
              "    width: 32px;\n",
              "  }\n",
              "\n",
              "  .colab-df-quickchart:hover {\n",
              "    background-color: var(--hover-bg-color);\n",
              "    box-shadow: 0 1px 2px rgba(60, 64, 67, 0.3), 0 1px 3px 1px rgba(60, 64, 67, 0.15);\n",
              "    fill: var(--button-hover-fill-color);\n",
              "  }\n",
              "\n",
              "  .colab-df-quickchart-complete:disabled,\n",
              "  .colab-df-quickchart-complete:disabled:hover {\n",
              "    background-color: var(--disabled-bg-color);\n",
              "    fill: var(--disabled-fill-color);\n",
              "    box-shadow: none;\n",
              "  }\n",
              "\n",
              "  .colab-df-spinner {\n",
              "    border: 2px solid var(--fill-color);\n",
              "    border-color: transparent;\n",
              "    border-bottom-color: var(--fill-color);\n",
              "    animation:\n",
              "      spin 1s steps(1) infinite;\n",
              "  }\n",
              "\n",
              "  @keyframes spin {\n",
              "    0% {\n",
              "      border-color: transparent;\n",
              "      border-bottom-color: var(--fill-color);\n",
              "      border-left-color: var(--fill-color);\n",
              "    }\n",
              "    20% {\n",
              "      border-color: transparent;\n",
              "      border-left-color: var(--fill-color);\n",
              "      border-top-color: var(--fill-color);\n",
              "    }\n",
              "    30% {\n",
              "      border-color: transparent;\n",
              "      border-left-color: var(--fill-color);\n",
              "      border-top-color: var(--fill-color);\n",
              "      border-right-color: var(--fill-color);\n",
              "    }\n",
              "    40% {\n",
              "      border-color: transparent;\n",
              "      border-right-color: var(--fill-color);\n",
              "      border-top-color: var(--fill-color);\n",
              "    }\n",
              "    60% {\n",
              "      border-color: transparent;\n",
              "      border-right-color: var(--fill-color);\n",
              "    }\n",
              "    80% {\n",
              "      border-color: transparent;\n",
              "      border-right-color: var(--fill-color);\n",
              "      border-bottom-color: var(--fill-color);\n",
              "    }\n",
              "    90% {\n",
              "      border-color: transparent;\n",
              "      border-bottom-color: var(--fill-color);\n",
              "    }\n",
              "  }\n",
              "</style>\n",
              "\n",
              "  <script>\n",
              "    async function quickchart(key) {\n",
              "      const quickchartButtonEl =\n",
              "        document.querySelector('#' + key + ' button');\n",
              "      quickchartButtonEl.disabled = true;  // To prevent multiple clicks.\n",
              "      quickchartButtonEl.classList.add('colab-df-spinner');\n",
              "      try {\n",
              "        const charts = await google.colab.kernel.invokeFunction(\n",
              "            'suggestCharts', [key], {});\n",
              "      } catch (error) {\n",
              "        console.error('Error during call to suggestCharts:', error);\n",
              "      }\n",
              "      quickchartButtonEl.classList.remove('colab-df-spinner');\n",
              "      quickchartButtonEl.classList.add('colab-df-quickchart-complete');\n",
              "    }\n",
              "    (() => {\n",
              "      let quickchartButtonEl =\n",
              "        document.querySelector('#df-db86ca05-e2b3-42da-93e4-3d66e18bc71e button');\n",
              "      quickchartButtonEl.style.display =\n",
              "        google.colab.kernel.accessAllowed ? 'block' : 'none';\n",
              "    })();\n",
              "  </script>\n",
              "</div>\n",
              "\n",
              "    </div>\n",
              "  </div>\n"
            ],
            "text/plain": [
              "           header  subheader  content  relevant_sentences  chatgpt_response  \\\n",
              "source                                                                        \n",
              "BlackRock      44         41       44                  44                44   \n",
              "Vanguard      269        136      269                 269               269   \n",
              "\n",
              "           chatgpt_response_split  final_proxy_guideline  classification  \n",
              "source                                                                    \n",
              "BlackRock                      44                     44              44  \n",
              "Vanguard                      269                    269             269  "
            ]
          },
          "execution_count": 24,
          "metadata": {},
          "output_type": "execute_result"
        }
      ],
      "source": [
        "# Find number of voting guidelines from each of the two sources\n",
        "combined_df[combined_df['final_proxy_guideline'] != 'Not a proxy guideline.'].groupby('source').count()"
      ]
    },
    {
      "cell_type": "code",
      "execution_count": null,
      "metadata": {
        "id": "pxSxF6-QK6aO"
      },
      "outputs": [],
      "source": [
        "#section_2_text_sections_clean"
      ]
    },
    {
      "cell_type": "code",
      "execution_count": null,
      "metadata": {
        "id": "YIrZlWZz0S6m"
      },
      "outputs": [],
      "source": [
        "# Append each paragraph of body text from section 1 into one paragraph\n",
        "section_1_all_text = ''\n",
        "\n",
        "# Append each section to the end with a space\n",
        "for section in section_1_text_sections_final:\n",
        "  section_1_all_text += (section + ' ')"
      ]
    },
    {
      "cell_type": "code",
      "execution_count": null,
      "metadata": {
        "id": "hesN7oydLCjG"
      },
      "outputs": [],
      "source": [
        "# Append each paragraph of body text from section 2 into one paragraph\n",
        "section_2_all_text = ''\n",
        "\n",
        "# Append each section to the end with a space\n",
        "for section in section_2_text_sections_clean:\n",
        "  section_2_all_text += (section + ' ')"
      ]
    },
    {
      "cell_type": "code",
      "execution_count": null,
      "metadata": {
        "id": "5eOpHpXYWxVc"
      },
      "outputs": [],
      "source": [
        "# Append each paragraph of body text from section 3 into one paragraph\n",
        "section_3_all_text = ''\n",
        "\n",
        "# Append each section to the end with a space\n",
        "for section in section_3_text_sections_clean:\n",
        "  section_3_all_text += (section + ' ')"
      ]
    },
    {
      "cell_type": "code",
      "execution_count": null,
      "metadata": {
        "id": "UIpptKacYbrF"
      },
      "outputs": [],
      "source": [
        "# Append each paragraph of body text from section 4 into one paragraph\n",
        "section_4_all_text = ''\n",
        "\n",
        "# Append each section to the end with a space\n",
        "for section in section_4_text_sections_clean:\n",
        "  section_4_all_text += (section + ' ')"
      ]
    },
    {
      "cell_type": "code",
      "execution_count": null,
      "metadata": {
        "id": "wx3fSdyyzUJi"
      },
      "outputs": [],
      "source": [
        "# Compare section text to guidelines\n",
        "# For each section and each category of guidelines, use OpenAI to find if/where those guidelines have been violated\n",
        "section_1_potential_violations = []\n",
        "\n",
        "# What has been done so far\n",
        "# independence           x\n",
        "# compensation           x\n",
        "# board and directors    x\n",
        "# shareholder rights     x\n",
        "# corporate governance   x\n",
        "\n",
        "# Iterate over each guideline\n",
        "for item in board_and_directors_guidelines:\n",
        "\n",
        "    # The prompt here looks at the individual guideline, and finds anywhere in the section of Microsoft proxy text that might violate this guideline\n",
        "    # Returns the guideline that has been violated, as well as what text in the proxy statement shows the violation of that guideline\n",
        "    # Returns \"Not Applicable\" if no violation has been found\n",
        "    completion = client.chat.completions.create(\n",
        "      model=\"gpt-4o-mini\", # Model to be used\n",
        "      messages=[\n",
        "          {\"role\": \"system\", \"content\": \"You are a helpful assistant.\"},\n",
        "            {\n",
        "              \"role\": \"user\",\n",
        "              \"content\": f'I will provide a proxy voting guideline for BlackRock. This outlines if they will vote FOR or AGAINST certain policies and actions that take place in the company they invest in. In this case, the company being invested in, and that BlackRock has a decision in, is Microsoft. I will also provide a piece of text from Microsofts proxy statement, which outlines all information that is relevant to shareholders. I want you to find Microsofts policies and information from the proxy statement that BlackRock would vote against based on the guideline I provide. If they would vote AGAINST something in the proxy statement, please return \"AGAINST - \" along with the guideline that I provide. Please also provide the exact quote in Microsofts proxy statement that shows what is being voted against. The output should look like \"VIOLATION - [specific guideline]. TEXT - [quote fromm proxy statement]\". If it is not applicable, please return \"Not Applicable\". Only return what I asked you to, no additional text. Here is the BlackRock guideline: \"{item}\". Here is the text from the Microsoft proxy statement: \"{section_1_all_text}\"'\n",
        "            }\n",
        "        ]\n",
        "      )\n",
        "\n",
        "    # Get results from prompt\n",
        "    result = completion.choices[0].message\n",
        "\n",
        "    # Append text of result to the potential violations\n",
        "    section_1_potential_violations.append(result.content)\n",
        "\n",
        "\n",
        "# Note that this process has been done for each combination of sections / guidelines\n",
        "# The sections have been removed for clarity, as there is much repetitive code\n"
      ]
    },
    {
      "cell_type": "code",
      "execution_count": null,
      "metadata": {
        "colab": {
          "base_uri": "https://localhost:8080/"
        },
        "id": "XGXe-yuCA4P4",
        "outputId": "793388e8-9322-4c4a-da7e-3275a62b503b"
      },
      "outputs": [
        {
          "data": {
            "text/plain": [
              "['AGAINST - May vote AGAINST directors who we do not consider to be independent. TEXT - \"The Board has determined that Mses. List, MacGregor, Peterson, Pritzker, and Walmsley, and Messrs. Hoffman, Johnston, Mason, Rodriguez, Scharf, and Stanton (as well as Padmasree Warrior and John Thompson, whose Board service ended on December 7, 2023) meet the standards of independence under our Corporate Governance Guidelines, the director independence guidelines, and applicable Nasdaq listing standards, including that each member is free of any relationship that would interfere with his or her individual exercise of independent judgment.\"',\n",
              " 'AGAINST - May vote AGAINST a director who has acted in a manner that compromises their ability to represent the best long-term economic interests of shareholders. TEXT - \"Mr. Hoffman is a co-founder of and serves on the board of directors of Inflection. As of the date of the agreement with Inflection, Reprogrammed Interchange LLC (\"Reprogrammed\") and entities affiliated with Greylock Ventures (\"Greylock\") each held less than a 10% equity interest in Inflection. Mr. Hoffman may be deemed to beneficially own the shares held by Reprogrammed and Greylock by virtue of his relationship with such entities. Mr. Hoffman did not participate in any portions of the meetings of our Board or any committee thereof to review and approve the transaction with Inflection.\"',\n",
              " 'Not Applicable',\n",
              " 'Not Applicable',\n",
              " 'Not Applicable',\n",
              " 'AGAINST - May vote AGAINST the directors up for election if there are concerns about a specific director. TEXT - \"Mr. Hoffman is a co-founder of and serves on the board of directors of Inflection. As of the date of the agreement with Inflection, Reprogrammed Interchange LLC (\"Reprogrammed\") and entities affiliated with Greylock Ventures (\"Greylock\") each held less than a 10% equity interest in Inflection. Mr. Hoffman may be deemed to beneficially own the shares held by Reprogrammed and Greylock by virtue of his relationship with such entities. Mr. Hoffman did not participate in any portions of the meetings of our Board or any committee thereof to review and approve the transaction with Inflection.\"',\n",
              " 'AGAINST - May vote AGAINST boards that appear to have an insufficient mix of short-, medium-, and long-tenured directors. TEXT - \"The Board seeks to maintain an average tenure of 10 years or less for its independent directors as a group.\"',\n",
              " 'AGAINST - May vote AGAINST the appropriate committees and/or individual directors if, in our view, the board is ineffective in its oversight. TEXT - \"The Board does not have a policy as to whether the Chairman should be an independent director, an affiliated director, or a member of management.\"',\n",
              " 'Not Applicable',\n",
              " 'Not Applicable',\n",
              " 'AGAINST - May vote AGAINST the responsible committees and/or individual directors if the board has not substantially addressed material shareholder concerns. TEXT - \"In fiscal year 2024, we engaged on governance and environmental and social topics with a cross-section of shareholders owning approximately 50% of Microsoft shares.\"',\n",
              " 'Not Applicable',\n",
              " 'AGAINST - Votes AGAINST the Independent Chair or Lead Independent director and members of the nominating/governance committee when a board unilaterally adopts exclusive forum provisions that are considered unfavorable to the interests of shareholders. TEXT - \"Microsoft does not have a policy as to whether the Chairman should be an independent director, an affiliated director, or a member of management.\"',\n",
              " 'Not Applicable',\n",
              " 'Not Applicable',\n",
              " 'AGAINST - Votes AGAINST any director who serves on more than four public company boards. TEXT - \"The Governance and Nominating Committee and the Board considered Ms. List\\'s service on four public company audit committees...\"',\n",
              " 'AGAINST - Votes AGAINST the director at each company except the one where they serve as board chair or lead independent director. TEXT - \"Following are biographies for the 12 directors nominated by the Board for election during the 2024 Annual Meeting.\"',\n",
              " 'Not Applicable',\n",
              " 'AGAINST - May vote AGAINST directors deemed responsible for failing to respond to actions approved by a majority of shareholders or failing in oversight. TEXT - \"The Board does not have a policy as to whether the Chairman should be an independent director, an affiliated director, or a member of management.\"',\n",
              " 'Not Applicable',\n",
              " 'AGAINST - Votes AGAINST relevant directors to raise concerns when a company lacks majority board independence or key committee independence. TEXT - \"The Board does not have a policy as to whether the Chairman should be an independent director, an affiliated director, or a member of management.\"',\n",
              " 'AGAINST - Votes AGAINST members of the nominating committee if management proposes the reappointment of a director or directors who failed to receive majority shareholder support and the board has not resolved the underlying issue driving the lack of shareholder support. TEXT - \"In determining whether to recommend a director for re-election, the Committee considers the director\\'s participation in and contributions to the activities of the Board, the results of the most recent Board evaluation, and meeting attendance.\"',\n",
              " 'AGAINST - Votes AGAINST relevant committee members and/or other relevant directors if the board has failed to effectively identify, monitor, and ensure management of material risks and business practices under its purview. TEXT - \"Effective risk management is critical to Microsoft\\'s ability to achieve its mission. The Board exercises direct oversight of strategic risks to the Company and other risk areas not delegated to one of the Board\\'s committees.\"',\n",
              " 'AGAINST - Votes AGAINST the lead independent director and/or chair, and/or any other relevant director(s) when a specific risk does not fall under the purview of a board committee. TEXT - \"The Board does not have a policy as to whether the Chairman should be an independent director, an affiliated director, or a member of management.\"',\n",
              " 'Not Applicable',\n",
              " 'Not Applicable',\n",
              " 'Not Applicable',\n",
              " 'AGAINST - Votes AGAINST management or shareholder proposals to create a classified board. TEXT - \"Our Board does not have a policy as to whether the Chairman should be an independent director, an affiliated director, or a member of management.\"',\n",
              " 'AGAINST - Votes AGAINST management proposals to allow directors to fill vacancies on a classified board. TEXT - \"The Board does not have a policy as to whether the Chairman should be an independent director, an affiliated director, or a member of management.\"',\n",
              " 'AGAINST - Votes AGAINST management proposals that give the board the exclusive authority to amend the bylaws. TEXT - \"Our Bylaws provide for proxy access shareholder nominations of director candidates by eligible shareholders.\"']"
            ]
          },
          "execution_count": 22,
          "metadata": {},
          "output_type": "execute_result"
        }
      ],
      "source": [
        "# Print results to evaluate\n",
        "section_1_potential_violations"
      ]
    },
    {
      "cell_type": "code",
      "execution_count": null,
      "metadata": {
        "id": "XwXFZTyAEj74"
      },
      "outputs": [],
      "source": [
        "# There are many potential violations found by OpenAI\n",
        "# After manual review, it seems that many of them are irrelevant / the proxy text does not provide the proper context\n",
        "# Use OpenAI again to review each guideline and violation, and judge if it is an actual violation\n",
        "final_section_4_violations = [] # Final list of violations + guidelines\n",
        "\n",
        "# Iterate through each potential violation\n",
        "for item in section_4_potential_violations:\n",
        "\n",
        "    # Ignore ones that are not applicable, append \"Not Applicable\" to determine which are applicable\n",
        "    if item == \"Not Applicable\":\n",
        "      final_section_4_violations.append(item)\n",
        "\n",
        "    else:\n",
        "\n",
        "      # The prompt here provides the guideline, as well as the text that may or may not violate that guideline\n",
        "      # If it is a violation, the prompt will return the violation and the guideline, as formatted in the input\n",
        "      # If it is not a violation, it will return \"Not Applicable\"\n",
        "      completion = client.chat.completions.create(\n",
        "        model=\"gpt-4o-mini\", # Model to be used\n",
        "        messages=[\n",
        "            {\"role\": \"system\", \"content\": \"You are a helpful assistant.\"},\n",
        "              {\n",
        "                \"role\": \"user\",\n",
        "                \"content\": f'I will provide you with a  string of the format \"AGAINST - [guideline]. TEXT - ...\". The guideline is for proxy voting, and states a policy that an investment firm will vote AGAINST for the company it holds shares in. The TEXT states a part of the companys policies, which the investment firm may vote against. If the text gives enough context and would be voted against based on the guideline, please return the string that I give you, with no additional response. If the TEXT does not provide enough context to say if the investment firm will vote for or against, please return \"Not Applicable\". Here is the string: {item}'\n",
        "              }\n",
        "          ]\n",
        "        )\n",
        "\n",
        "      # Get results from prompt\n",
        "      result = completion.choices[0].message\n",
        "\n",
        "      # Append text of result to the potential violations\n",
        "      final_section_4_violations.append(result.content)\n",
        "\n",
        "\n",
        "# Note that this step was taken for all 4 sections\n",
        "# The sections have been removed for clarity, as there is much repetitive code\n",
        "\n"
      ]
    },
    {
      "cell_type": "code",
      "execution_count": null,
      "metadata": {
        "colab": {
          "base_uri": "https://localhost:8080/"
        },
        "id": "WTHCPRZTG384",
        "outputId": "7e2c7701-c1ef-4751-b88b-f276fb85e92f"
      },
      "outputs": [
        {
          "data": {
            "text/plain": [
              "['Not Applicable',\n",
              " 'Not Applicable',\n",
              " 'Not Applicable',\n",
              " 'Not Applicable',\n",
              " 'Not Applicable',\n",
              " 'Not Applicable',\n",
              " 'Not Applicable',\n",
              " 'Not Applicable',\n",
              " 'Not Applicable',\n",
              " 'Not Applicable',\n",
              " 'Not Applicable',\n",
              " 'Not Applicable',\n",
              " 'Not Applicable',\n",
              " 'Not Applicable',\n",
              " 'Not Applicable',\n",
              " 'Not Applicable',\n",
              " 'Not Applicable',\n",
              " 'Not Applicable',\n",
              " 'Not Applicable',\n",
              " 'Not Applicable',\n",
              " 'Not Applicable',\n",
              " 'Not Applicable',\n",
              " 'Not Applicable',\n",
              " 'Not Applicable',\n",
              " 'Not Applicable',\n",
              " 'Not Applicable',\n",
              " 'Not Applicable',\n",
              " 'Not Applicable',\n",
              " 'Not Applicable',\n",
              " 'Not Applicable',\n",
              " 'Not Applicable',\n",
              " 'Not Applicable',\n",
              " 'Not Applicable',\n",
              " 'Not Applicable',\n",
              " 'Not Applicable',\n",
              " 'Not Applicable',\n",
              " 'AGAINST - May vote AGAINST a director who has acted in a manner that compromises their ability to represent the best long-term economic interests of shareholders. TEXT - \"Involvement in the development of weapons poses a serious risk to a company\\'s reputation, especially for investors and stakeholders.\"',\n",
              " 'Not Applicable',\n",
              " 'Not Applicable',\n",
              " 'Not Applicable',\n",
              " 'Not Applicable',\n",
              " 'Not Applicable',\n",
              " 'Not Applicable',\n",
              " 'Not Applicable',\n",
              " 'Not Applicable',\n",
              " 'Not Applicable',\n",
              " 'Not Applicable',\n",
              " 'Not Applicable',\n",
              " 'Not Applicable',\n",
              " 'Not Applicable',\n",
              " 'Not Applicable',\n",
              " 'Not Applicable',\n",
              " 'Not Applicable',\n",
              " 'AGAINST - May vote AGAINST directors deemed responsible for failing to respond to actions approved by a majority of shareholders or failing in oversight. TEXT - \"Regardless of how our Company positions itself by making public statements, the outcome is a significant contract with the United States military and Microsoft is actively working to develop what employees, other stakeholders, including shareholders, and the public view as a weapons system used in war.\"',\n",
              " 'Not Applicable',\n",
              " 'Not Applicable',\n",
              " 'Not Applicable',\n",
              " 'Not Applicable',\n",
              " 'Not Applicable',\n",
              " 'Not Applicable',\n",
              " 'Not Applicable',\n",
              " 'Not Applicable',\n",
              " 'Not Applicable',\n",
              " 'Not Applicable',\n",
              " 'Not Applicable',\n",
              " 'Not Applicable',\n",
              " 'Not Applicable',\n",
              " 'Not Applicable',\n",
              " 'Not Applicable',\n",
              " 'Not Applicable',\n",
              " 'Not Applicable',\n",
              " 'Not Applicable',\n",
              " 'Not Applicable',\n",
              " 'Not Applicable',\n",
              " 'Not Applicable',\n",
              " 'Not Applicable',\n",
              " 'Not Applicable',\n",
              " 'Not Applicable',\n",
              " 'Not Applicable',\n",
              " 'Not Applicable',\n",
              " 'Not Applicable',\n",
              " 'Not Applicable',\n",
              " 'Not Applicable',\n",
              " 'Not Applicable',\n",
              " 'Not Applicable',\n",
              " 'Not Applicable',\n",
              " 'Not Applicable',\n",
              " 'Not Applicable',\n",
              " 'Not Applicable',\n",
              " 'Not Applicable',\n",
              " 'Not Applicable',\n",
              " 'Not Applicable',\n",
              " 'Not Applicable',\n",
              " 'Not Applicable',\n",
              " 'Not Applicable',\n",
              " 'Not Applicable',\n",
              " 'Not Applicable.',\n",
              " 'Not Applicable',\n",
              " 'Not Applicable',\n",
              " 'Not Applicable',\n",
              " 'Not Applicable',\n",
              " 'Not Applicable',\n",
              " 'Not Applicable',\n",
              " 'Not Applicable',\n",
              " 'Not Applicable']"
            ]
          },
          "execution_count": 113,
          "metadata": {},
          "output_type": "execute_result"
        }
      ],
      "source": [
        "final_section_4_violations"
      ]
    }
  ],
  "metadata": {
    "colab": {
      "provenance": [],
      "toc_visible": true
    },
    "kernelspec": {
      "display_name": "Python 3",
      "name": "python3"
    },
    "language_info": {
      "name": "python"
    }
  },
  "nbformat": 4,
  "nbformat_minor": 0
}
